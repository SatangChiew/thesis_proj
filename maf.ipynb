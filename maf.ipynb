{
 "cells": [
  {
   "cell_type": "code",
   "execution_count": 1,
   "metadata": {},
   "outputs": [],
   "source": [
    "import numpy as np\n",
    "import pandas as pd\n",
    "import os\n",
    "import tensorflow as tf\n",
    "import matplotlib.pyplot as plt\n",
    "import torch\n",
    "import torch.nn as nn\n",
    "import torch.optim as optim\n",
    "import timm\n",
    "\n",
    "from collections import Counter\n",
    "from sklearn.decomposition import PCA\n",
    "from sklearn.preprocessing import MinMaxScaler, LabelEncoder\n",
    "from sklearn.metrics import accuracy_score, precision_score, recall_score, f1_score, confusion_matrix\n",
    "from keras.models import Sequential\n",
    "from keras.layers import LSTM, Dense, Conv2D, MaxPooling2D, Flatten, Dropout\n",
    "from keras.utils import to_categorical\n",
    "from imblearn.over_sampling import SMOTE\n",
    "from pyts.image import GramianAngularField, MarkovTransitionField\n",
    "from io import BytesIO\n",
    "from PIL import Image\n",
    "from torch.utils.data import Dataset, DataLoader\n",
    "from torchvision import transforms"
   ]
  },
  {
   "cell_type": "code",
   "execution_count": 2,
   "metadata": {},
   "outputs": [],
   "source": [
    "# Create a toy time series using the sine function\n",
    "time_points = np.linspace(0, 4 * np.pi, 1000)\n",
    "x = np.sin(time_points)\n",
    "X = np.array([x])\n",
    "\n",
    "# Compute Gramian angular fields\n",
    "mtf = MarkovTransitionField(n_bins=8)\n",
    "X_mtf = mtf.fit_transform(X)\n"
   ]
  },
  {
   "cell_type": "code",
   "execution_count": 7,
   "metadata": {},
   "outputs": [
    {
     "data": {
      "image/png": "[encoded data removed]",
      "text/plain": [
       "<Figure size 600x574.468 with 1 Axes>"
      ]
     },
     "metadata": {},
     "output_type": "display_data"
    }
   ],
   "source": [
    "\n",
    "# Plot the time series and its Markov transition field\n",
    "width_ratios = (2, 7, 0.4)\n",
    "height_ratios = (2, 7)\n",
    "width = 6\n",
    "height = width * sum(height_ratios) / sum(width_ratios)\n",
    "fig = plt.figure(figsize=(width, height))\n",
    "gs = fig.add_gridspec(2, 3,  width_ratios=width_ratios,\n",
    "                      height_ratios=height_ratios,\n",
    "                      left=0.1, right=0.9, bottom=0.1, top=0.9,\n",
    "                      wspace=0.05, hspace=0.05)\n",
    "\n",
    "# # Define the ticks and their labels for both axes\n",
    "# time_ticks = np.linspace(0, 4 * np.pi, 9)\n",
    "# time_ticklabels = [r'$0$', r'$\\frac{\\pi}{2}$', r'$\\pi$',\n",
    "#                    r'$\\frac{3\\pi}{2}$', r'$2\\pi$', r'$\\frac{5\\pi}{2}$',\n",
    "#                    r'$3\\pi$', r'$\\frac{7\\pi}{2}$', r'$4\\pi$']\n",
    "# value_ticks = [-1, 0, 1]\n",
    "# reversed_value_ticks = value_ticks[::-1]\n",
    "\n",
    "# # Plot the time series on the left with inverted axes\n",
    "# ax_left = fig.add_subplot(gs[1, 0])\n",
    "# ax_left.plot(x, time_points)\n",
    "# ax_left.set_xticks(reversed_value_ticks)\n",
    "# ax_left.set_xticklabels(reversed_value_ticks, rotation=90)\n",
    "# ax_left.set_yticks(time_ticks)\n",
    "# ax_left.set_yticklabels(time_ticklabels, rotation=90)\n",
    "# ax_left.set_ylim((0, 4 * np.pi))\n",
    "# ax_left.invert_xaxis()\n",
    "\n",
    "# # Plot the time series on the top\n",
    "# ax_top = fig.add_subplot(gs[0, 1])\n",
    "# ax_top.plot(time_points, x)\n",
    "# ax_top.set_xticks(time_ticks)\n",
    "# ax_top.set_xticklabels(time_ticklabels)\n",
    "# ax_top.set_yticks(value_ticks)\n",
    "# ax_top.set_yticklabels(value_ticks)\n",
    "# ax_top.xaxis.tick_top()\n",
    "# ax_top.set_xlim((0, 4 * np.pi))\n",
    "# ax_top.set_yticklabels(value_ticks)\n",
    "\n",
    "# Plot the Gramian angular fields on the bottom right\n",
    "ax_mtf = fig.add_subplot(gs[1, 1])\n",
    "im = ax_mtf.imshow(X_mtf[0], cmap='rainbow', origin='lower', vmin=0., vmax=1.,\n",
    "                   extent=[0, 4 * np.pi, 0, 4 * np.pi])\n",
    "ax_mtf.set_xticks([])\n",
    "ax_mtf.set_yticks([])\n",
    "ax_mtf.set_title('Markov Transition Field', y=-0.09)\n",
    "\n",
    "# # Add colorbar\n",
    "# ax_cbar = fig.add_subplot(gs[1, 2])\n",
    "# fig.colorbar(im, cax=ax_cbar)\n",
    "\n",
    "plt.show()"
   ]
  },
  {
   "cell_type": "markdown",
   "metadata": {},
   "source": [
    "## Markov Transition Field"
   ]
  },
  {
   "cell_type": "code",
   "execution_count": null,
   "metadata": {},
   "outputs": [],
   "source": [
    "mtf0 = MarkovTransitionField(image_size=PLOTSIZE, n_bins=2)\n",
    "mtf1 = MarkovTransitionField(image_size=PLOTSIZE, n_bins=2)\n",
    "mtf2 = MarkovTransitionField(image_size=PLOTSIZE, n_bins=2)\n",
    "mtf3 = MarkovTransitionField(image_size=PLOTSIZE, n_bins=2)\n",
    "mtf4 = MarkovTransitionField(image_size=PLOTSIZE, n_bins=2)"
   ]
  },
  {
   "cell_type": "code",
   "execution_count": null,
   "metadata": {},
   "outputs": [],
   "source": [
    "mtf_train_f0 = mtf0.fit_transform(data_train_transposed[:, 0, :])\n",
    "mtf_train_f1 = mtf1.fit_transform(data_train_transposed[:, 1, :])\n",
    "mtf_train_f2 = mtf2.fit_transform(data_train_transposed[:, 2, :])\n",
    "mtf_train_f3 = mtf3.fit_transform(data_train_transposed[:, 3, :])\n",
    "mtf_train_f4 = mtf4.fit_transform(data_train_transposed[:, 4, :])"
   ]
  },
  {
   "cell_type": "code",
   "execution_count": null,
   "metadata": {},
   "outputs": [],
   "source": [
    "mtf_train = np.empty((data_train_transposed.shape[0], PLOTSIZE, PLOTSIZE))\n",
    "for i in range(data_train_transposed.shape[0]):\n",
    "    for j in range(PLOTSIZE):\n",
    "        for k in range(PLOTSIZE):\n",
    "            mtf_train[i][j][k] = (mtf_train_f0[i][j][k] + mtf_train_f1[i][j][k] + mtf_train_f2[i][j][k] + mtf_train_f3[i][j][k] + mtf_train_f4[i][j][k])/5"
   ]
  },
  {
   "cell_type": "code",
   "execution_count": null,
   "metadata": {},
   "outputs": [],
   "source": [
    "mtf_img_train_tmp = []\n",
    "\n",
    "for g in mtf_train:\n",
    "    plt.figure(figsize=(6, 6))\n",
    "    plt.imshow(g)\n",
    "    buf = BytesIO()\n",
    "    plt.savefig(buf, format='png')\n",
    "    plt.close()\n",
    "\n",
    "    buf.seek(0)\n",
    "    image = Image.open(buf)\n",
    "    image = image.resize((IMAGESIZE, IMAGESIZE))\n",
    "    image_array = np.array(image)\n",
    "    mtf_img_train_tmp.append(image_array)"
   ]
  },
  {
   "cell_type": "code",
   "execution_count": null,
   "metadata": {},
   "outputs": [
    {
     "data": {
      "text/plain": [
       "(208, 64, 64, 4)"
      ]
     },
     "metadata": {},
     "output_type": "display_data"
    }
   ],
   "source": [
    "mtf_img_train = np.stack(mtf_img_train_tmp, axis=0)\n",
    "mtf_img_train = mtf_img_train/255\n",
    "mtf_img_train.shape"
   ]
  },
  {
   "cell_type": "code",
   "execution_count": null,
   "metadata": {},
   "outputs": [],
   "source": [
    "mtf_test_f0 = mtf0.transform(data_test_transposed[:, 0, :])\n",
    "mtf_test_f1 = mtf1.transform(data_test_transposed[:, 1, :])\n",
    "mtf_test_f2 = mtf2.transform(data_test_transposed[:, 2, :])\n",
    "mtf_test_f3 = mtf3.transform(data_test_transposed[:, 3, :])\n",
    "mtf_test_f4 = mtf4.transform(data_test_transposed[:, 4, :])"
   ]
  },
  {
   "cell_type": "code",
   "execution_count": null,
   "metadata": {},
   "outputs": [],
   "source": [
    "mtf_test = np.empty((data_test_transposed.shape[0], PLOTSIZE, PLOTSIZE))\n",
    "for i in range(data_test_transposed.shape[0]):\n",
    "    for j in range(PLOTSIZE):\n",
    "        for k in range(PLOTSIZE):\n",
    "            mtf_test[i][j][k] = (mtf_test_f0[i][j][k] + mtf_test_f1[i][j][k] + mtf_test_f2[i][j][k] + mtf_test_f3[i][j][k] + mtf_test_f4[i][j][k])/5"
   ]
  },
  {
   "cell_type": "code",
   "execution_count": null,
   "metadata": {},
   "outputs": [],
   "source": [
    "mtf_img_test_tmp = []\n",
    "\n",
    "for g in mtf_test:\n",
    "    plt.figure(figsize=(6, 6))\n",
    "    plt.imshow(g)\n",
    "    buf = BytesIO()\n",
    "    plt.savefig(buf, format='png')\n",
    "    plt.close()\n",
    "\n",
    "    buf.seek(0)\n",
    "    image = Image.open(buf)\n",
    "    image = image.resize((IMAGESIZE, IMAGESIZE))\n",
    "    image_array = np.array(image)\n",
    "    mtf_img_test_tmp.append(image_array)"
   ]
  },
  {
   "cell_type": "code",
   "execution_count": null,
   "metadata": {},
   "outputs": [
    {
     "data": {
      "text/plain": [
       "(53, 64, 64, 4)"
      ]
     },
     "metadata": {},
     "output_type": "display_data"
    }
   ],
   "source": [
    "mtf_img_test = np.stack(mtf_img_test_tmp, axis=0)\n",
    "mtf_img_test = mtf_img_test/255\n",
    "mtf_img_test.shape"
   ]
  },
  {
   "cell_type": "markdown",
   "metadata": {},
   "source": [
    "### CNN"
   ]
  },
  {
   "cell_type": "code",
   "execution_count": null,
   "metadata": {},
   "outputs": [
    {
     "name": "stderr",
     "output_type": "stream",
     "text": [
      "C:\\Users\\satan\\AppData\\Local\\Packages\\PythonSoftwareFoundation.Python.3.11_qbz5n2kfra8p0\\LocalCache\\local-packages\\Python311\\site-packages\\keras\\src\\layers\\convolutional\\base_conv.py:107: UserWarning: Do not pass an `input_shape`/`input_dim` argument to a layer. When using Sequential models, prefer using an `Input(shape)` object as the first layer in the model instead.\n",
      "  super().__init__(activity_regularizer=activity_regularizer, **kwargs)\n"
     ]
    }
   ],
   "source": [
    "tf.random.set_seed(SEED)\n",
    "cnn_mtf = Sequential(name='CNN_MTF')\n",
    "cnn_mtf.add(Conv2D(32, (3, 3), activation='relu', input_shape=(mtf_img_train.shape[1], mtf_img_train.shape[2], mtf_img_train.shape[3])))\n",
    "cnn_mtf.add(MaxPooling2D((2, 2)))\n",
    "cnn_mtf.add(Dropout(0.2))\n",
    "cnn_mtf.add (Conv2D(16, (3, 3), activation='relu'))\n",
    "cnn_mtf.add(MaxPooling2D((2, 2)))\n",
    "cnn_mtf.add(Dropout(0.2))\n",
    "cnn_mtf.add (Conv2D(8, (3, 3), activation='relu'))\n",
    "cnn_mtf.add(Flatten())\n",
    "cnn_mtf.add(Dense(8, activation='relu'))\n",
    "cnn_mtf.add(Dense(NUMCLASS, activation='softmax'))\n",
    "\n",
    "cnn_mtf.compile(optimizer='adam', loss='binary_crossentropy', metrics=['accuracy'])"
   ]
  },
  {
   "cell_type": "code",
   "execution_count": null,
   "metadata": {},
   "outputs": [
    {
     "data": {
      "text/html": [
       "<pre style=\"white-space:pre;overflow-x:auto;line-height:normal;font-family:Menlo,'DejaVu Sans Mono',consolas,'Courier New',monospace\"><span style=\"font-weight: bold\">Model: \"CNN_MTF\"</span>\n",
       "</pre>\n"
      ],
      "text/plain": [
       "\u001b[1mModel: \"CNN_MTF\"\u001b[0m\n"
      ]
     },
     "metadata": {},
     "output_type": "display_data"
    },
    {
     "data": {
      "text/html": [
       "<pre style=\"white-space:pre;overflow-x:auto;line-height:normal;font-family:Menlo,'DejaVu Sans Mono',consolas,'Courier New',monospace\">┏━━━━━━━━━━━━━━━━━━━━━━━━━━━━━━━━━┳━━━━━━━━━━━━━━━━━━━━━━━━┳━━━━━━━━━━━━━━━┓\n",
       "┃<span style=\"font-weight: bold\"> Layer (type)                    </span>┃<span style=\"font-weight: bold\"> Output Shape           </span>┃<span style=\"font-weight: bold\">       Param # </span>┃\n",
       "┡━━━━━━━━━━━━━━━━━━━━━━━━━━━━━━━━━╇━━━━━━━━━━━━━━━━━━━━━━━━╇━━━━━━━━━━━━━━━┩\n",
       "│ conv2d_6 (<span style=\"color: #0087ff; text-decoration-color: #0087ff\">Conv2D</span>)               │ (<span style=\"color: #00d7ff; text-decoration-color: #00d7ff\">None</span>, <span style=\"color: #00af00; text-decoration-color: #00af00\">62</span>, <span style=\"color: #00af00; text-decoration-color: #00af00\">62</span>, <span style=\"color: #00af00; text-decoration-color: #00af00\">32</span>)     │         <span style=\"color: #00af00; text-decoration-color: #00af00\">1,184</span> │\n",
       "├─────────────────────────────────┼────────────────────────┼───────────────┤\n",
       "│ max_pooling2d_6 (<span style=\"color: #0087ff; text-decoration-color: #0087ff\">MaxPooling2D</span>)  │ (<span style=\"color: #00d7ff; text-decoration-color: #00d7ff\">None</span>, <span style=\"color: #00af00; text-decoration-color: #00af00\">31</span>, <span style=\"color: #00af00; text-decoration-color: #00af00\">31</span>, <span style=\"color: #00af00; text-decoration-color: #00af00\">32</span>)     │             <span style=\"color: #00af00; text-decoration-color: #00af00\">0</span> │\n",
       "├─────────────────────────────────┼────────────────────────┼───────────────┤\n",
       "│ dropout_4 (<span style=\"color: #0087ff; text-decoration-color: #0087ff\">Dropout</span>)             │ (<span style=\"color: #00d7ff; text-decoration-color: #00d7ff\">None</span>, <span style=\"color: #00af00; text-decoration-color: #00af00\">31</span>, <span style=\"color: #00af00; text-decoration-color: #00af00\">31</span>, <span style=\"color: #00af00; text-decoration-color: #00af00\">32</span>)     │             <span style=\"color: #00af00; text-decoration-color: #00af00\">0</span> │\n",
       "├─────────────────────────────────┼────────────────────────┼───────────────┤\n",
       "│ conv2d_7 (<span style=\"color: #0087ff; text-decoration-color: #0087ff\">Conv2D</span>)               │ (<span style=\"color: #00d7ff; text-decoration-color: #00d7ff\">None</span>, <span style=\"color: #00af00; text-decoration-color: #00af00\">29</span>, <span style=\"color: #00af00; text-decoration-color: #00af00\">29</span>, <span style=\"color: #00af00; text-decoration-color: #00af00\">16</span>)     │         <span style=\"color: #00af00; text-decoration-color: #00af00\">4,624</span> │\n",
       "├─────────────────────────────────┼────────────────────────┼───────────────┤\n",
       "│ max_pooling2d_7 (<span style=\"color: #0087ff; text-decoration-color: #0087ff\">MaxPooling2D</span>)  │ (<span style=\"color: #00d7ff; text-decoration-color: #00d7ff\">None</span>, <span style=\"color: #00af00; text-decoration-color: #00af00\">14</span>, <span style=\"color: #00af00; text-decoration-color: #00af00\">14</span>, <span style=\"color: #00af00; text-decoration-color: #00af00\">16</span>)     │             <span style=\"color: #00af00; text-decoration-color: #00af00\">0</span> │\n",
       "├─────────────────────────────────┼────────────────────────┼───────────────┤\n",
       "│ dropout_5 (<span style=\"color: #0087ff; text-decoration-color: #0087ff\">Dropout</span>)             │ (<span style=\"color: #00d7ff; text-decoration-color: #00d7ff\">None</span>, <span style=\"color: #00af00; text-decoration-color: #00af00\">14</span>, <span style=\"color: #00af00; text-decoration-color: #00af00\">14</span>, <span style=\"color: #00af00; text-decoration-color: #00af00\">16</span>)     │             <span style=\"color: #00af00; text-decoration-color: #00af00\">0</span> │\n",
       "├─────────────────────────────────┼────────────────────────┼───────────────┤\n",
       "│ conv2d_8 (<span style=\"color: #0087ff; text-decoration-color: #0087ff\">Conv2D</span>)               │ (<span style=\"color: #00d7ff; text-decoration-color: #00d7ff\">None</span>, <span style=\"color: #00af00; text-decoration-color: #00af00\">12</span>, <span style=\"color: #00af00; text-decoration-color: #00af00\">12</span>, <span style=\"color: #00af00; text-decoration-color: #00af00\">8</span>)      │         <span style=\"color: #00af00; text-decoration-color: #00af00\">1,160</span> │\n",
       "├─────────────────────────────────┼────────────────────────┼───────────────┤\n",
       "│ flatten_2 (<span style=\"color: #0087ff; text-decoration-color: #0087ff\">Flatten</span>)             │ (<span style=\"color: #00d7ff; text-decoration-color: #00d7ff\">None</span>, <span style=\"color: #00af00; text-decoration-color: #00af00\">1152</span>)           │             <span style=\"color: #00af00; text-decoration-color: #00af00\">0</span> │\n",
       "├─────────────────────────────────┼────────────────────────┼───────────────┤\n",
       "│ dense_6 (<span style=\"color: #0087ff; text-decoration-color: #0087ff\">Dense</span>)                 │ (<span style=\"color: #00d7ff; text-decoration-color: #00d7ff\">None</span>, <span style=\"color: #00af00; text-decoration-color: #00af00\">8</span>)              │         <span style=\"color: #00af00; text-decoration-color: #00af00\">9,224</span> │\n",
       "├─────────────────────────────────┼────────────────────────┼───────────────┤\n",
       "│ dense_7 (<span style=\"color: #0087ff; text-decoration-color: #0087ff\">Dense</span>)                 │ (<span style=\"color: #00d7ff; text-decoration-color: #00d7ff\">None</span>, <span style=\"color: #00af00; text-decoration-color: #00af00\">2</span>)              │            <span style=\"color: #00af00; text-decoration-color: #00af00\">18</span> │\n",
       "└─────────────────────────────────┴────────────────────────┴───────────────┘\n",
       "</pre>\n"
      ],
      "text/plain": [
       "┏━━━━━━━━━━━━━━━━━━━━━━━━━━━━━━━━━┳━━━━━━━━━━━━━━━━━━━━━━━━┳━━━━━━━━━━━━━━━┓\n",
       "┃\u001b[1m \u001b[0m\u001b[1mLayer (type)                   \u001b[0m\u001b[1m \u001b[0m┃\u001b[1m \u001b[0m\u001b[1mOutput Shape          \u001b[0m\u001b[1m \u001b[0m┃\u001b[1m \u001b[0m\u001b[1m      Param #\u001b[0m\u001b[1m \u001b[0m┃\n",
       "┡━━━━━━━━━━━━━━━━━━━━━━━━━━━━━━━━━╇━━━━━━━━━━━━━━━━━━━━━━━━╇━━━━━━━━━━━━━━━┩\n",
       "│ conv2d_6 (\u001b[38;5;33mConv2D\u001b[0m)               │ (\u001b[38;5;45mNone\u001b[0m, \u001b[38;5;34m62\u001b[0m, \u001b[38;5;34m62\u001b[0m, \u001b[38;5;34m32\u001b[0m)     │         \u001b[38;5;34m1,184\u001b[0m │\n",
       "├─────────────────────────────────┼────────────────────────┼───────────────┤\n",
       "│ max_pooling2d_6 (\u001b[38;5;33mMaxPooling2D\u001b[0m)  │ (\u001b[38;5;45mNone\u001b[0m, \u001b[38;5;34m31\u001b[0m, \u001b[38;5;34m31\u001b[0m, \u001b[38;5;34m32\u001b[0m)     │             \u001b[38;5;34m0\u001b[0m │\n",
       "├─────────────────────────────────┼────────────────────────┼───────────────┤\n",
       "│ dropout_4 (\u001b[38;5;33mDropout\u001b[0m)             │ (\u001b[38;5;45mNone\u001b[0m, \u001b[38;5;34m31\u001b[0m, \u001b[38;5;34m31\u001b[0m, \u001b[38;5;34m32\u001b[0m)     │             \u001b[38;5;34m0\u001b[0m │\n",
       "├─────────────────────────────────┼────────────────────────┼───────────────┤\n",
       "│ conv2d_7 (\u001b[38;5;33mConv2D\u001b[0m)               │ (\u001b[38;5;45mNone\u001b[0m, \u001b[38;5;34m29\u001b[0m, \u001b[38;5;34m29\u001b[0m, \u001b[38;5;34m16\u001b[0m)     │         \u001b[38;5;34m4,624\u001b[0m │\n",
       "├─────────────────────────────────┼────────────────────────┼───────────────┤\n",
       "│ max_pooling2d_7 (\u001b[38;5;33mMaxPooling2D\u001b[0m)  │ (\u001b[38;5;45mNone\u001b[0m, \u001b[38;5;34m14\u001b[0m, \u001b[38;5;34m14\u001b[0m, \u001b[38;5;34m16\u001b[0m)     │             \u001b[38;5;34m0\u001b[0m │\n",
       "├─────────────────────────────────┼────────────────────────┼───────────────┤\n",
       "│ dropout_5 (\u001b[38;5;33mDropout\u001b[0m)             │ (\u001b[38;5;45mNone\u001b[0m, \u001b[38;5;34m14\u001b[0m, \u001b[38;5;34m14\u001b[0m, \u001b[38;5;34m16\u001b[0m)     │             \u001b[38;5;34m0\u001b[0m │\n",
       "├─────────────────────────────────┼────────────────────────┼───────────────┤\n",
       "│ conv2d_8 (\u001b[38;5;33mConv2D\u001b[0m)               │ (\u001b[38;5;45mNone\u001b[0m, \u001b[38;5;34m12\u001b[0m, \u001b[38;5;34m12\u001b[0m, \u001b[38;5;34m8\u001b[0m)      │         \u001b[38;5;34m1,160\u001b[0m │\n",
       "├─────────────────────────────────┼────────────────────────┼───────────────┤\n",
       "│ flatten_2 (\u001b[38;5;33mFlatten\u001b[0m)             │ (\u001b[38;5;45mNone\u001b[0m, \u001b[38;5;34m1152\u001b[0m)           │             \u001b[38;5;34m0\u001b[0m │\n",
       "├─────────────────────────────────┼────────────────────────┼───────────────┤\n",
       "│ dense_6 (\u001b[38;5;33mDense\u001b[0m)                 │ (\u001b[38;5;45mNone\u001b[0m, \u001b[38;5;34m8\u001b[0m)              │         \u001b[38;5;34m9,224\u001b[0m │\n",
       "├─────────────────────────────────┼────────────────────────┼───────────────┤\n",
       "│ dense_7 (\u001b[38;5;33mDense\u001b[0m)                 │ (\u001b[38;5;45mNone\u001b[0m, \u001b[38;5;34m2\u001b[0m)              │            \u001b[38;5;34m18\u001b[0m │\n",
       "└─────────────────────────────────┴────────────────────────┴───────────────┘\n"
      ]
     },
     "metadata": {},
     "output_type": "display_data"
    },
    {
     "data": {
      "text/html": [
       "<pre style=\"white-space:pre;overflow-x:auto;line-height:normal;font-family:Menlo,'DejaVu Sans Mono',consolas,'Courier New',monospace\"><span style=\"font-weight: bold\"> Total params: </span><span style=\"color: #00af00; text-decoration-color: #00af00\">16,210</span> (63.32 KB)\n",
       "</pre>\n"
      ],
      "text/plain": [
       "\u001b[1m Total params: \u001b[0m\u001b[38;5;34m16,210\u001b[0m (63.32 KB)\n"
      ]
     },
     "metadata": {},
     "output_type": "display_data"
    },
    {
     "data": {
      "text/html": [
       "<pre style=\"white-space:pre;overflow-x:auto;line-height:normal;font-family:Menlo,'DejaVu Sans Mono',consolas,'Courier New',monospace\"><span style=\"font-weight: bold\"> Trainable params: </span><span style=\"color: #00af00; text-decoration-color: #00af00\">16,210</span> (63.32 KB)\n",
       "</pre>\n"
      ],
      "text/plain": [
       "\u001b[1m Trainable params: \u001b[0m\u001b[38;5;34m16,210\u001b[0m (63.32 KB)\n"
      ]
     },
     "metadata": {},
     "output_type": "display_data"
    },
    {
     "data": {
      "text/html": [
       "<pre style=\"white-space:pre;overflow-x:auto;line-height:normal;font-family:Menlo,'DejaVu Sans Mono',consolas,'Courier New',monospace\"><span style=\"font-weight: bold\"> Non-trainable params: </span><span style=\"color: #00af00; text-decoration-color: #00af00\">0</span> (0.00 B)\n",
       "</pre>\n"
      ],
      "text/plain": [
       "\u001b[1m Non-trainable params: \u001b[0m\u001b[38;5;34m0\u001b[0m (0.00 B)\n"
      ]
     },
     "metadata": {},
     "output_type": "display_data"
    }
   ],
   "source": [
    "cnn_mtf.summary()"
   ]
  },
  {
   "cell_type": "code",
   "execution_count": null,
   "metadata": {},
   "outputs": [
    {
     "name": "stdout",
     "output_type": "stream",
     "text": [
      "Epoch 1/30\n",
      "\u001b[1m6/6\u001b[0m \u001b[32m━━━━━━━━━━━━━━━━━━━━\u001b[0m\u001b[37m\u001b[0m \u001b[1m1s\u001b[0m 34ms/step - accuracy: 0.6026 - loss: 0.6764 - val_accuracy: 0.7857 - val_loss: 0.5804\n",
      "Epoch 2/30\n",
      "\u001b[1m6/6\u001b[0m \u001b[32m━━━━━━━━━━━━━━━━━━━━\u001b[0m\u001b[37m\u001b[0m \u001b[1m0s\u001b[0m 13ms/step - accuracy: 0.7888 - loss: 0.5127 - val_accuracy: 0.7857 - val_loss: 0.5492\n",
      "Epoch 3/30\n",
      "\u001b[1m6/6\u001b[0m \u001b[32m━━━━━━━━━━━━━━━━━━━━\u001b[0m\u001b[37m\u001b[0m \u001b[1m0s\u001b[0m 14ms/step - accuracy: 0.7888 - loss: 0.6132 - val_accuracy: 0.7857 - val_loss: 0.5219\n",
      "Epoch 4/30\n",
      "\u001b[1m6/6\u001b[0m \u001b[32m━━━━━━━━━━━━━━━━━━━━\u001b[0m\u001b[37m\u001b[0m \u001b[1m0s\u001b[0m 12ms/step - accuracy: 0.7888 - loss: 0.5222 - val_accuracy: 0.7857 - val_loss: 0.5347\n",
      "Epoch 5/30\n",
      "\u001b[1m6/6\u001b[0m \u001b[32m━━━━━━━━━━━━━━━━━━━━\u001b[0m\u001b[37m\u001b[0m \u001b[1m0s\u001b[0m 12ms/step - accuracy: 0.7888 - loss: 0.5163 - val_accuracy: 0.7857 - val_loss: 0.5175\n",
      "Epoch 6/30\n",
      "\u001b[1m6/6\u001b[0m \u001b[32m━━━━━━━━━━━━━━━━━━━━\u001b[0m\u001b[37m\u001b[0m \u001b[1m0s\u001b[0m 13ms/step - accuracy: 0.7888 - loss: 0.5255 - val_accuracy: 0.7857 - val_loss: 0.5141\n",
      "Epoch 7/30\n",
      "\u001b[1m6/6\u001b[0m \u001b[32m━━━━━━━━━━━━━━━━━━━━\u001b[0m\u001b[37m\u001b[0m \u001b[1m0s\u001b[0m 13ms/step - accuracy: 0.7888 - loss: 0.5357 - val_accuracy: 0.7857 - val_loss: 0.5127\n",
      "Epoch 8/30\n",
      "\u001b[1m6/6\u001b[0m \u001b[32m━━━━━━━━━━━━━━━━━━━━\u001b[0m\u001b[37m\u001b[0m \u001b[1m0s\u001b[0m 12ms/step - accuracy: 0.7888 - loss: 0.5299 - val_accuracy: 0.7857 - val_loss: 0.5145\n",
      "Epoch 9/30\n",
      "\u001b[1m6/6\u001b[0m \u001b[32m━━━━━━━━━━━━━━━━━━━━\u001b[0m\u001b[37m\u001b[0m \u001b[1m0s\u001b[0m 14ms/step - accuracy: 0.7888 - loss: 0.5094 - val_accuracy: 0.7857 - val_loss: 0.5093\n",
      "Epoch 10/30\n",
      "\u001b[1m6/6\u001b[0m \u001b[32m━━━━━━━━━━━━━━━━━━━━\u001b[0m\u001b[37m\u001b[0m \u001b[1m0s\u001b[0m 13ms/step - accuracy: 0.7888 - loss: 0.5286 - val_accuracy: 0.7857 - val_loss: 0.5060\n",
      "Epoch 11/30\n",
      "\u001b[1m6/6\u001b[0m \u001b[32m━━━━━━━━━━━━━━━━━━━━\u001b[0m\u001b[37m\u001b[0m \u001b[1m0s\u001b[0m 12ms/step - accuracy: 0.7888 - loss: 0.5296 - val_accuracy: 0.7857 - val_loss: 0.5066\n",
      "Epoch 12/30\n",
      "\u001b[1m6/6\u001b[0m \u001b[32m━━━━━━━━━━━━━━━━━━━━\u001b[0m\u001b[37m\u001b[0m \u001b[1m0s\u001b[0m 13ms/step - accuracy: 0.7888 - loss: 0.5187 - val_accuracy: 0.7857 - val_loss: 0.5054\n",
      "Epoch 13/30\n",
      "\u001b[1m6/6\u001b[0m \u001b[32m━━━━━━━━━━━━━━━━━━━━\u001b[0m\u001b[37m\u001b[0m \u001b[1m0s\u001b[0m 12ms/step - accuracy: 0.7888 - loss: 0.5243 - val_accuracy: 0.7857 - val_loss: 0.5026\n",
      "Epoch 14/30\n",
      "\u001b[1m6/6\u001b[0m \u001b[32m━━━━━━━━━━━━━━━━━━━━\u001b[0m\u001b[37m\u001b[0m \u001b[1m0s\u001b[0m 12ms/step - accuracy: 0.7888 - loss: 0.5214 - val_accuracy: 0.7857 - val_loss: 0.4996\n",
      "Epoch 15/30\n",
      "\u001b[1m6/6\u001b[0m \u001b[32m━━━━━━━━━━━━━━━━━━━━\u001b[0m\u001b[37m\u001b[0m \u001b[1m0s\u001b[0m 12ms/step - accuracy: 0.7888 - loss: 0.5162 - val_accuracy: 0.7857 - val_loss: 0.4965\n",
      "Epoch 16/30\n",
      "\u001b[1m6/6\u001b[0m \u001b[32m━━━━━━━━━━━━━━━━━━━━\u001b[0m\u001b[37m\u001b[0m \u001b[1m0s\u001b[0m 12ms/step - accuracy: 0.7888 - loss: 0.5284 - val_accuracy: 0.7857 - val_loss: 0.4957\n",
      "Epoch 17/30\n",
      "\u001b[1m6/6\u001b[0m \u001b[32m━━━━━━━━━━━━━━━━━━━━\u001b[0m\u001b[37m\u001b[0m \u001b[1m0s\u001b[0m 12ms/step - accuracy: 0.7888 - loss: 0.5118 - val_accuracy: 0.7857 - val_loss: 0.4935\n",
      "Epoch 18/30\n",
      "\u001b[1m6/6\u001b[0m \u001b[32m━━━━━━━━━━━━━━━━━━━━\u001b[0m\u001b[37m\u001b[0m \u001b[1m0s\u001b[0m 14ms/step - accuracy: 0.7888 - loss: 0.5160 - val_accuracy: 0.7857 - val_loss: 0.4905\n",
      "Epoch 19/30\n",
      "\u001b[1m6/6\u001b[0m \u001b[32m━━━━━━━━━━━━━━━━━━━━\u001b[0m\u001b[37m\u001b[0m \u001b[1m0s\u001b[0m 12ms/step - accuracy: 0.7888 - loss: 0.5169 - val_accuracy: 0.7857 - val_loss: 0.4872\n",
      "Epoch 20/30\n",
      "\u001b[1m6/6\u001b[0m \u001b[32m━━━━━━━━━━━━━━━━━━━━\u001b[0m\u001b[37m\u001b[0m \u001b[1m0s\u001b[0m 14ms/step - accuracy: 0.7888 - loss: 0.5096 - val_accuracy: 0.7857 - val_loss: 0.4847\n",
      "Epoch 21/30\n",
      "\u001b[1m6/6\u001b[0m \u001b[32m━━━━━━━━━━━━━━━━━━━━\u001b[0m\u001b[37m\u001b[0m \u001b[1m0s\u001b[0m 13ms/step - accuracy: 0.7888 - loss: 0.5114 - val_accuracy: 0.7857 - val_loss: 0.4835\n",
      "Epoch 22/30\n",
      "\u001b[1m6/6\u001b[0m \u001b[32m━━━━━━━━━━━━━━━━━━━━\u001b[0m\u001b[37m\u001b[0m \u001b[1m0s\u001b[0m 13ms/step - accuracy: 0.7888 - loss: 0.5034 - val_accuracy: 0.7857 - val_loss: 0.4789\n",
      "Epoch 23/30\n",
      "\u001b[1m6/6\u001b[0m \u001b[32m━━━━━━━━━━━━━━━━━━━━\u001b[0m\u001b[37m\u001b[0m \u001b[1m0s\u001b[0m 14ms/step - accuracy: 0.7888 - loss: 0.5170 - val_accuracy: 0.7857 - val_loss: 0.4745\n",
      "Epoch 24/30\n",
      "\u001b[1m6/6\u001b[0m \u001b[32m━━━━━━━━━━━━━━━━━━━━\u001b[0m\u001b[37m\u001b[0m \u001b[1m0s\u001b[0m 13ms/step - accuracy: 0.7888 - loss: 0.5117 - val_accuracy: 0.7857 - val_loss: 0.4734\n",
      "Epoch 25/30\n",
      "\u001b[1m6/6\u001b[0m \u001b[32m━━━━━━━━━━━━━━━━━━━━\u001b[0m\u001b[37m\u001b[0m \u001b[1m0s\u001b[0m 13ms/step - accuracy: 0.7888 - loss: 0.5116 - val_accuracy: 0.7857 - val_loss: 0.4701\n",
      "Epoch 26/30\n",
      "\u001b[1m6/6\u001b[0m \u001b[32m━━━━━━━━━━━━━━━━━━━━\u001b[0m\u001b[37m\u001b[0m \u001b[1m0s\u001b[0m 13ms/step - accuracy: 0.7888 - loss: 0.5069 - val_accuracy: 0.7857 - val_loss: 0.4691\n",
      "Epoch 27/30\n",
      "\u001b[1m6/6\u001b[0m \u001b[32m━━━━━━━━━━━━━━━━━━━━\u001b[0m\u001b[37m\u001b[0m \u001b[1m0s\u001b[0m 14ms/step - accuracy: 0.7888 - loss: 0.4973 - val_accuracy: 0.7857 - val_loss: 0.4681\n",
      "Epoch 28/30\n",
      "\u001b[1m6/6\u001b[0m \u001b[32m━━━━━━━━━━━━━━━━━━━━\u001b[0m\u001b[37m\u001b[0m \u001b[1m0s\u001b[0m 13ms/step - accuracy: 0.7888 - loss: 0.5047 - val_accuracy: 0.7857 - val_loss: 0.4647\n",
      "Epoch 29/30\n",
      "\u001b[1m6/6\u001b[0m \u001b[32m━━━━━━━━━━━━━━━━━━━━\u001b[0m\u001b[37m\u001b[0m \u001b[1m0s\u001b[0m 13ms/step - accuracy: 0.7888 - loss: 0.4983 - val_accuracy: 0.7857 - val_loss: 0.4617\n",
      "Epoch 30/30\n",
      "\u001b[1m6/6\u001b[0m \u001b[32m━━━━━━━━━━━━━━━━━━━━\u001b[0m\u001b[37m\u001b[0m \u001b[1m0s\u001b[0m 13ms/step - accuracy: 0.7888 - loss: 0.5030 - val_accuracy: 0.7857 - val_loss: 0.4598\n"
     ]
    }
   ],
   "source": [
    "tf.random.set_seed(SEED)\n",
    "cnn_mtf_history = cnn_mtf.fit(mtf_img_train, to_categorical(y_train_int), epochs=EPOCH, batch_size=BATCHSIZE, validation_split=VAL)"
   ]
  },
  {
   "cell_type": "code",
   "execution_count": null,
   "metadata": {},
   "outputs": [
    {
     "name": "stderr",
     "output_type": "stream",
     "text": [
      "WARNING:absl:You are saving your model as an HDF5 file via `model.save()` or `keras.saving.save_model(model)`. This file format is considered legacy. We recommend using instead the native Keras format, e.g. `model.save('my_model.keras')` or `keras.saving.save_model(model, 'my_model.keras')`. \n"
     ]
    }
   ],
   "source": [
    "cnn_mtf.save(f'{BASE}/Models/cnn_mtf.h5')"
   ]
  },
  {
   "cell_type": "markdown",
   "metadata": {},
   "source": [
    "### ViT"
   ]
  },
  {
   "cell_type": "code",
   "execution_count": null,
   "metadata": {},
   "outputs": [],
   "source": [
    "np.random.seed(SEED)\n",
    "torch.manual_seed(SEED)\n",
    "g = torch.Generator()\n",
    "g.manual_seed(SEED)\n",
    "mtf_train_dataloader = DataLoader(NumpyDataset(mtf_img_train, y_train_int, transform), batch_size=BATCHSIZE, shuffle=False, worker_init_fn=np.random.seed(SEED), generator=g)\n",
    "mtf_test_dataloader = DataLoader(NumpyDataset(mtf_img_test, y_test_int, transform), batch_size=BATCHSIZE, shuffle=False, worker_init_fn=np.random.seed(SEED), generator=g)"
   ]
  },
  {
   "cell_type": "code",
   "execution_count": null,
   "metadata": {},
   "outputs": [],
   "source": [
    "torch.manual_seed(SEED)\n",
    "device = torch.device('cpu')\n",
    "vit_mtf = timm.create_model('vit_base_patch16_224', pretrained=True)\n",
    "vit_mtf.head = nn.Linear(vit_mtf.head.in_features, NUMCLASS)\n",
    "vit_mtf = vit_mtf.to(device)"
   ]
  },
  {
   "cell_type": "code",
   "execution_count": null,
   "metadata": {},
   "outputs": [],
   "source": [
    "for param in vit_mtf.parameters():\n",
    "    param.requires_grad = False\n",
    "for param in vit_mtf.head.parameters():\n",
    "    param.requires_grad = True"
   ]
  },
  {
   "cell_type": "code",
   "execution_count": null,
   "metadata": {},
   "outputs": [
    {
     "name": "stdout",
     "output_type": "stream",
     "text": [
      "Total parameters: 85,800,194\n",
      "Trainable parameters: 1,538\n"
     ]
    }
   ],
   "source": [
    "total_params = sum(p.numel() for p in vit_mtf.parameters())\n",
    "print(f'Total parameters: {total_params:,}')\n",
    "total_trainable_params = sum(p.numel() for p in vit_mtf.parameters() if p.requires_grad)\n",
    "print(f'Trainable parameters: {total_trainable_params:,}')"
   ]
  },
  {
   "cell_type": "code",
   "execution_count": null,
   "metadata": {},
   "outputs": [
    {
     "name": "stdout",
     "output_type": "stream",
     "text": [
      "Epoch 1/30, Loss: 0.7468\n",
      "Epoch 2/30, Loss: 0.5437\n",
      "Epoch 3/30, Loss: 0.4706\n",
      "Epoch 4/30, Loss: 0.4372\n",
      "Epoch 5/30, Loss: 0.4020\n",
      "Epoch 6/30, Loss: 0.3875\n",
      "Epoch 7/30, Loss: 0.3776\n",
      "Epoch 8/30, Loss: 0.3641\n",
      "Epoch 9/30, Loss: 0.3578\n",
      "Epoch 10/30, Loss: 0.3487\n",
      "Epoch 11/30, Loss: 0.3429\n",
      "Epoch 12/30, Loss: 0.3371\n",
      "Epoch 13/30, Loss: 0.3315\n",
      "Epoch 14/30, Loss: 0.3270\n",
      "Epoch 15/30, Loss: 0.3221\n",
      "Epoch 16/30, Loss: 0.3181\n",
      "Epoch 17/30, Loss: 0.3140\n",
      "Epoch 18/30, Loss: 0.3104\n",
      "Epoch 19/30, Loss: 0.3068\n",
      "Epoch 20/30, Loss: 0.3036\n",
      "Epoch 21/30, Loss: 0.3004\n",
      "Epoch 22/30, Loss: 0.2974\n",
      "Epoch 23/30, Loss: 0.2946\n",
      "Epoch 24/30, Loss: 0.2919\n",
      "Epoch 25/30, Loss: 0.2893\n",
      "Epoch 26/30, Loss: 0.2867\n",
      "Epoch 27/30, Loss: 0.2843\n",
      "Epoch 28/30, Loss: 0.2820\n",
      "Epoch 29/30, Loss: 0.2797\n",
      "Epoch 30/30, Loss: 0.2775\n"
     ]
    }
   ],
   "source": [
    "torch.manual_seed(SEED)\n",
    "criterion = nn.CrossEntropyLoss()\n",
    "optimizer = optim.Adam(vit_mtf.head.parameters(), lr=0.001)\n",
    "\n",
    "for epoch in range(EPOCH):\n",
    "    vit_mtf.train()\n",
    "    running_loss = 0\n",
    "\n",
    "    for inputs, labels in mtf_train_dataloader:\n",
    "        inputs, labels = inputs.to(device), labels.to(device)\n",
    "\n",
    "        optimizer.zero_grad()\n",
    "\n",
    "        outputs = vit_mtf(inputs)\n",
    "        loss = criterion(outputs, labels)\n",
    "        loss.backward()\n",
    "        optimizer.step()\n",
    "\n",
    "        running_loss += loss.item() * inputs.size(0)\n",
    "\n",
    "    epoch_loss = running_loss / len(mtf_train_dataloader.dataset)\n",
    "    print(f\"Epoch {epoch + 1}/{EPOCH}, Loss: {epoch_loss:.4f}\")"
   ]
  },
  {
   "cell_type": "code",
   "execution_count": null,
   "metadata": {},
   "outputs": [],
   "source": [
    "torch.save(vit_mtf.state_dict(), f'{BASE}/Models/vit_mtf.pth')"
   ]
  },
  {
   "cell_type": "markdown",
   "metadata": {},
   "source": [
    "### Evaluation"
   ]
  },
  {
   "cell_type": "markdown",
   "metadata": {},
   "source": [
    "#### CNN"
   ]
  },
  {
   "cell_type": "code",
   "execution_count": null,
   "metadata": {},
   "outputs": [
    {
     "name": "stdout",
     "output_type": "stream",
     "text": [
      "\u001b[1m2/2\u001b[0m \u001b[32m━━━━━━━━━━━━━━━━━━━━\u001b[0m\u001b[37m\u001b[0m \u001b[1m0s\u001b[0m 38ms/step\n"
     ]
    }
   ],
   "source": [
    "tf.random.set_seed(SEED)\n",
    "cnn_mtf_pred = cnn_mtf.predict(mtf_img_test)"
   ]
  },
  {
   "cell_type": "code",
   "execution_count": null,
   "metadata": {},
   "outputs": [],
   "source": [
    "cnn_mtf_pred_int = np.argmax(cnn_mtf_pred, axis=1)"
   ]
  },
  {
   "cell_type": "code",
   "execution_count": null,
   "metadata": {},
   "outputs": [
    {
     "name": "stdout",
     "output_type": "stream",
     "text": [
      "Accuracy: 0.7924528301886793\n",
      "Precision: 0.39622641509433965\n",
      "Recall: 0.5\n",
      "F1-Score: 0.4421052631578947\n"
     ]
    },
    {
     "name": "stderr",
     "output_type": "stream",
     "text": [
      "C:\\Users\\satan\\AppData\\Local\\Packages\\PythonSoftwareFoundation.Python.3.11_qbz5n2kfra8p0\\LocalCache\\local-packages\\Python311\\site-packages\\sklearn\\metrics\\_classification.py:1517: UndefinedMetricWarning: Precision is ill-defined and being set to 0.0 in labels with no predicted samples. Use `zero_division` parameter to control this behavior.\n",
      "  _warn_prf(average, modifier, f\"{metric.capitalize()} is\", len(result))\n"
     ]
    }
   ],
   "source": [
    "print('Accuracy:', accuracy_score(y_test_int, cnn_mtf_pred_int))\n",
    "print('Precision:', precision_score(y_test_int, cnn_mtf_pred_int, average='macro'))\n",
    "print('Recall:', recall_score(y_test_int, cnn_mtf_pred_int, average='macro'))\n",
    "print('F1-Score:', f1_score(y_test_int, cnn_mtf_pred_int, average='macro'))"
   ]
  },
  {
   "cell_type": "code",
   "execution_count": null,
   "metadata": {},
   "outputs": [
    {
     "data": {
      "image/png": "[encoded data removed]",
      "text/plain": [
       "<Figure size 800x600 with 2 Axes>"
      ]
     },
     "metadata": {},
     "output_type": "display_data"
    }
   ],
   "source": [
    "confusionMatrix_cnn_mtf = confusion_matrix(y_test_int, cnn_mtf_pred_int, normalize='true')\n",
    "\n",
    "plt.figure(figsize=(8, 6))\n",
    "plt.imshow(confusionMatrix_cnn_mtf, cmap=plt.cm.Blues, vmin=0, vmax=1)\n",
    "plt.colorbar()\n",
    "tick_marks = np.arange(len(classes))\n",
    "plt.xticks(tick_marks, classes)\n",
    "plt.yticks(tick_marks, classes)\n",
    "plt.xlabel('Predicted Label')\n",
    "plt.ylabel('Actual Label')\n",
    "\n",
    "for i in range(confusionMatrix_cnn_mtf.shape[0]):\n",
    "    for j in range(confusionMatrix_cnn_mtf.shape[1]):\n",
    "        plt.text(j, i, format(confusionMatrix_cnn_mtf[i, j], '.2f'), ha='center', va='center', color='white' if confusionMatrix_cnn_mtf[i, j] > 0.5 else 'black')\n",
    "\n",
    "plt.tight_layout()\n",
    "plt.show()"
   ]
  },
  {
   "cell_type": "markdown",
   "metadata": {},
   "source": [
    "#### ViT"
   ]
  },
  {
   "cell_type": "code",
   "execution_count": null,
   "metadata": {},
   "outputs": [],
   "source": [
    "vit_mtf_pred_int = evaluate(vit_mtf, mtf_test_dataloader, device)"
   ]
  },
  {
   "cell_type": "code",
   "execution_count": null,
   "metadata": {},
   "outputs": [
    {
     "name": "stdout",
     "output_type": "stream",
     "text": [
      "Accuracy: 0.7924528301886793\n",
      "Precision: 0.6581632653061225\n",
      "Recall: 0.5670995670995671\n",
      "F1-Score: 0.5728937728937729\n"
     ]
    }
   ],
   "source": [
    "print('Accuracy:', accuracy_score(y_test_int, vit_mtf_pred_int))\n",
    "print('Precision:', precision_score(y_test_int, vit_mtf_pred_int, average='macro'))\n",
    "print('Recall:', recall_score(y_test_int, vit_mtf_pred_int, average='macro'))\n",
    "print('F1-Score:', f1_score(y_test_int, vit_mtf_pred_int, average='macro'))"
   ]
  },
  {
   "cell_type": "code",
   "execution_count": null,
   "metadata": {},
   "outputs": [
    {
     "data": {
      "image/png": "[encoded data removed]",
      "text/plain": [
       "<Figure size 800x600 with 2 Axes>"
      ]
     },
     "metadata": {},
     "output_type": "display_data"
    }
   ],
   "source": [
    "confusionMatrix_vit_mtf = confusion_matrix(y_test_int, vit_mtf_pred_int, normalize='true')\n",
    "\n",
    "plt.figure(figsize=(8, 6))\n",
    "plt.imshow(confusionMatrix_vit_mtf, cmap=plt.cm.Blues, vmin=0, vmax=1)\n",
    "plt.colorbar()\n",
    "tick_marks = np.arange(len(classes))\n",
    "plt.xticks(tick_marks, classes)\n",
    "plt.yticks(tick_marks, classes)\n",
    "plt.xlabel('Predicted Label')\n",
    "plt.ylabel('Actual Label')\n",
    "\n",
    "for i in range(confusionMatrix_vit_mtf.shape[0]):\n",
    "    for j in range(confusionMatrix_vit_mtf.shape[1]):\n",
    "        plt.text(j, i, format(confusionMatrix_vit_mtf[i, j], '.2f'), ha='center', va='center', color='white' if confusionMatrix_vit_mtf[i, j] > 0.5 else 'black')\n",
    "\n",
    "plt.tight_layout()\n",
    "plt.show()"
   ]
  },
  {
   "cell_type": "markdown",
   "metadata": {},
   "source": [
    "### MTF Augmentation"
   ]
  },
  {
   "cell_type": "code",
   "execution_count": null,
   "metadata": {},
   "outputs": [],
   "source": [
    "mtf0_aug = MarkovTransitionField(image_size=PLOTSIZE, n_bins=2)\n",
    "mtf1_aug = MarkovTransitionField(image_size=PLOTSIZE, n_bins=2)\n",
    "mtf2_aug = MarkovTransitionField(image_size=PLOTSIZE, n_bins=2)\n",
    "mtf3_aug = MarkovTransitionField(image_size=PLOTSIZE, n_bins=2)\n",
    "mtf4_aug = MarkovTransitionField(image_size=PLOTSIZE, n_bins=2)"
   ]
  },
  {
   "cell_type": "code",
   "execution_count": null,
   "metadata": {},
   "outputs": [],
   "source": [
    "mtf_train_aug_f0 = mtf0_aug.fit_transform(data_train_aug_transposed[:, 0, :])\n",
    "mtf_train_aug_f1 = mtf1_aug.fit_transform(data_train_aug_transposed[:, 1, :])\n",
    "mtf_train_aug_f2 = mtf2_aug.fit_transform(data_train_aug_transposed[:, 2, :])\n",
    "mtf_train_aug_f3 = mtf3_aug.fit_transform(data_train_aug_transposed[:, 3, :])\n",
    "mtf_train_aug_f4 = mtf4_aug.fit_transform(data_train_aug_transposed[:, 4, :])"
   ]
  },
  {
   "cell_type": "code",
   "execution_count": null,
   "metadata": {},
   "outputs": [],
   "source": [
    "mtf_train_aug = np.empty((data_train_aug_transposed.shape[0], PLOTSIZE, PLOTSIZE))\n",
    "for i in range(data_train_aug_transposed.shape[0]):\n",
    "    for j in range(PLOTSIZE):\n",
    "        for k in range(PLOTSIZE):\n",
    "            mtf_train_aug[i][j][k] = (mtf_train_aug_f0[i][j][k] + mtf_train_aug_f1[i][j][k] + mtf_train_aug_f2[i][j][k] + mtf_train_aug_f3[i][j][k] + mtf_train_aug_f4[i][j][k])/5"
   ]
  },
  {
   "cell_type": "code",
   "execution_count": null,
   "metadata": {},
   "outputs": [],
   "source": [
    "mtf_img_train_aug_tmp = []\n",
    "\n",
    "for g in mtf_train_aug:\n",
    "    plt.figure(figsize=(6, 6))\n",
    "    plt.imshow(g)\n",
    "    buf = BytesIO()\n",
    "    plt.savefig(buf, format='png')\n",
    "    plt.close()\n",
    "\n",
    "    buf.seek(0)\n",
    "    image = Image.open(buf)\n",
    "    image = image.resize((IMAGESIZE, IMAGESIZE))\n",
    "    image_array = np.array(image)\n",
    "    mtf_img_train_aug_tmp.append(image_array)"
   ]
  },
  {
   "cell_type": "code",
   "execution_count": null,
   "metadata": {},
   "outputs": [
    {
     "data": {
      "text/plain": [
       "(336, 64, 64, 4)"
      ]
     },
     "metadata": {},
     "output_type": "display_data"
    }
   ],
   "source": [
    "mtf_img_train_aug = np.stack(mtf_img_train_aug_tmp, axis=0)\n",
    "mtf_img_train_aug = mtf_img_train_aug/255\n",
    "mtf_img_train_aug.shape"
   ]
  },
  {
   "cell_type": "code",
   "execution_count": null,
   "metadata": {},
   "outputs": [],
   "source": [
    "mtf_test_f0 = mtf0_aug.transform(data_test_transposed[:, 0, :])\n",
    "mtf_test_f1 = mtf1_aug.transform(data_test_transposed[:, 1, :])\n",
    "mtf_test_f2 = mtf2_aug.transform(data_test_transposed[:, 2, :])\n",
    "mtf_test_f3 = mtf3_aug.transform(data_test_transposed[:, 3, :])\n",
    "mtf_test_f4 = mtf4_aug.transform(data_test_transposed[:, 4, :])"
   ]
  },
  {
   "cell_type": "code",
   "execution_count": null,
   "metadata": {},
   "outputs": [],
   "source": [
    "mtf_test = np.empty((data_test_transposed.shape[0], PLOTSIZE, PLOTSIZE))\n",
    "for i in range(data_test_transposed.shape[0]):\n",
    "    for j in range(PLOTSIZE):\n",
    "        for k in range(PLOTSIZE):\n",
    "            mtf_test[i][j][k] = (mtf_test_f0[i][j][k] + mtf_test_f1[i][j][k] + mtf_test_f2[i][j][k] + mtf_test_f3[i][j][k] + mtf_test_f4[i][j][k])/5"
   ]
  },
  {
   "cell_type": "code",
   "execution_count": null,
   "metadata": {},
   "outputs": [],
   "source": [
    "mtf_img_test_tmp = []\n",
    "\n",
    "for g in mtf_test:\n",
    "    plt.figure(figsize=(6, 6))\n",
    "    plt.imshow(g)\n",
    "    buf = BytesIO()\n",
    "    plt.savefig(buf, format='png')\n",
    "    plt.close()\n",
    "\n",
    "    buf.seek(0)\n",
    "    image = Image.open(buf)\n",
    "    image = image.resize((IMAGESIZE, IMAGESIZE))\n",
    "    image_array = np.array(image)\n",
    "    mtf_img_test_tmp.append(image_array)"
   ]
  },
  {
   "cell_type": "code",
   "execution_count": null,
   "metadata": {},
   "outputs": [
    {
     "data": {
      "text/plain": [
       "(53, 64, 64, 4)"
      ]
     },
     "metadata": {},
     "output_type": "display_data"
    }
   ],
   "source": [
    "mtf_img_test = np.stack(mtf_img_test_tmp, axis=0)\n",
    "mtf_img_test = mtf_img_test/255\n",
    "mtf_img_test.shape"
   ]
  },
  {
   "cell_type": "markdown",
   "metadata": {},
   "source": [
    "#### CNN with SMOTE"
   ]
  },
  {
   "cell_type": "code",
   "execution_count": null,
   "metadata": {},
   "outputs": [
    {
     "name": "stderr",
     "output_type": "stream",
     "text": [
      "C:\\Users\\satan\\AppData\\Local\\Packages\\PythonSoftwareFoundation.Python.3.11_qbz5n2kfra8p0\\LocalCache\\local-packages\\Python311\\site-packages\\keras\\src\\layers\\convolutional\\base_conv.py:107: UserWarning: Do not pass an `input_shape`/`input_dim` argument to a layer. When using Sequential models, prefer using an `Input(shape)` object as the first layer in the model instead.\n",
      "  super().__init__(activity_regularizer=activity_regularizer, **kwargs)\n"
     ]
    }
   ],
   "source": [
    "tf.random.set_seed(SEED)\n",
    "cnn_mtf_aug = Sequential(name='CNN_MTF_aug')\n",
    "cnn_mtf_aug.add(Conv2D(32, (3, 3), activation='relu', input_shape=(mtf_img_train_aug.shape[1], mtf_img_train_aug.shape[2], mtf_img_train_aug.shape[3])))\n",
    "cnn_mtf_aug.add(MaxPooling2D((2, 2)))\n",
    "cnn_mtf_aug.add(Dropout(0.2))\n",
    "cnn_mtf_aug.add (Conv2D(16, (3, 3), activation='relu'))\n",
    "cnn_mtf_aug.add(MaxPooling2D((2, 2)))\n",
    "cnn_mtf_aug.add(Dropout(0.2))\n",
    "cnn_mtf_aug.add (Conv2D(8, (3, 3), activation='relu'))\n",
    "cnn_mtf_aug.add(Flatten())\n",
    "cnn_mtf_aug.add(Dense(8, activation='relu'))\n",
    "cnn_mtf_aug.add(Dense(NUMCLASS, activation='softmax'))\n",
    "\n",
    "cnn_mtf_aug.compile(optimizer='adam', loss='binary_crossentropy', metrics=['accuracy'])"
   ]
  },
  {
   "cell_type": "code",
   "execution_count": null,
   "metadata": {},
   "outputs": [
    {
     "data": {
      "text/html": [
       "<pre style=\"white-space:pre;overflow-x:auto;line-height:normal;font-family:Menlo,'DejaVu Sans Mono',consolas,'Courier New',monospace\"><span style=\"font-weight: bold\">Model: \"CNN_MTF_aug\"</span>\n",
       "</pre>\n"
      ],
      "text/plain": [
       "\u001b[1mModel: \"CNN_MTF_aug\"\u001b[0m\n"
      ]
     },
     "metadata": {},
     "output_type": "display_data"
    },
    {
     "data": {
      "text/html": [
       "<pre style=\"white-space:pre;overflow-x:auto;line-height:normal;font-family:Menlo,'DejaVu Sans Mono',consolas,'Courier New',monospace\">┏━━━━━━━━━━━━━━━━━━━━━━━━━━━━━━━━━┳━━━━━━━━━━━━━━━━━━━━━━━━┳━━━━━━━━━━━━━━━┓\n",
       "┃<span style=\"font-weight: bold\"> Layer (type)                    </span>┃<span style=\"font-weight: bold\"> Output Shape           </span>┃<span style=\"font-weight: bold\">       Param # </span>┃\n",
       "┡━━━━━━━━━━━━━━━━━━━━━━━━━━━━━━━━━╇━━━━━━━━━━━━━━━━━━━━━━━━╇━━━━━━━━━━━━━━━┩\n",
       "│ conv2d_9 (<span style=\"color: #0087ff; text-decoration-color: #0087ff\">Conv2D</span>)               │ (<span style=\"color: #00d7ff; text-decoration-color: #00d7ff\">None</span>, <span style=\"color: #00af00; text-decoration-color: #00af00\">62</span>, <span style=\"color: #00af00; text-decoration-color: #00af00\">62</span>, <span style=\"color: #00af00; text-decoration-color: #00af00\">32</span>)     │         <span style=\"color: #00af00; text-decoration-color: #00af00\">1,184</span> │\n",
       "├─────────────────────────────────┼────────────────────────┼───────────────┤\n",
       "│ max_pooling2d_8 (<span style=\"color: #0087ff; text-decoration-color: #0087ff\">MaxPooling2D</span>)  │ (<span style=\"color: #00d7ff; text-decoration-color: #00d7ff\">None</span>, <span style=\"color: #00af00; text-decoration-color: #00af00\">31</span>, <span style=\"color: #00af00; text-decoration-color: #00af00\">31</span>, <span style=\"color: #00af00; text-decoration-color: #00af00\">32</span>)     │             <span style=\"color: #00af00; text-decoration-color: #00af00\">0</span> │\n",
       "├─────────────────────────────────┼────────────────────────┼───────────────┤\n",
       "│ dropout_6 (<span style=\"color: #0087ff; text-decoration-color: #0087ff\">Dropout</span>)             │ (<span style=\"color: #00d7ff; text-decoration-color: #00d7ff\">None</span>, <span style=\"color: #00af00; text-decoration-color: #00af00\">31</span>, <span style=\"color: #00af00; text-decoration-color: #00af00\">31</span>, <span style=\"color: #00af00; text-decoration-color: #00af00\">32</span>)     │             <span style=\"color: #00af00; text-decoration-color: #00af00\">0</span> │\n",
       "├─────────────────────────────────┼────────────────────────┼───────────────┤\n",
       "│ conv2d_10 (<span style=\"color: #0087ff; text-decoration-color: #0087ff\">Conv2D</span>)              │ (<span style=\"color: #00d7ff; text-decoration-color: #00d7ff\">None</span>, <span style=\"color: #00af00; text-decoration-color: #00af00\">29</span>, <span style=\"color: #00af00; text-decoration-color: #00af00\">29</span>, <span style=\"color: #00af00; text-decoration-color: #00af00\">16</span>)     │         <span style=\"color: #00af00; text-decoration-color: #00af00\">4,624</span> │\n",
       "├─────────────────────────────────┼────────────────────────┼───────────────┤\n",
       "│ max_pooling2d_9 (<span style=\"color: #0087ff; text-decoration-color: #0087ff\">MaxPooling2D</span>)  │ (<span style=\"color: #00d7ff; text-decoration-color: #00d7ff\">None</span>, <span style=\"color: #00af00; text-decoration-color: #00af00\">14</span>, <span style=\"color: #00af00; text-decoration-color: #00af00\">14</span>, <span style=\"color: #00af00; text-decoration-color: #00af00\">16</span>)     │             <span style=\"color: #00af00; text-decoration-color: #00af00\">0</span> │\n",
       "├─────────────────────────────────┼────────────────────────┼───────────────┤\n",
       "│ dropout_7 (<span style=\"color: #0087ff; text-decoration-color: #0087ff\">Dropout</span>)             │ (<span style=\"color: #00d7ff; text-decoration-color: #00d7ff\">None</span>, <span style=\"color: #00af00; text-decoration-color: #00af00\">14</span>, <span style=\"color: #00af00; text-decoration-color: #00af00\">14</span>, <span style=\"color: #00af00; text-decoration-color: #00af00\">16</span>)     │             <span style=\"color: #00af00; text-decoration-color: #00af00\">0</span> │\n",
       "├─────────────────────────────────┼────────────────────────┼───────────────┤\n",
       "│ conv2d_11 (<span style=\"color: #0087ff; text-decoration-color: #0087ff\">Conv2D</span>)              │ (<span style=\"color: #00d7ff; text-decoration-color: #00d7ff\">None</span>, <span style=\"color: #00af00; text-decoration-color: #00af00\">12</span>, <span style=\"color: #00af00; text-decoration-color: #00af00\">12</span>, <span style=\"color: #00af00; text-decoration-color: #00af00\">8</span>)      │         <span style=\"color: #00af00; text-decoration-color: #00af00\">1,160</span> │\n",
       "├─────────────────────────────────┼────────────────────────┼───────────────┤\n",
       "│ flatten_3 (<span style=\"color: #0087ff; text-decoration-color: #0087ff\">Flatten</span>)             │ (<span style=\"color: #00d7ff; text-decoration-color: #00d7ff\">None</span>, <span style=\"color: #00af00; text-decoration-color: #00af00\">1152</span>)           │             <span style=\"color: #00af00; text-decoration-color: #00af00\">0</span> │\n",
       "├─────────────────────────────────┼────────────────────────┼───────────────┤\n",
       "│ dense_8 (<span style=\"color: #0087ff; text-decoration-color: #0087ff\">Dense</span>)                 │ (<span style=\"color: #00d7ff; text-decoration-color: #00d7ff\">None</span>, <span style=\"color: #00af00; text-decoration-color: #00af00\">8</span>)              │         <span style=\"color: #00af00; text-decoration-color: #00af00\">9,224</span> │\n",
       "├─────────────────────────────────┼────────────────────────┼───────────────┤\n",
       "│ dense_9 (<span style=\"color: #0087ff; text-decoration-color: #0087ff\">Dense</span>)                 │ (<span style=\"color: #00d7ff; text-decoration-color: #00d7ff\">None</span>, <span style=\"color: #00af00; text-decoration-color: #00af00\">2</span>)              │            <span style=\"color: #00af00; text-decoration-color: #00af00\">18</span> │\n",
       "└─────────────────────────────────┴────────────────────────┴───────────────┘\n",
       "</pre>\n"
      ],
      "text/plain": [
       "┏━━━━━━━━━━━━━━━━━━━━━━━━━━━━━━━━━┳━━━━━━━━━━━━━━━━━━━━━━━━┳━━━━━━━━━━━━━━━┓\n",
       "┃\u001b[1m \u001b[0m\u001b[1mLayer (type)                   \u001b[0m\u001b[1m \u001b[0m┃\u001b[1m \u001b[0m\u001b[1mOutput Shape          \u001b[0m\u001b[1m \u001b[0m┃\u001b[1m \u001b[0m\u001b[1m      Param #\u001b[0m\u001b[1m \u001b[0m┃\n",
       "┡━━━━━━━━━━━━━━━━━━━━━━━━━━━━━━━━━╇━━━━━━━━━━━━━━━━━━━━━━━━╇━━━━━━━━━━━━━━━┩\n",
       "│ conv2d_9 (\u001b[38;5;33mConv2D\u001b[0m)               │ (\u001b[38;5;45mNone\u001b[0m, \u001b[38;5;34m62\u001b[0m, \u001b[38;5;34m62\u001b[0m, \u001b[38;5;34m32\u001b[0m)     │         \u001b[38;5;34m1,184\u001b[0m │\n",
       "├─────────────────────────────────┼────────────────────────┼───────────────┤\n",
       "│ max_pooling2d_8 (\u001b[38;5;33mMaxPooling2D\u001b[0m)  │ (\u001b[38;5;45mNone\u001b[0m, \u001b[38;5;34m31\u001b[0m, \u001b[38;5;34m31\u001b[0m, \u001b[38;5;34m32\u001b[0m)     │             \u001b[38;5;34m0\u001b[0m │\n",
       "├─────────────────────────────────┼────────────────────────┼───────────────┤\n",
       "│ dropout_6 (\u001b[38;5;33mDropout\u001b[0m)             │ (\u001b[38;5;45mNone\u001b[0m, \u001b[38;5;34m31\u001b[0m, \u001b[38;5;34m31\u001b[0m, \u001b[38;5;34m32\u001b[0m)     │             \u001b[38;5;34m0\u001b[0m │\n",
       "├─────────────────────────────────┼────────────────────────┼───────────────┤\n",
       "│ conv2d_10 (\u001b[38;5;33mConv2D\u001b[0m)              │ (\u001b[38;5;45mNone\u001b[0m, \u001b[38;5;34m29\u001b[0m, \u001b[38;5;34m29\u001b[0m, \u001b[38;5;34m16\u001b[0m)     │         \u001b[38;5;34m4,624\u001b[0m │\n",
       "├─────────────────────────────────┼────────────────────────┼───────────────┤\n",
       "│ max_pooling2d_9 (\u001b[38;5;33mMaxPooling2D\u001b[0m)  │ (\u001b[38;5;45mNone\u001b[0m, \u001b[38;5;34m14\u001b[0m, \u001b[38;5;34m14\u001b[0m, \u001b[38;5;34m16\u001b[0m)     │             \u001b[38;5;34m0\u001b[0m │\n",
       "├─────────────────────────────────┼────────────────────────┼───────────────┤\n",
       "│ dropout_7 (\u001b[38;5;33mDropout\u001b[0m)             │ (\u001b[38;5;45mNone\u001b[0m, \u001b[38;5;34m14\u001b[0m, \u001b[38;5;34m14\u001b[0m, \u001b[38;5;34m16\u001b[0m)     │             \u001b[38;5;34m0\u001b[0m │\n",
       "├─────────────────────────────────┼────────────────────────┼───────────────┤\n",
       "│ conv2d_11 (\u001b[38;5;33mConv2D\u001b[0m)              │ (\u001b[38;5;45mNone\u001b[0m, \u001b[38;5;34m12\u001b[0m, \u001b[38;5;34m12\u001b[0m, \u001b[38;5;34m8\u001b[0m)      │         \u001b[38;5;34m1,160\u001b[0m │\n",
       "├─────────────────────────────────┼────────────────────────┼───────────────┤\n",
       "│ flatten_3 (\u001b[38;5;33mFlatten\u001b[0m)             │ (\u001b[38;5;45mNone\u001b[0m, \u001b[38;5;34m1152\u001b[0m)           │             \u001b[38;5;34m0\u001b[0m │\n",
       "├─────────────────────────────────┼────────────────────────┼───────────────┤\n",
       "│ dense_8 (\u001b[38;5;33mDense\u001b[0m)                 │ (\u001b[38;5;45mNone\u001b[0m, \u001b[38;5;34m8\u001b[0m)              │         \u001b[38;5;34m9,224\u001b[0m │\n",
       "├─────────────────────────────────┼────────────────────────┼───────────────┤\n",
       "│ dense_9 (\u001b[38;5;33mDense\u001b[0m)                 │ (\u001b[38;5;45mNone\u001b[0m, \u001b[38;5;34m2\u001b[0m)              │            \u001b[38;5;34m18\u001b[0m │\n",
       "└─────────────────────────────────┴────────────────────────┴───────────────┘\n"
      ]
     },
     "metadata": {},
     "output_type": "display_data"
    },
    {
     "data": {
      "text/html": [
       "<pre style=\"white-space:pre;overflow-x:auto;line-height:normal;font-family:Menlo,'DejaVu Sans Mono',consolas,'Courier New',monospace\"><span style=\"font-weight: bold\"> Total params: </span><span style=\"color: #00af00; text-decoration-color: #00af00\">16,210</span> (63.32 KB)\n",
       "</pre>\n"
      ],
      "text/plain": [
       "\u001b[1m Total params: \u001b[0m\u001b[38;5;34m16,210\u001b[0m (63.32 KB)\n"
      ]
     },
     "metadata": {},
     "output_type": "display_data"
    },
    {
     "data": {
      "text/html": [
       "<pre style=\"white-space:pre;overflow-x:auto;line-height:normal;font-family:Menlo,'DejaVu Sans Mono',consolas,'Courier New',monospace\"><span style=\"font-weight: bold\"> Trainable params: </span><span style=\"color: #00af00; text-decoration-color: #00af00\">16,210</span> (63.32 KB)\n",
       "</pre>\n"
      ],
      "text/plain": [
       "\u001b[1m Trainable params: \u001b[0m\u001b[38;5;34m16,210\u001b[0m (63.32 KB)\n"
      ]
     },
     "metadata": {},
     "output_type": "display_data"
    },
    {
     "data": {
      "text/html": [
       "<pre style=\"white-space:pre;overflow-x:auto;line-height:normal;font-family:Menlo,'DejaVu Sans Mono',consolas,'Courier New',monospace\"><span style=\"font-weight: bold\"> Non-trainable params: </span><span style=\"color: #00af00; text-decoration-color: #00af00\">0</span> (0.00 B)\n",
       "</pre>\n"
      ],
      "text/plain": [
       "\u001b[1m Non-trainable params: \u001b[0m\u001b[38;5;34m0\u001b[0m (0.00 B)\n"
      ]
     },
     "metadata": {},
     "output_type": "display_data"
    }
   ],
   "source": [
    "cnn_mtf_aug.summary()"
   ]
  },
  {
   "cell_type": "code",
   "execution_count": null,
   "metadata": {},
   "outputs": [
    {
     "name": "stdout",
     "output_type": "stream",
     "text": [
      "Epoch 1/30\n",
      "\u001b[1m9/9\u001b[0m \u001b[32m━━━━━━━━━━━━━━━━━━━━\u001b[0m\u001b[37m\u001b[0m \u001b[1m1s\u001b[0m 24ms/step - accuracy: 0.4684 - loss: 0.6960 - val_accuracy: 0.5000 - val_loss: 0.6932\n",
      "Epoch 2/30\n",
      "\u001b[1m9/9\u001b[0m \u001b[32m━━━━━━━━━━━━━━━━━━━━\u001b[0m\u001b[37m\u001b[0m \u001b[1m0s\u001b[0m 12ms/step - accuracy: 0.4991 - loss: 0.6936 - val_accuracy: 0.4706 - val_loss: 0.6934\n",
      "Epoch 3/30\n",
      "\u001b[1m9/9\u001b[0m \u001b[32m━━━━━━━━━━━━━━━━━━━━\u001b[0m\u001b[37m\u001b[0m \u001b[1m0s\u001b[0m 11ms/step - accuracy: 0.5436 - loss: 0.6925 - val_accuracy: 0.4706 - val_loss: 0.6940\n",
      "Epoch 4/30\n",
      "\u001b[1m9/9\u001b[0m \u001b[32m━━━━━━━━━━━━━━━━━━━━\u001b[0m\u001b[37m\u001b[0m \u001b[1m0s\u001b[0m 14ms/step - accuracy: 0.5451 - loss: 0.6904 - val_accuracy: 0.5294 - val_loss: 0.6910\n",
      "Epoch 5/30\n",
      "\u001b[1m9/9\u001b[0m \u001b[32m━━━━━━━━━━━━━━━━━━━━\u001b[0m\u001b[37m\u001b[0m \u001b[1m0s\u001b[0m 14ms/step - accuracy: 0.4882 - loss: 0.6944 - val_accuracy: 0.4706 - val_loss: 0.6938\n",
      "Epoch 6/30\n",
      "\u001b[1m9/9\u001b[0m \u001b[32m━━━━━━━━━━━━━━━━━━━━\u001b[0m\u001b[37m\u001b[0m \u001b[1m0s\u001b[0m 13ms/step - accuracy: 0.5478 - loss: 0.6916 - val_accuracy: 0.4706 - val_loss: 0.6934\n",
      "Epoch 7/30\n",
      "\u001b[1m9/9\u001b[0m \u001b[32m━━━━━━━━━━━━━━━━━━━━\u001b[0m\u001b[37m\u001b[0m \u001b[1m0s\u001b[0m 11ms/step - accuracy: 0.5320 - loss: 0.6899 - val_accuracy: 0.5000 - val_loss: 0.6925\n",
      "Epoch 8/30\n",
      "\u001b[1m9/9\u001b[0m \u001b[32m━━━━━━━━━━━━━━━━━━━━\u001b[0m\u001b[37m\u001b[0m \u001b[1m0s\u001b[0m 14ms/step - accuracy: 0.5421 - loss: 0.6876 - val_accuracy: 0.5441 - val_loss: 0.6869\n",
      "Epoch 9/30\n",
      "\u001b[1m9/9\u001b[0m \u001b[32m━━━━━━━━━━━━━━━━━━━━\u001b[0m\u001b[37m\u001b[0m \u001b[1m0s\u001b[0m 13ms/step - accuracy: 0.5655 - loss: 0.6907 - val_accuracy: 0.4706 - val_loss: 0.6950\n",
      "Epoch 10/30\n",
      "\u001b[1m9/9\u001b[0m \u001b[32m━━━━━━━━━━━━━━━━━━━━\u001b[0m\u001b[37m\u001b[0m \u001b[1m0s\u001b[0m 13ms/step - accuracy: 0.5237 - loss: 0.6869 - val_accuracy: 0.4706 - val_loss: 0.6924\n",
      "Epoch 11/30\n",
      "\u001b[1m9/9\u001b[0m \u001b[32m━━━━━━━━━━━━━━━━━━━━\u001b[0m\u001b[37m\u001b[0m \u001b[1m0s\u001b[0m 12ms/step - accuracy: 0.5165 - loss: 0.6879 - val_accuracy: 0.4706 - val_loss: 0.6925\n",
      "Epoch 12/30\n",
      "\u001b[1m9/9\u001b[0m \u001b[32m━━━━━━━━━━━━━━━━━━━━\u001b[0m\u001b[37m\u001b[0m \u001b[1m0s\u001b[0m 12ms/step - accuracy: 0.5192 - loss: 0.6876 - val_accuracy: 0.4706 - val_loss: 0.6930\n",
      "Epoch 13/30\n",
      "\u001b[1m9/9\u001b[0m \u001b[32m━━━━━━━━━━━━━━━━━━━━\u001b[0m\u001b[37m\u001b[0m \u001b[1m0s\u001b[0m 13ms/step - accuracy: 0.5165 - loss: 0.6853 - val_accuracy: 0.4706 - val_loss: 0.6933\n",
      "Epoch 14/30\n",
      "\u001b[1m9/9\u001b[0m \u001b[32m━━━━━━━━━━━━━━━━━━━━\u001b[0m\u001b[37m\u001b[0m \u001b[1m0s\u001b[0m 12ms/step - accuracy: 0.5329 - loss: 0.6872 - val_accuracy: 0.4706 - val_loss: 0.6924\n",
      "Epoch 15/30\n",
      "\u001b[1m9/9\u001b[0m \u001b[32m━━━━━━━━━━━━━━━━━━━━\u001b[0m\u001b[37m\u001b[0m \u001b[1m0s\u001b[0m 11ms/step - accuracy: 0.5591 - loss: 0.6829 - val_accuracy: 0.5441 - val_loss: 0.6845\n",
      "Epoch 16/30\n",
      "\u001b[1m9/9\u001b[0m \u001b[32m━━━━━━━━━━━━━━━━━━━━\u001b[0m\u001b[37m\u001b[0m \u001b[1m0s\u001b[0m 12ms/step - accuracy: 0.6182 - loss: 0.6751 - val_accuracy: 0.5294 - val_loss: 0.6896\n",
      "Epoch 17/30\n",
      "\u001b[1m9/9\u001b[0m \u001b[32m━━━━━━━━━━━━━━━━━━━━\u001b[0m\u001b[37m\u001b[0m \u001b[1m0s\u001b[0m 12ms/step - accuracy: 0.5890 - loss: 0.6790 - val_accuracy: 0.6176 - val_loss: 0.6767\n",
      "Epoch 18/30\n",
      "\u001b[1m9/9\u001b[0m \u001b[32m━━━━━━━━━━━━━━━━━━━━\u001b[0m\u001b[37m\u001b[0m \u001b[1m0s\u001b[0m 12ms/step - accuracy: 0.6189 - loss: 0.6825 - val_accuracy: 0.5588 - val_loss: 0.6855\n",
      "Epoch 19/30\n",
      "\u001b[1m9/9\u001b[0m \u001b[32m━━━━━━━━━━━━━━━━━━━━\u001b[0m\u001b[37m\u001b[0m \u001b[1m0s\u001b[0m 13ms/step - accuracy: 0.5968 - loss: 0.6717 - val_accuracy: 0.5441 - val_loss: 0.6772\n",
      "Epoch 20/30\n",
      "\u001b[1m9/9\u001b[0m \u001b[32m━━━━━━━━━━━━━━━━━━━━\u001b[0m\u001b[37m\u001b[0m \u001b[1m0s\u001b[0m 13ms/step - accuracy: 0.6148 - loss: 0.6741 - val_accuracy: 0.5147 - val_loss: 0.6804\n",
      "Epoch 21/30\n",
      "\u001b[1m9/9\u001b[0m \u001b[32m━━━━━━━━━━━━━━━━━━━━\u001b[0m\u001b[37m\u001b[0m \u001b[1m0s\u001b[0m 14ms/step - accuracy: 0.6291 - loss: 0.6620 - val_accuracy: 0.5294 - val_loss: 0.6739\n",
      "Epoch 22/30\n",
      "\u001b[1m9/9\u001b[0m \u001b[32m━━━━━━━━━━━━━━━━━━━━\u001b[0m\u001b[37m\u001b[0m \u001b[1m0s\u001b[0m 13ms/step - accuracy: 0.6610 - loss: 0.6588 - val_accuracy: 0.5441 - val_loss: 0.6795\n",
      "Epoch 23/30\n",
      "\u001b[1m9/9\u001b[0m \u001b[32m━━━━━━━━━━━━━━━━━━━━\u001b[0m\u001b[37m\u001b[0m \u001b[1m0s\u001b[0m 13ms/step - accuracy: 0.6342 - loss: 0.6570 - val_accuracy: 0.5294 - val_loss: 0.6700\n",
      "Epoch 24/30\n",
      "\u001b[1m9/9\u001b[0m \u001b[32m━━━━━━━━━━━━━━━━━━━━\u001b[0m\u001b[37m\u001b[0m \u001b[1m0s\u001b[0m 12ms/step - accuracy: 0.6481 - loss: 0.6522 - val_accuracy: 0.5588 - val_loss: 0.6728\n",
      "Epoch 25/30\n",
      "\u001b[1m9/9\u001b[0m \u001b[32m━━━━━━━━━━━━━━━━━━━━\u001b[0m\u001b[37m\u001b[0m \u001b[1m0s\u001b[0m 12ms/step - accuracy: 0.6157 - loss: 0.6600 - val_accuracy: 0.5588 - val_loss: 0.6689\n",
      "Epoch 26/30\n",
      "\u001b[1m9/9\u001b[0m \u001b[32m━━━━━━━━━━━━━━━━━━━━\u001b[0m\u001b[37m\u001b[0m \u001b[1m0s\u001b[0m 12ms/step - accuracy: 0.6329 - loss: 0.6647 - val_accuracy: 0.5294 - val_loss: 0.6673\n",
      "Epoch 27/30\n",
      "\u001b[1m9/9\u001b[0m \u001b[32m━━━━━━━━━━━━━━━━━━━━\u001b[0m\u001b[37m\u001b[0m \u001b[1m0s\u001b[0m 12ms/step - accuracy: 0.6056 - loss: 0.6509 - val_accuracy: 0.5441 - val_loss: 0.6637\n",
      "Epoch 28/30\n",
      "\u001b[1m9/9\u001b[0m \u001b[32m━━━━━━━━━━━━━━━━━━━━\u001b[0m\u001b[37m\u001b[0m \u001b[1m0s\u001b[0m 13ms/step - accuracy: 0.6319 - loss: 0.6569 - val_accuracy: 0.5294 - val_loss: 0.6665\n",
      "Epoch 29/30\n",
      "\u001b[1m9/9\u001b[0m \u001b[32m━━━━━━━━━━━━━━━━━━━━\u001b[0m\u001b[37m\u001b[0m \u001b[1m0s\u001b[0m 13ms/step - accuracy: 0.6201 - loss: 0.6484 - val_accuracy: 0.5441 - val_loss: 0.6633\n",
      "Epoch 30/30\n",
      "\u001b[1m9/9\u001b[0m \u001b[32m━━━━━━━━━━━━━━━━━━━━\u001b[0m\u001b[37m\u001b[0m \u001b[1m0s\u001b[0m 11ms/step - accuracy: 0.6575 - loss: 0.6430 - val_accuracy: 0.5294 - val_loss: 0.6586\n"
     ]
    }
   ],
   "source": [
    "tf.random.set_seed(SEED)\n",
    "cnn_mtf_aug_history = cnn_mtf_aug.fit(mtf_img_train_aug, to_categorical(y_train_int_aug), epochs=EPOCH, batch_size=BATCHSIZE, validation_split=VAL)"
   ]
  },
  {
   "cell_type": "code",
   "execution_count": null,
   "metadata": {},
   "outputs": [
    {
     "name": "stderr",
     "output_type": "stream",
     "text": [
      "WARNING:absl:You are saving your model as an HDF5 file via `model.save()` or `keras.saving.save_model(model)`. This file format is considered legacy. We recommend using instead the native Keras format, e.g. `model.save('my_model.keras')` or `keras.saving.save_model(model, 'my_model.keras')`. \n"
     ]
    }
   ],
   "source": [
    "cnn_mtf_aug.save(f'{BASE}/Models/cnn_mtf_aug.h5')"
   ]
  },
  {
   "cell_type": "markdown",
   "metadata": {},
   "source": [
    "#### ViT with SMOTE"
   ]
  },
  {
   "cell_type": "code",
   "execution_count": null,
   "metadata": {},
   "outputs": [],
   "source": [
    "np.random.seed(SEED)\n",
    "torch.manual_seed(SEED)\n",
    "g = torch.Generator()\n",
    "g.manual_seed(SEED)\n",
    "mtf_train_aug_dataloader = DataLoader(NumpyDataset(mtf_img_train_aug, y_train_int_aug, transform), batch_size=BATCHSIZE, shuffle=False, worker_init_fn=np.random.seed(SEED), generator=g)\n",
    "mtf_test_dataloader = DataLoader(NumpyDataset(mtf_img_test, y_test_int, transform), batch_size=BATCHSIZE, shuffle=False, worker_init_fn=np.random.seed(SEED), generator=g)"
   ]
  },
  {
   "cell_type": "code",
   "execution_count": null,
   "metadata": {},
   "outputs": [],
   "source": [
    "torch.manual_seed(SEED)\n",
    "device = torch.device('cpu')\n",
    "vit_mtf_aug = timm.create_model('vit_base_patch16_224', pretrained=True)\n",
    "vit_mtf_aug.head = nn.Linear(vit_mtf_aug.head.in_features, NUMCLASS)\n",
    "vit_mtf_aug = vit_mtf_aug.to(device)"
   ]
  },
  {
   "cell_type": "code",
   "execution_count": null,
   "metadata": {},
   "outputs": [],
   "source": [
    "for param in vit_mtf_aug.parameters():\n",
    "    param.requires_grad = False\n",
    "for param in vit_mtf_aug.head.parameters():\n",
    "    param.requires_grad = True"
   ]
  },
  {
   "cell_type": "code",
   "execution_count": null,
   "metadata": {},
   "outputs": [
    {
     "name": "stdout",
     "output_type": "stream",
     "text": [
      "Total parameters: 85,800,194\n",
      "Trainable parameters: 1,538\n"
     ]
    }
   ],
   "source": [
    "total_params = sum(p.numel() for p in vit_mtf_aug.parameters())\n",
    "print(f'Total parameters: {total_params:,}')\n",
    "total_trainable_params = sum(p.numel() for p in vit_mtf_aug.parameters() if p.requires_grad)\n",
    "print(f'Trainable parameters: {total_trainable_params:,}')"
   ]
  },
  {
   "cell_type": "code",
   "execution_count": null,
   "metadata": {},
   "outputs": [
    {
     "name": "stdout",
     "output_type": "stream",
     "text": [
      "Epoch 1/30, Loss: 0.7560\n",
      "Epoch 2/30, Loss: 0.6345\n",
      "Epoch 3/30, Loss: 0.6363\n",
      "Epoch 4/30, Loss: 0.6356\n",
      "Epoch 5/30, Loss: 0.5956\n",
      "Epoch 6/30, Loss: 0.5617\n",
      "Epoch 7/30, Loss: 0.5472\n",
      "Epoch 8/30, Loss: 0.5427\n",
      "Epoch 9/30, Loss: 0.5394\n",
      "Epoch 10/30, Loss: 0.5338\n",
      "Epoch 11/30, Loss: 0.5262\n",
      "Epoch 12/30, Loss: 0.5184\n",
      "Epoch 13/30, Loss: 0.5114\n",
      "Epoch 14/30, Loss: 0.5053\n",
      "Epoch 15/30, Loss: 0.4998\n",
      "Epoch 16/30, Loss: 0.4947\n",
      "Epoch 17/30, Loss: 0.4897\n",
      "Epoch 18/30, Loss: 0.4849\n",
      "Epoch 19/30, Loss: 0.4802\n",
      "Epoch 20/30, Loss: 0.4758\n",
      "Epoch 21/30, Loss: 0.4716\n",
      "Epoch 22/30, Loss: 0.4676\n",
      "Epoch 23/30, Loss: 0.4637\n",
      "Epoch 24/30, Loss: 0.4600\n",
      "Epoch 25/30, Loss: 0.4564\n",
      "Epoch 26/30, Loss: 0.4529\n",
      "Epoch 27/30, Loss: 0.4495\n",
      "Epoch 28/30, Loss: 0.4463\n",
      "Epoch 29/30, Loss: 0.4431\n",
      "Epoch 30/30, Loss: 0.4401\n"
     ]
    }
   ],
   "source": [
    "torch.manual_seed(SEED)\n",
    "criterion = nn.CrossEntropyLoss()\n",
    "optimizer = optim.Adam(vit_mtf_aug.head.parameters(), lr=0.001)\n",
    "\n",
    "for epoch in range(EPOCH):\n",
    "    vit_mtf_aug.train()\n",
    "    running_loss = 0\n",
    "\n",
    "    for inputs, labels in mtf_train_aug_dataloader:\n",
    "        inputs, labels = inputs.to(device), labels.to(device)\n",
    "\n",
    "        optimizer.zero_grad()\n",
    "\n",
    "        outputs = vit_mtf_aug(inputs)\n",
    "        loss = criterion(outputs, labels)\n",
    "        loss.backward()\n",
    "        optimizer.step()\n",
    "\n",
    "        running_loss += loss.item() * inputs.size(0)\n",
    "\n",
    "    epoch_loss = running_loss / len(mtf_train_aug_dataloader.dataset)\n",
    "    print(f\"Epoch {epoch + 1}/{EPOCH}, Loss: {epoch_loss:.4f}\")"
   ]
  },
  {
   "cell_type": "code",
   "execution_count": null,
   "metadata": {},
   "outputs": [],
   "source": [
    "torch.save(vit_mtf_aug.state_dict(), f'{BASE}/Models/vit_mtf_aug.pth')"
   ]
  },
  {
   "cell_type": "markdown",
   "metadata": {},
   "source": [
    "#### Evaluation"
   ]
  },
  {
   "cell_type": "markdown",
   "metadata": {},
   "source": [
    "##### CNN"
   ]
  },
  {
   "cell_type": "code",
   "execution_count": null,
   "metadata": {},
   "outputs": [
    {
     "name": "stdout",
     "output_type": "stream",
     "text": [
      "\u001b[1m2/2\u001b[0m \u001b[32m━━━━━━━━━━━━━━━━━━━━\u001b[0m\u001b[37m\u001b[0m \u001b[1m0s\u001b[0m 34ms/step\n"
     ]
    }
   ],
   "source": [
    "tf.random.set_seed(SEED)\n",
    "cnn_mtf_aug_pred = cnn_mtf_aug.predict(mtf_img_test)"
   ]
  },
  {
   "cell_type": "code",
   "execution_count": null,
   "metadata": {},
   "outputs": [],
   "source": [
    "cnn_mtf_aug_pred_int = np.argmax(cnn_mtf_aug_pred, axis=1)"
   ]
  },
  {
   "cell_type": "code",
   "execution_count": null,
   "metadata": {},
   "outputs": [
    {
     "name": "stdout",
     "output_type": "stream",
     "text": [
      "Accuracy: 0.6981132075471698\n",
      "Precision: 0.6436011904761905\n",
      "Recall: 0.7088744588744589\n",
      "F1-Score: 0.6418918918918919\n"
     ]
    }
   ],
   "source": [
    "print('Accuracy:', accuracy_score(y_test_int, cnn_mtf_aug_pred_int))\n",
    "print('Precision:', precision_score(y_test_int, cnn_mtf_aug_pred_int, average='macro'))\n",
    "print('Recall:', recall_score(y_test_int, cnn_mtf_aug_pred_int, average='macro'))\n",
    "print('F1-Score:', f1_score(y_test_int, cnn_mtf_aug_pred_int, average='macro'))"
   ]
  },
  {
   "cell_type": "code",
   "execution_count": null,
   "metadata": {},
   "outputs": [
    {
     "data": {
      "image/png": "[encoded data removed]",
      "text/plain": [
       "<Figure size 800x600 with 2 Axes>"
      ]
     },
     "metadata": {},
     "output_type": "display_data"
    }
   ],
   "source": [
    "confusionMatrix_cnn_mtf_aug = confusion_matrix(y_test_int, cnn_mtf_aug_pred_int, normalize='true')\n",
    "\n",
    "plt.figure(figsize=(8, 6))\n",
    "plt.imshow(confusionMatrix_cnn_mtf_aug, cmap=plt.cm.Blues, vmin=0, vmax=1)\n",
    "plt.colorbar()\n",
    "tick_marks = np.arange(len(classes))\n",
    "plt.xticks(tick_marks, classes)\n",
    "plt.yticks(tick_marks, classes)\n",
    "plt.xlabel('Predicted Label')\n",
    "plt.ylabel('Actual Label')\n",
    "\n",
    "for i in range(confusionMatrix_cnn_mtf_aug.shape[0]):\n",
    "    for j in range(confusionMatrix_cnn_mtf_aug.shape[1]):\n",
    "        plt.text(j, i, format(confusionMatrix_cnn_mtf_aug[i, j], '.2f'), ha='center', va='center', color='white' if confusionMatrix_cnn_mtf_aug[i, j] > 0.5 else 'black')\n",
    "\n",
    "plt.tight_layout()\n",
    "plt.show()"
   ]
  },
  {
   "cell_type": "markdown",
   "metadata": {},
   "source": [
    "##### ViT"
   ]
  },
  {
   "cell_type": "code",
   "execution_count": null,
   "metadata": {},
   "outputs": [],
   "source": [
    "vit_mtf_aug_pred_int = evaluate(vit_mtf_aug, mtf_test_dataloader, device)"
   ]
  },
  {
   "cell_type": "code",
   "execution_count": null,
   "metadata": {},
   "outputs": [
    {
     "name": "stdout",
     "output_type": "stream",
     "text": [
      "Accuracy: 0.6981132075471698\n",
      "Precision: 0.6070261437908497\n",
      "Recall: 0.6417748917748918\n",
      "F1-Score: 0.6117216117216117\n"
     ]
    }
   ],
   "source": [
    "print('Accuracy:', accuracy_score(y_test_int, vit_mtf_aug_pred_int))\n",
    "print('Precision:', precision_score(y_test_int, vit_mtf_aug_pred_int, average='macro'))\n",
    "print('Recall:', recall_score(y_test_int, vit_mtf_aug_pred_int, average='macro'))\n",
    "print('F1-Score:', f1_score(y_test_int, vit_mtf_aug_pred_int, average='macro'))"
   ]
  },
  {
   "cell_type": "code",
   "execution_count": null,
   "metadata": {},
   "outputs": [
    {
     "data": {
      "image/png": "[encoded data removed]",
      "text/plain": [
       "<Figure size 800x600 with 2 Axes>"
      ]
     },
     "metadata": {},
     "output_type": "display_data"
    }
   ],
   "source": [
    "confusionMatrix_vit_mtf_aug = confusion_matrix(y_test_int, vit_mtf_aug_pred_int, normalize='true')\n",
    "\n",
    "plt.figure(figsize=(8, 6))\n",
    "plt.imshow(confusionMatrix_vit_mtf_aug, cmap=plt.cm.Blues, vmin=0, vmax=1)\n",
    "plt.colorbar()\n",
    "tick_marks = np.arange(len(classes))\n",
    "plt.xticks(tick_marks, classes)\n",
    "plt.yticks(tick_marks, classes)\n",
    "plt.xlabel('Predicted Label')\n",
    "plt.ylabel('Actual Label')\n",
    "\n",
    "for i in range(confusionMatrix_vit_mtf_aug.shape[0]):\n",
    "    for j in range(confusionMatrix_vit_mtf_aug.shape[1]):\n",
    "        plt.text(j, i, format(confusionMatrix_vit_mtf_aug[i, j], '.2f'), ha='center', va='center', color='white' if confusionMatrix_vit_mtf_aug[i, j] > 0.5 else 'black')\n",
    "\n",
    "plt.tight_layout()\n",
    "plt.show()"
   ]
  }
 ],
 "metadata": {
  "kernelspec": {
   "display_name": "Python 3",
   "language": "python",
   "name": "python3"
  },
  "language_info": {
   "codemirror_mode": {
    "name": "ipython",
    "version": 3
   },
   "file_extension": ".py",
   "mimetype": "text/x-python",
   "name": "python",
   "nbconvert_exporter": "python",
   "pygments_lexer": "ipython3",
   "version": "3.11.9"
  }
 },
 "nbformat": 4,
 "nbformat_minor": 2
}
