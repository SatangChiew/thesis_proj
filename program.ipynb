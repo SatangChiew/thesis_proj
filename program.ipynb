{
 "cells": [
  {
   "cell_type": "markdown",
   "metadata": {},
   "source": [
    "# Import Libraries"
   ]
  },
  {
   "cell_type": "code",
   "execution_count": null,
   "metadata": {},
   "outputs": [],
   "source": [
    "Hello"
   ]
  },
  {
   "cell_type": "code",
   "execution_count": 1,
   "metadata": {},
   "outputs": [
    {
     "name": "stderr",
     "output_type": "stream",
     "text": [
      "c:\\Users\\noppa\\anaconda3\\envs\\dev\\lib\\site-packages\\tqdm\\auto.py:21: TqdmWarning: IProgress not found. Please update jupyter and ipywidgets. See https://ipywidgets.readthedocs.io/en/stable/user_install.html\n",
      "  from .autonotebook import tqdm as notebook_tqdm\n"
     ]
    }
   ],
   "source": [
    "import numpy as np\n",
    "import pandas as pd\n",
    "import os\n",
    "import tensorflow as tf\n",
    "import matplotlib.pyplot as plt\n",
    "import torch\n",
    "import torch.nn as nn\n",
    "import torch.optim as optim\n",
    "import timm\n",
    "\n",
    "from collections import Counter\n",
    "from sklearn.decomposition import PCA\n",
    "from sklearn.preprocessing import MinMaxScaler, LabelEncoder\n",
    "from sklearn.metrics import accuracy_score, precision_score, recall_score, f1_score, confusion_matrix\n",
    "from keras.models import Sequential\n",
    "from keras.layers import LSTM, Dense, Conv2D, MaxPooling2D, Flatten, Dropout\n",
    "from keras.utils import to_categorical\n",
    "from imblearn.over_sampling import SMOTE\n",
    "from pyts.image import GramianAngularField, MarkovTransitionField\n",
    "from io import BytesIO\n",
    "from PIL import Image\n",
    "from torch.utils.data import Dataset, DataLoader\n",
    "from torchvision import transforms"
   ]
  },
  {
   "cell_type": "markdown",
   "metadata": {},
   "source": [
    "# Parameter Setting"
   ]
  },
  {
   "cell_type": "code",
   "execution_count": 2,
   "metadata": {},
   "outputs": [],
   "source": [
    "# For shuffle\n",
    "SEED = 42"
   ]
  },
  {
   "cell_type": "code",
   "execution_count": 3,
   "metadata": {},
   "outputs": [],
   "source": [
    "# For feature engineering\n",
    "t_d = 30 # detection time\n",
    "t_w = 10 # time windows"
   ]
  },
  {
   "cell_type": "code",
   "execution_count": 4,
   "metadata": {},
   "outputs": [],
   "source": [
    "# For model\n",
    "EPOCH = 30\n",
    "BATCHSIZE = 32\n",
    "VAL = 0.2"
   ]
  },
  {
   "cell_type": "markdown",
   "metadata": {},
   "source": [
    "# Function for ViT"
   ]
  },
  {
   "cell_type": "code",
   "execution_count": 5,
   "metadata": {},
   "outputs": [],
   "source": [
    "# Create NumpyDataset class for using with ViT\n",
    "class NumpyDataset(Dataset):\n",
    "    def __init__(self, data, labels, transform=None):\n",
    "        self.data = data[:, :, :, :3].astype(np.float32) # Select only RGB channel\n",
    "        self.labels = labels.astype(np.int64)\n",
    "        self.transform = transform\n",
    "\n",
    "    def __len__(self):\n",
    "        return len(self.data)\n",
    "\n",
    "    def __getitem__(self, idx):\n",
    "        sample = self.data[idx]\n",
    "        label = self.labels[idx]\n",
    "\n",
    "        if self.transform:\n",
    "            sample = self.transform(sample)\n",
    "\n",
    "        return sample, label"
   ]
  },
  {
   "cell_type": "code",
   "execution_count": 6,
   "metadata": {},
   "outputs": [],
   "source": [
    "transform = transforms.Compose([\n",
    "    transforms.ToPILImage(),\n",
    "    transforms.Resize((224, 224)),\n",
    "    transforms.ToTensor() # Swap from (Height, Width, Channel) to (Channel, Width, Height)\n",
    "])"
   ]
  },
  {
   "cell_type": "code",
   "execution_count": 7,
   "metadata": {},
   "outputs": [],
   "source": [
    "def evaluate(model, dataloader, device):\n",
    "    model.eval() \n",
    "    all_predictions = []\n",
    "\n",
    "    with torch.no_grad():\n",
    "        for inputs, _ in dataloader:\n",
    "            inputs = inputs.to(device)\n",
    "\n",
    "            outputs = model(inputs)\n",
    "            _, predicted = torch.max(outputs, 1) # Get class with the highest probability\n",
    "            all_predictions.extend(predicted.cpu().numpy())\n",
    "\n",
    "    return np.array(all_predictions)"
   ]
  },
  {
   "cell_type": "markdown",
   "metadata": {},
   "source": [
    "# Load Data"
   ]
  },
  {
   "cell_type": "code",
   "execution_count": 8,
   "metadata": {},
   "outputs": [],
   "source": [
    "BASE = 'C:/Users/noppa/Downloads/CCU_Internship/program'"
   ]
  },
  {
   "cell_type": "code",
   "execution_count": 9,
   "metadata": {},
   "outputs": [],
   "source": [
    "DATAPATH = 'RanSAP/dataset/original/win7-250gb-ssd'"
   ]
  },
  {
   "cell_type": "code",
   "execution_count": 10,
   "metadata": {},
   "outputs": [
    {
     "name": "stdout",
     "output_type": "stream",
     "text": [
      "['AESCrypt', 'Cerber', 'Darkside', 'Excel', 'Firefox', 'GandCrab4', 'Ryuk', 'SDelete', 'Sodinokibi', 'TeslaCrypt', 'WannaCry', 'Zip']\n"
     ]
    }
   ],
   "source": [
    "os.chdir(f'{BASE}/{DATAPATH}')\n",
    "labels = sorted(os.listdir())\n",
    "print(labels)"
   ]
  },
  {
   "cell_type": "code",
   "execution_count": 11,
   "metadata": {},
   "outputs": [],
   "source": [
    "benign = ['AESCrypt', 'Zip', 'SDelete', 'Excel', 'Firefox']\n",
    "ransomware = ['TeslaCrypt', 'Cerber', 'WannaCry', 'GandCrab4', 'Ryuk', 'Sodinokibi', 'Darkside']"
   ]
  },
  {
   "cell_type": "code",
   "execution_count": 12,
   "metadata": {},
   "outputs": [],
   "source": [
    "X_train = []\n",
    "X_test = []\n",
    "y1_train = []\n",
    "y1_test = []"
   ]
  },
  {
   "cell_type": "code",
   "execution_count": 13,
   "metadata": {},
   "outputs": [
    {
     "name": "stdout",
     "output_type": "stream",
     "text": [
      "AESCrypt-20200526_01-36-31\n",
      "AESCrypt-20200526_00-39-43\n",
      "AESCrypt-20200526_01-21-48\n",
      "AESCrypt-20200526_00-32-39\n",
      "AESCrypt-20200526_01-32-14\n",
      "AESCrypt-20200526_00-44-12\n",
      "AESCrypt-20200526_01-40-49\n",
      "AESCrypt-20200526_01-14-14\n",
      "AESCrypt-20200526_01-09-55\n",
      "AESCrypt-20200526_01-27-25\n",
      "Cerber-20200807_18-23-01\n",
      "Cerber-20200807_00-51-59\n",
      "Cerber-20200807_17-55-29\n",
      "Cerber-20200807_01-01-20\n",
      "Cerber-20200729_03-55-43\n",
      "Cerber-20200729_04-01-34\n",
      "Cerber-20200807_18-27-51\n",
      "Cerber-20200807_18-07-10\n",
      "Cerber-20200807_00-37-14\n",
      "Cerber-20200729_03-12-29\n",
      "Cerber-20200729_03-32-47\n",
      "Cerber-20200807_00-56-53\n",
      "Cerber-20200729_03-37-19\n",
      "Cerber-20200807_00-42-11\n",
      "Cerber-20200807_00-32-25\n",
      "Cerber-20200807_17-50-11\n",
      "Cerber-20200729_03-17-52\n",
      "Cerber-20200729_03-23-39\n",
      "Cerber-20200807_18-12-13\n",
      "Cerber-20200729_03-28-14\n",
      "Cerber-20200807_17-44-02\n",
      "Cerber-20200807_18-16-47\n",
      "Cerber-20200807_01-06-08\n",
      "Cerber-20200807_18-32-30\n",
      "Cerber-20200807_17-35-55\n",
      "Cerber-20200729_03-46-38\n",
      "Cerber-20200807_00-27-33\n",
      "Cerber-20200807_00-46-51\n",
      "Cerber-20200807_01-12-29\n",
      "Cerber-20200729_03-41-41\n",
      "Darkside-20210603_22-42-29\n",
      "Darkside-20210602_19-47-14\n",
      "Darkside-20210603_22-08-14\n",
      "Darkside-20210602_20-00-06\n",
      "Darkside-20210528_00-27-42\n",
      "Darkside-20210528_00-35-25\n",
      "Darkside-20210603_22-51-21\n",
      "Darkside-20210603_22-17-17\n",
      "Darkside-20210602_19-26-39\n",
      "Darkside-20210527_21-49-15\n",
      "Darkside-20210527_23-56-17\n",
      "Darkside-20210602_19-53-37\n",
      "Darkside-20210528_00-04-22\n",
      "Darkside-20210602_19-33-18\n",
      "Darkside-20210602_19-20-10\n",
      "Darkside-20210603_22-00-49\n",
      "Darkside-20210527_23-30-33\n",
      "Darkside-20210527_23-40-08\n",
      "Darkside-20210603_22-25-22\n",
      "Darkside-20210527_23-48-23\n",
      "Darkside-20210603_21-53-16\n",
      "Darkside-20210603_22-33-58\n",
      "Darkside-20210602_20-11-43\n",
      "Darkside-20210603_23-28-47\n",
      "Darkside-20210603_21-46-23\n",
      "Darkside-20210528_00-19-51\n",
      "Darkside-20210602_19-13-21\n",
      "Darkside-20210602_19-39-51\n",
      "Darkside-20210602_20-18-28\n",
      "Darkside-20210528_00-12-18\n",
      "Excel-20210707_19-49-55\n",
      "Excel-20210707_19-17-37\n",
      "Excel-20210708_18-09-42\n",
      "Excel-20210708_18-15-31\n",
      "Excel-20210707_19-29-33\n",
      "Excel-20210707_19-23-49\n",
      "Excel-20210708_18-04-14\n",
      "Excel-20210707_19-40-55\n",
      "Excel-20210707_21-47-18\n",
      "Excel-20210707_19-35-58\n",
      "Excel-20210707_19-54-06\n",
      "Firefox-20210617_22-42-33\n",
      "Firefox-20210617_21-54-16\n",
      "Firefox-20210617_22-22-18\n",
      "Firefox-20210617_21-47-27\n",
      "Firefox-20210617_22-36-15\n",
      "Firefox-20210617_22-00-56\n",
      "Firefox-20210617_22-48-55\n",
      "Firefox-20210617_22-15-49\n",
      "Firefox-20210617_22-07-20\n",
      "Firefox-20210617_22-29-38\n",
      "GandCrab4-20200829_02-18-18\n",
      "GandCrab4-20200828_17-56-09\n",
      "GandCrab4-20200829_01-47-52\n",
      "GandCrab4-20200828_18-10-48\n",
      "GandCrab4-20200827_03-40-35\n",
      "GandCrab4-20200827_03-48-38\n",
      "GandCrab4-20200829_02-27-08\n",
      "GandCrab4-20200829_01-56-58\n",
      "GandCrab4-20200828_17-35-00\n",
      "GandCrab4-20200827_02-29-33\n",
      "GandCrab4-20200827_03-08-06\n",
      "GandCrab4-20200828_18-04-25\n",
      "GandCrab4-20200827_03-15-19\n",
      "GandCrab4-20200828_17-41-54\n",
      "GandCrab4-20200828_17-28-45\n",
      "GandCrab4-20200829_01-39-43\n",
      "GandCrab4-20200827_02-44-19\n",
      "GandCrab4-20200827_02-54-47\n",
      "GandCrab4-20200829_02-03-38\n",
      "GandCrab4-20200827_03-01-29\n",
      "GandCrab4-20200829_01-29-54\n",
      "GandCrab4-20200829_02-10-05\n",
      "GandCrab4-20200828_18-19-16\n",
      "GandCrab4-20200829_02-33-45\n",
      "GandCrab4-20200829_01-21-37\n",
      "GandCrab4-20200827_03-30-07\n",
      "GandCrab4-20200828_17-22-05\n",
      "GandCrab4-20200828_17-48-32\n",
      "GandCrab4-20200828_18-28-23\n",
      "GandCrab4-20200827_03-22-21\n",
      "Ryuk-20200821_22-25-17\n",
      "Ryuk-20200821_01-59-43\n",
      "Ryuk-20200821_22-03-44\n",
      "Ryuk-20200821_02-20-20\n",
      "Ryuk-20200820_19-21-58\n",
      "Ryuk-20200820_19-31-41\n",
      "Ryuk-20200821_22-31-26\n",
      "Ryuk-20200821_22-10-20\n",
      "Ryuk-20200821_01-43-17\n",
      "Ryuk-20200820_18-35-05\n",
      "Ryuk-20200820_18-57-54\n",
      "Ryuk-20200821_02-14-07\n",
      "Ryuk-20200820_19-05-08\n",
      "Ryuk-20200821_01-48-08\n",
      "Ryuk-20200821_01-37-50\n",
      "Ryuk-20200821_21-58-19\n",
      "Ryuk-20200820_18-40-40\n",
      "Ryuk-20200820_18-46-49\n",
      "Ryuk-20200821_22-15-06\n",
      "Ryuk-20200820_18-52-01\n",
      "Ryuk-20200821_21-51-31\n",
      "Ryuk-20200821_22-20-43\n",
      "Ryuk-20200821_02-25-51\n",
      "Ryuk-20200821_22-36-02\n",
      "Ryuk-20200821_21-46-47\n",
      "Ryuk-20200820_19-14-14\n",
      "Ryuk-20200821_01-30-05\n",
      "Ryuk-20200821_01-53-40\n",
      "Ryuk-20200821_02-30-38\n",
      "Ryuk-20200820_19-09-41\n",
      "SDelete-20200526_02-24-19\n",
      "SDelete-20200526_01-51-28\n",
      "SDelete-20200526_02-10-52\n",
      "SDelete-20200526_01-46-46\n",
      "SDelete-20200526_02-19-24\n",
      "SDelete-20200526_01-55-34\n",
      "SDelete-20200526_02-28-35\n",
      "SDelete-20200526_02-06-37\n",
      "SDelete-20200526_02-00-40\n",
      "SDelete-20200526_02-15-30\n",
      "Sodinokibi-20200825_21-18-53\n",
      "Sodinokibi-20200825_00-36-13\n",
      "Sodinokibi-20200825_20-59-48\n",
      "Sodinokibi-20200825_00-46-48\n",
      "Sodinokibi-20200824_21-45-49\n",
      "Sodinokibi-20200824_21-50-33\n",
      "Sodinokibi-20200825_21-50-54\n",
      "Sodinokibi-20200825_21-05-01\n",
      "Sodinokibi-20200825_00-16-46\n",
      "Sodinokibi-20200824_20-28-30\n",
      "Sodinokibi-20200824_20-47-36\n",
      "Sodinokibi-20200825_00-41-15\n",
      "Sodinokibi-20200824_21-28-35\n",
      "Sodinokibi-20200825_00-22-00\n",
      "Sodinokibi-20200825_00-12-08\n",
      "Sodinokibi-20200825_20-53-42\n",
      "Sodinokibi-20200824_20-33-30\n",
      "Sodinokibi-20200824_20-38-24\n",
      "Sodinokibi-20200825_21-09-25\n",
      "Sodinokibi-20200824_20-42-49\n",
      "Sodinokibi-20200825_20-48-38\n",
      "Sodinokibi-20200825_21-14-12\n",
      "Sodinokibi-20200825_00-51-27\n",
      "Sodinokibi-20200825_21-56-02\n",
      "Sodinokibi-20200825_20-43-44\n",
      "Sodinokibi-20200824_21-39-40\n",
      "Sodinokibi-20200825_00-07-24\n",
      "Sodinokibi-20200825_00-29-22\n",
      "Sodinokibi-20200825_01-06-13\n",
      "Sodinokibi-20200824_21-33-39\n",
      "TeslaCrypt-20200729_00-51-05\n",
      "TeslaCrypt-20200716_02-19-43\n",
      "TeslaCrypt-20200729_00-38-37\n",
      "TeslaCrypt-20200716_02-26-36\n",
      "TeslaCrypt-20200521_02-17-15\n",
      "TeslaCrypt-20200521_02-20-36\n",
      "TeslaCrypt-20200729_00-54-09\n",
      "TeslaCrypt-20200729_00-41-47\n",
      "TeslaCrypt-20200716_02-08-02\n",
      "TeslaCrypt-20200521_01-39-14\n",
      "TeslaCrypt-20200521_01-53-00\n",
      "TeslaCrypt-20200716_02-23-06\n",
      "TeslaCrypt-20200521_02-04-37\n",
      "TeslaCrypt-20200716_02-11-15\n",
      "TeslaCrypt-20200716_02-03-20\n",
      "TeslaCrypt-20200729_00-35-35\n",
      "TeslaCrypt-20200521_01-42-30\n",
      "TeslaCrypt-20200521_01-45-56\n",
      "TeslaCrypt-20200729_00-44-46\n",
      "TeslaCrypt-20200521_01-49-17\n",
      "TeslaCrypt-20200729_00-31-49\n",
      "TeslaCrypt-20200729_00-47-52\n",
      "TeslaCrypt-20200716_02-30-17\n",
      "TeslaCrypt-20200729_00-57-23\n",
      "TeslaCrypt-20200729_00-22-50\n",
      "TeslaCrypt-20200521_02-12-40\n",
      "TeslaCrypt-20200716_01-58-15\n",
      "TeslaCrypt-20200716_02-16-08\n",
      "TeslaCrypt-20200716_02-35-45\n",
      "TeslaCrypt-20200521_02-08-12\n",
      "WannaCry-20200729_02-51-16\n",
      "WannaCry-20200716_01-34-07\n",
      "WannaCry-20200729_02-32-48\n",
      "WannaCry-20200716_01-41-08\n",
      "WannaCry-20200520_21-15-53\n",
      "WannaCry-20200520_21-19-26\n",
      "WannaCry-20200729_02-54-18\n",
      "WannaCry-20200729_02-35-50\n",
      "WannaCry-20200716_01-08-53\n",
      "WannaCry-20200520_20-46-31\n",
      "WannaCry-20200520_21-02-11\n",
      "WannaCry-20200716_01-37-43\n",
      "WannaCry-20200520_21-05-29\n",
      "WannaCry-20200716_01-12-18\n",
      "WannaCry-20200716_01-04-27\n",
      "WannaCry-20200729_02-21-23\n",
      "WannaCry-20200520_20-51-15\n",
      "WannaCry-20200520_20-54-30\n",
      "WannaCry-20200729_02-36-00\n",
      "WannaCry-20200520_20-57-50\n",
      "WannaCry-20200729_01-45-54\n",
      "WannaCry-20200729_02-47-24\n",
      "WannaCry-20200716_01-44-19\n",
      "WannaCry-20200729_02-57-44\n",
      "WannaCry-20200729_01-42-19\n",
      "WannaCry-20200520_21-12-34\n",
      "WannaCry-20200716_01-01-01\n",
      "WannaCry-20200716_01-29-03\n",
      "WannaCry-20200716_01-47-43\n",
      "WannaCry-20200520_21-09-21\n",
      "Zip-20200526_03-05-54\n",
      "Zip-20200526_02-42-08\n",
      "Zip-20200526_02-55-21\n",
      "Zip-20200526_02-38-57\n",
      "Zip-20200526_03-02-54\n",
      "Zip-20200526_02-45-37\n",
      "Zip-20200526_03-08-52\n",
      "Zip-20200526_02-51-42\n",
      "Zip-20200526_02-48-42\n",
      "Zip-20200526_02-59-07\n"
     ]
    }
   ],
   "source": [
    "np.random.seed(SEED)\n",
    "for label in labels:\n",
    "    os.chdir(f'{BASE}/{DATAPATH}/{label}')\n",
    "    dirs = sorted(os.listdir())\n",
    "    dirs = np.array(dirs)\n",
    "    # Shuffle directory\n",
    "    np.random.seed(SEED)\n",
    "    np.random.shuffle(dirs)\n",
    "    train_idx = int(len(dirs)*0.8)\n",
    "\n",
    "    for dir_idx in range(len(dirs)):\n",
    "        print(dirs[dir_idx])\n",
    "        os.chdir(f'{BASE}/{DATAPATH}/{label}/{dirs[dir_idx]}')\n",
    "        files = sorted(os.listdir())\n",
    "        tmp = []\n",
    "        \n",
    "        for i in range(t_d - t_w):\n",
    "            df_r = pd.read_csv(f'{BASE}/{DATAPATH}/{label}/{dirs[dir_idx]}/{files[0]}', header=None)\n",
    "            df_w = pd.read_csv(f'{BASE}/{DATAPATH}/{label}/{dirs[dir_idx]}/{files[1]}', header=None)\n",
    "            timestamp_r = np.unique(df_r[0])\n",
    "            timestamp_w = np.unique(df_w[0])\n",
    "\n",
    "            filtered_df_r = df_r[(df_r[0] >= timestamp_r[i]) & (df_r[0] < timestamp_r[i+t_w])]\n",
    "            filtered_df_w = df_w[(df_w[0] >= timestamp_w[i]) & (df_w[0] < timestamp_w[i+t_w])]\n",
    "\n",
    "            # average write throughput [byte/s]\n",
    "            T_write = np.sum(filtered_df_w[3])/t_w\n",
    "\n",
    "            # average read throughput [byte/s]\n",
    "            T_read = np.sum(filtered_df_r[3])/t_w\n",
    "\n",
    "            # variance of logical block addresses (written)\n",
    "            V_write_mean = np.mean(filtered_df_w[2])\n",
    "            V_write = (1/(t_w-1)) * np.sum((filtered_df_w[2]-V_write_mean)**2)\n",
    "\n",
    "            # variance of logical block addresses (read)\n",
    "            V_read_mean = np.mean(filtered_df_r[2])\n",
    "            V_read = (1/(t_w-1)) * np.sum((filtered_df_r[2]-V_read_mean)**2)\n",
    "\n",
    "            # average normalized Shannon entropy\n",
    "            H_write = (1/t_w) * np.sum(filtered_df_w[4])\n",
    "\n",
    "            tmp.append([T_write, T_read, V_write, V_read, H_write])\n",
    "\n",
    "        # Train-Test split\n",
    "        if dir_idx < train_idx:\n",
    "            X_train.append(tmp)\n",
    "            y1_train.append(label)\n",
    "        else:\n",
    "            X_test.append(tmp)\n",
    "            y1_test.append(label)"
   ]
  },
  {
   "cell_type": "code",
   "execution_count": 14,
   "metadata": {},
   "outputs": [
    {
     "name": "stdout",
     "output_type": "stream",
     "text": [
      "(208, 20, 5)\n",
      "(208,)\n",
      "(53, 20, 5)\n",
      "(53,)\n"
     ]
    }
   ],
   "source": [
    "X_train = np.array(X_train)\n",
    "y1_train = np.array(y1_train)\n",
    "X_test = np.array(X_test)\n",
    "y1_test = np.array(y1_test)\n",
    "print(X_train.shape)\n",
    "print(y1_train.shape)\n",
    "print(X_test.shape)\n",
    "print(y1_test.shape)"
   ]
  },
  {
   "cell_type": "markdown",
   "metadata": {},
   "source": [
    "# Data Preprocessing"
   ]
  },
  {
   "cell_type": "markdown",
   "metadata": {},
   "source": [
    "## Min-Max Normalization"
   ]
  },
  {
   "cell_type": "code",
   "execution_count": 15,
   "metadata": {},
   "outputs": [
    {
     "data": {
      "text/plain": [
       "(4160, 5)"
      ]
     },
     "execution_count": 15,
     "metadata": {},
     "output_type": "execute_result"
    }
   ],
   "source": [
    "X_train_reshaped = X_train.reshape(-1, X_train.shape[-1])\n",
    "X_train_reshaped.shape"
   ]
  },
  {
   "cell_type": "code",
   "execution_count": 16,
   "metadata": {},
   "outputs": [
    {
     "data": {
      "text/plain": [
       "(1060, 5)"
      ]
     },
     "execution_count": 16,
     "metadata": {},
     "output_type": "execute_result"
    }
   ],
   "source": [
    "X_test_reshaped = X_test.reshape(-1, X_test.shape[-1])\n",
    "X_test_reshaped.shape"
   ]
  },
  {
   "cell_type": "code",
   "execution_count": 17,
   "metadata": {},
   "outputs": [],
   "source": [
    "scaler = MinMaxScaler()\n",
    "X_train_normalized = scaler.fit_transform(X_train_reshaped)\n",
    "X_test_normalized = scaler.transform(X_test_reshaped)"
   ]
  },
  {
   "cell_type": "code",
   "execution_count": 18,
   "metadata": {},
   "outputs": [],
   "source": [
    "X_train_normalized = X_train_normalized.reshape(X_train.shape)\n",
    "X_test_normalized = X_test_normalized.reshape(X_test.shape)"
   ]
  },
  {
   "cell_type": "code",
   "execution_count": 19,
   "metadata": {},
   "outputs": [
    {
     "name": "stdout",
     "output_type": "stream",
     "text": [
      "(208, 20, 5)\n",
      "(53, 20, 5)\n"
     ]
    }
   ],
   "source": [
    "print(X_train_normalized.shape)\n",
    "print(X_test_normalized.shape)"
   ]
  },
  {
   "cell_type": "markdown",
   "metadata": {},
   "source": [
    "## Label Encoder"
   ]
  },
  {
   "cell_type": "code",
   "execution_count": 20,
   "metadata": {},
   "outputs": [],
   "source": [
    "y_train = []\n",
    "\n",
    "for y in y1_train:\n",
    "    if y in benign:\n",
    "        y_train.append('Benign')\n",
    "    else:\n",
    "        y_train.append('Ransomware')"
   ]
  },
  {
   "cell_type": "code",
   "execution_count": 21,
   "metadata": {},
   "outputs": [],
   "source": [
    "y_test = []\n",
    "\n",
    "for y in y1_test:\n",
    "    if y in benign:\n",
    "        y_test.append('Benign')\n",
    "    else:\n",
    "        y_test.append('Ransomware')"
   ]
  },
  {
   "cell_type": "code",
   "execution_count": 22,
   "metadata": {},
   "outputs": [],
   "source": [
    "y_train = np.array(y_train)\n",
    "y_test = np.array(y_test)"
   ]
  },
  {
   "cell_type": "code",
   "execution_count": 23,
   "metadata": {},
   "outputs": [],
   "source": [
    "lbl = LabelEncoder()"
   ]
  },
  {
   "cell_type": "code",
   "execution_count": 24,
   "metadata": {},
   "outputs": [
    {
     "name": "stdout",
     "output_type": "stream",
     "text": [
      "['Benign' 'Ransomware']\n",
      "[ 40 168]\n"
     ]
    }
   ],
   "source": [
    "classes, count = np.unique(y_train, return_counts=True)\n",
    "print(classes)\n",
    "print(count)"
   ]
  },
  {
   "cell_type": "code",
   "execution_count": 25,
   "metadata": {},
   "outputs": [
    {
     "name": "stdout",
     "output_type": "stream",
     "text": [
      "[0 1] ['Benign' 'Ransomware']\n"
     ]
    },
    {
     "data": {
      "text/plain": [
       "(208,)"
      ]
     },
     "execution_count": 25,
     "metadata": {},
     "output_type": "execute_result"
    }
   ],
   "source": [
    "print(lbl.fit_transform(classes), classes)\n",
    "y_train_int = lbl.fit_transform(y_train)\n",
    "y_train_int.shape"
   ]
  },
  {
   "cell_type": "code",
   "execution_count": 26,
   "metadata": {},
   "outputs": [
    {
     "name": "stdout",
     "output_type": "stream",
     "text": [
      "['Benign' 'Ransomware']\n",
      "[11 42]\n"
     ]
    }
   ],
   "source": [
    "classes_test, count_test = np.unique(y_test, return_counts=True)\n",
    "print(classes_test)\n",
    "print(count_test)"
   ]
  },
  {
   "cell_type": "code",
   "execution_count": 27,
   "metadata": {},
   "outputs": [
    {
     "data": {
      "text/plain": [
       "(53,)"
      ]
     },
     "execution_count": 27,
     "metadata": {},
     "output_type": "execute_result"
    }
   ],
   "source": [
    "y_test_int = lbl.transform(y_test)\n",
    "y_test_int.shape"
   ]
  },
  {
   "cell_type": "markdown",
   "metadata": {},
   "source": [
    "## Data Augmentation"
   ]
  },
  {
   "cell_type": "code",
   "execution_count": 28,
   "metadata": {},
   "outputs": [
    {
     "data": {
      "text/plain": [
       "(208, 100)"
      ]
     },
     "execution_count": 28,
     "metadata": {},
     "output_type": "execute_result"
    }
   ],
   "source": [
    "data_train_flattened = X_train_normalized.reshape(X_train_normalized.shape[0], -1)\n",
    "data_train_flattened.shape"
   ]
  },
  {
   "cell_type": "code",
   "execution_count": 29,
   "metadata": {},
   "outputs": [],
   "source": [
    "np.random.seed(SEED)\n",
    "smote = SMOTE(sampling_strategy='auto', random_state=SEED) # Resample benign class to be equal to ransomware class\n",
    "data_train_resampled_flattened, y_train_int_aug = smote.fit_resample(data_train_flattened, y_train_int)"
   ]
  },
  {
   "cell_type": "code",
   "execution_count": 30,
   "metadata": {},
   "outputs": [
    {
     "data": {
      "text/plain": [
       "(336, 20, 5)"
      ]
     },
     "execution_count": 30,
     "metadata": {},
     "output_type": "execute_result"
    }
   ],
   "source": [
    "X_train_normalized_aug = data_train_resampled_flattened.reshape(data_train_resampled_flattened.shape[0], X_train_normalized.shape[1], X_train_normalized.shape[2])\n",
    "X_train_normalized_aug.shape"
   ]
  },
  {
   "cell_type": "markdown",
   "metadata": {},
   "source": [
    "# Time series as an Input"
   ]
  },
  {
   "cell_type": "markdown",
   "metadata": {},
   "source": [
    "## Shuffle Data"
   ]
  },
  {
   "cell_type": "code",
   "execution_count": 34,
   "metadata": {},
   "outputs": [],
   "source": [
    "np.random.seed(SEED)\n",
    "perm = np.random.permutation(X_train_normalized.shape[0])\n",
    "perm_aug = np.random.permutation(X_train_normalized_aug.shape[0])\n",
    "perm_test = np.random.permutation(X_test_normalized.shape[0])"
   ]
  },
  {
   "cell_type": "code",
   "execution_count": 35,
   "metadata": {},
   "outputs": [],
   "source": [
    "X_train_normalized = X_train_normalized[perm]\n",
    "y_train_int = y_train_int[perm]"
   ]
  },
  {
   "cell_type": "code",
   "execution_count": 36,
   "metadata": {},
   "outputs": [],
   "source": [
    "X_train_normalized_aug = X_train_normalized_aug[perm_aug]\n",
    "y_train_int_aug = y_train_int_aug[perm_aug]"
   ]
  },
  {
   "cell_type": "code",
   "execution_count": 37,
   "metadata": {},
   "outputs": [],
   "source": [
    "X_test_normalized = X_test_normalized[perm_test]\n",
    "y_test_int = y_test_int[perm_test]"
   ]
  },
  {
   "cell_type": "code",
   "execution_count": 38,
   "metadata": {},
   "outputs": [],
   "source": [
    "NUMCLASS = len(classes)"
   ]
  },
  {
   "cell_type": "markdown",
   "metadata": {},
   "source": [
    "## LSTM"
   ]
  },
  {
   "cell_type": "code",
   "execution_count": 39,
   "metadata": {},
   "outputs": [],
   "source": [
    "tf.random.set_seed(SEED)\n",
    "lstm = Sequential(name='LSTM')\n",
    "lstm.add(LSTM(16, activation='tanh', input_shape=(X_train_normalized.shape[1], X_train_normalized.shape[2])))\n",
    "lstm.add(Dense(NUMCLASS, activation='softmax'))\n",
    "\n",
    "lstm.compile(optimizer='adam', loss='binary_crossentropy', metrics=['accuracy'])"
   ]
  },
  {
   "cell_type": "code",
   "execution_count": 40,
   "metadata": {},
   "outputs": [
    {
     "name": "stdout",
     "output_type": "stream",
     "text": [
      "Model: \"LSTM\"\n",
      "_________________________________________________________________\n",
      " Layer (type)                Output Shape              Param #   \n",
      "=================================================================\n",
      " lstm (LSTM)                 (None, 16)                1408      \n",
      "                                                                 \n",
      " dense (Dense)               (None, 2)                 34        \n",
      "                                                                 \n",
      "=================================================================\n",
      "Total params: 1,442\n",
      "Trainable params: 1,442\n",
      "Non-trainable params: 0\n",
      "_________________________________________________________________\n"
     ]
    }
   ],
   "source": [
    "lstm.summary()"
   ]
  },
  {
   "cell_type": "code",
   "execution_count": 41,
   "metadata": {},
   "outputs": [
    {
     "name": "stdout",
     "output_type": "stream",
     "text": [
      "Epoch 1/30\n",
      "6/6 [==============================] - 4s 143ms/step - loss: 0.7041 - accuracy: 0.3193 - val_loss: 0.6950 - val_accuracy: 0.4048\n",
      "Epoch 2/30\n",
      "6/6 [==============================] - 0s 13ms/step - loss: 0.6870 - accuracy: 0.6747 - val_loss: 0.6776 - val_accuracy: 0.8095\n",
      "Epoch 3/30\n",
      "6/6 [==============================] - 0s 13ms/step - loss: 0.6706 - accuracy: 0.8494 - val_loss: 0.6602 - val_accuracy: 0.8095\n",
      "Epoch 4/30\n",
      "6/6 [==============================] - 0s 17ms/step - loss: 0.6531 - accuracy: 0.8313 - val_loss: 0.6418 - val_accuracy: 0.7857\n",
      "Epoch 5/30\n",
      "6/6 [==============================] - 0s 17ms/step - loss: 0.6354 - accuracy: 0.8133 - val_loss: 0.6201 - val_accuracy: 0.7857\n",
      "Epoch 6/30\n",
      "6/6 [==============================] - 0s 14ms/step - loss: 0.6134 - accuracy: 0.8133 - val_loss: 0.5950 - val_accuracy: 0.7857\n",
      "Epoch 7/30\n",
      "6/6 [==============================] - 0s 13ms/step - loss: 0.5864 - accuracy: 0.8133 - val_loss: 0.5690 - val_accuracy: 0.7857\n",
      "Epoch 8/30\n",
      "6/6 [==============================] - 0s 13ms/step - loss: 0.5575 - accuracy: 0.8133 - val_loss: 0.5394 - val_accuracy: 0.7857\n",
      "Epoch 9/30\n",
      "6/6 [==============================] - 0s 14ms/step - loss: 0.5224 - accuracy: 0.8133 - val_loss: 0.5113 - val_accuracy: 0.7857\n",
      "Epoch 10/30\n",
      "6/6 [==============================] - 0s 17ms/step - loss: 0.4835 - accuracy: 0.8133 - val_loss: 0.5012 - val_accuracy: 0.7857\n",
      "Epoch 11/30\n",
      "6/6 [==============================] - 0s 17ms/step - loss: 0.4649 - accuracy: 0.8133 - val_loss: 0.5096 - val_accuracy: 0.7857\n",
      "Epoch 12/30\n",
      "6/6 [==============================] - 0s 14ms/step - loss: 0.4669 - accuracy: 0.8133 - val_loss: 0.5173 - val_accuracy: 0.7857\n",
      "Epoch 13/30\n",
      "6/6 [==============================] - 0s 13ms/step - loss: 0.4572 - accuracy: 0.8133 - val_loss: 0.5037 - val_accuracy: 0.7857\n",
      "Epoch 14/30\n",
      "6/6 [==============================] - 0s 16ms/step - loss: 0.4422 - accuracy: 0.8133 - val_loss: 0.4912 - val_accuracy: 0.8095\n",
      "Epoch 15/30\n",
      "6/6 [==============================] - 0s 17ms/step - loss: 0.4380 - accuracy: 0.8494 - val_loss: 0.4851 - val_accuracy: 0.8095\n",
      "Epoch 16/30\n",
      "6/6 [==============================] - 0s 17ms/step - loss: 0.4380 - accuracy: 0.8494 - val_loss: 0.4855 - val_accuracy: 0.8095\n",
      "Epoch 17/30\n",
      "6/6 [==============================] - 0s 14ms/step - loss: 0.4340 - accuracy: 0.8494 - val_loss: 0.4875 - val_accuracy: 0.8095\n",
      "Epoch 18/30\n",
      "6/6 [==============================] - 0s 13ms/step - loss: 0.4307 - accuracy: 0.8494 - val_loss: 0.4923 - val_accuracy: 0.8095\n",
      "Epoch 19/30\n",
      "6/6 [==============================] - 0s 17ms/step - loss: 0.4293 - accuracy: 0.8494 - val_loss: 0.4958 - val_accuracy: 0.8095\n",
      "Epoch 20/30\n",
      "6/6 [==============================] - 0s 17ms/step - loss: 0.4287 - accuracy: 0.8494 - val_loss: 0.4950 - val_accuracy: 0.8095\n",
      "Epoch 21/30\n",
      "6/6 [==============================] - 0s 13ms/step - loss: 0.4259 - accuracy: 0.8494 - val_loss: 0.4922 - val_accuracy: 0.8095\n",
      "Epoch 22/30\n",
      "6/6 [==============================] - 0s 13ms/step - loss: 0.4239 - accuracy: 0.8494 - val_loss: 0.4887 - val_accuracy: 0.8095\n",
      "Epoch 23/30\n",
      "6/6 [==============================] - 0s 13ms/step - loss: 0.4223 - accuracy: 0.8494 - val_loss: 0.4893 - val_accuracy: 0.8095\n",
      "Epoch 24/30\n",
      "6/6 [==============================] - 0s 17ms/step - loss: 0.4225 - accuracy: 0.8554 - val_loss: 0.4849 - val_accuracy: 0.8095\n",
      "Epoch 25/30\n",
      "6/6 [==============================] - 0s 17ms/step - loss: 0.4200 - accuracy: 0.8554 - val_loss: 0.4868 - val_accuracy: 0.8095\n",
      "Epoch 26/30\n",
      "6/6 [==============================] - 0s 17ms/step - loss: 0.4192 - accuracy: 0.8554 - val_loss: 0.4870 - val_accuracy: 0.8095\n",
      "Epoch 27/30\n",
      "6/6 [==============================] - 0s 13ms/step - loss: 0.4179 - accuracy: 0.8554 - val_loss: 0.4872 - val_accuracy: 0.8095\n",
      "Epoch 28/30\n",
      "6/6 [==============================] - 0s 16ms/step - loss: 0.4176 - accuracy: 0.8554 - val_loss: 0.4901 - val_accuracy: 0.8095\n",
      "Epoch 29/30\n",
      "6/6 [==============================] - 0s 17ms/step - loss: 0.4169 - accuracy: 0.8554 - val_loss: 0.4912 - val_accuracy: 0.8095\n",
      "Epoch 30/30\n",
      "6/6 [==============================] - 0s 14ms/step - loss: 0.4169 - accuracy: 0.8554 - val_loss: 0.4924 - val_accuracy: 0.8095\n"
     ]
    }
   ],
   "source": [
    "tf.random.set_seed(SEED)\n",
    "lstm_history = lstm.fit(X_train_normalized, to_categorical(y_train_int), epochs=EPOCH, batch_size=BATCHSIZE, validation_split=VAL)"
   ]
  },
  {
   "cell_type": "code",
   "execution_count": 42,
   "metadata": {},
   "outputs": [],
   "source": [
    "lstm.save(f'{BASE}/Models/lstm.h5')"
   ]
  },
  {
   "cell_type": "markdown",
   "metadata": {},
   "source": [
    "## LSTM with SMOTE"
   ]
  },
  {
   "cell_type": "code",
   "execution_count": 43,
   "metadata": {},
   "outputs": [],
   "source": [
    "tf.random.set_seed(SEED)\n",
    "lstm_aug = Sequential(name='LSTM_aug')\n",
    "lstm_aug.add(LSTM(16, activation='tanh', input_shape=(X_train_normalized_aug.shape[1], X_train_normalized_aug.shape[2])))\n",
    "lstm_aug.add(Dense(NUMCLASS, activation='softmax'))\n",
    "\n",
    "lstm_aug.compile(optimizer='adam', loss='binary_crossentropy', metrics=['accuracy'])"
   ]
  },
  {
   "cell_type": "code",
   "execution_count": 44,
   "metadata": {},
   "outputs": [
    {
     "name": "stdout",
     "output_type": "stream",
     "text": [
      "Model: \"LSTM_aug\"\n",
      "_________________________________________________________________\n",
      " Layer (type)                Output Shape              Param #   \n",
      "=================================================================\n",
      " lstm_1 (LSTM)               (None, 16)                1408      \n",
      "                                                                 \n",
      " dense_1 (Dense)             (None, 2)                 34        \n",
      "                                                                 \n",
      "=================================================================\n",
      "Total params: 1,442\n",
      "Trainable params: 1,442\n",
      "Non-trainable params: 0\n",
      "_________________________________________________________________\n"
     ]
    }
   ],
   "source": [
    "lstm_aug.summary()"
   ]
  },
  {
   "cell_type": "code",
   "execution_count": 45,
   "metadata": {},
   "outputs": [
    {
     "name": "stdout",
     "output_type": "stream",
     "text": [
      "Epoch 1/30\n",
      "9/9 [==============================] - 3s 85ms/step - loss: 0.6927 - accuracy: 0.5858 - val_loss: 0.6896 - val_accuracy: 0.6471\n",
      "Epoch 2/30\n",
      "9/9 [==============================] - 0s 12ms/step - loss: 0.6893 - accuracy: 0.5933 - val_loss: 0.6837 - val_accuracy: 0.5882\n",
      "Epoch 3/30\n",
      "9/9 [==============================] - 0s 15ms/step - loss: 0.6849 - accuracy: 0.5858 - val_loss: 0.6765 - val_accuracy: 0.5882\n",
      "Epoch 4/30\n",
      "9/9 [==============================] - 0s 12ms/step - loss: 0.6800 - accuracy: 0.5896 - val_loss: 0.6667 - val_accuracy: 0.5882\n",
      "Epoch 5/30\n",
      "9/9 [==============================] - 0s 12ms/step - loss: 0.6717 - accuracy: 0.6045 - val_loss: 0.6511 - val_accuracy: 0.5882\n",
      "Epoch 6/30\n",
      "9/9 [==============================] - 0s 12ms/step - loss: 0.6601 - accuracy: 0.6455 - val_loss: 0.6287 - val_accuracy: 0.6618\n",
      "Epoch 7/30\n",
      "9/9 [==============================] - 0s 12ms/step - loss: 0.6463 - accuracy: 0.6679 - val_loss: 0.6070 - val_accuracy: 0.6471\n",
      "Epoch 8/30\n",
      "9/9 [==============================] - 0s 12ms/step - loss: 0.6343 - accuracy: 0.6978 - val_loss: 0.5926 - val_accuracy: 0.7353\n",
      "Epoch 9/30\n",
      "9/9 [==============================] - 0s 12ms/step - loss: 0.6257 - accuracy: 0.6828 - val_loss: 0.5883 - val_accuracy: 0.6471\n",
      "Epoch 10/30\n",
      "9/9 [==============================] - 0s 13ms/step - loss: 0.6193 - accuracy: 0.6493 - val_loss: 0.5875 - val_accuracy: 0.6912\n",
      "Epoch 11/30\n",
      "9/9 [==============================] - 0s 12ms/step - loss: 0.6117 - accuracy: 0.6866 - val_loss: 0.5844 - val_accuracy: 0.7206\n",
      "Epoch 12/30\n",
      "9/9 [==============================] - 0s 12ms/step - loss: 0.6021 - accuracy: 0.7313 - val_loss: 0.5818 - val_accuracy: 0.7647\n",
      "Epoch 13/30\n",
      "9/9 [==============================] - 0s 12ms/step - loss: 0.5886 - accuracy: 0.7463 - val_loss: 0.5799 - val_accuracy: 0.7794\n",
      "Epoch 14/30\n",
      "9/9 [==============================] - 0s 12ms/step - loss: 0.5729 - accuracy: 0.7351 - val_loss: 0.5770 - val_accuracy: 0.7353\n",
      "Epoch 15/30\n",
      "9/9 [==============================] - 0s 12ms/step - loss: 0.5511 - accuracy: 0.7500 - val_loss: 0.5572 - val_accuracy: 0.8235\n",
      "Epoch 16/30\n",
      "9/9 [==============================] - 0s 12ms/step - loss: 0.5336 - accuracy: 0.7463 - val_loss: 0.5235 - val_accuracy: 0.8529\n",
      "Epoch 17/30\n",
      "9/9 [==============================] - 0s 12ms/step - loss: 0.5207 - accuracy: 0.7687 - val_loss: 0.5056 - val_accuracy: 0.8529\n",
      "Epoch 18/30\n",
      "9/9 [==============================] - 0s 12ms/step - loss: 0.4975 - accuracy: 0.7836 - val_loss: 0.5088 - val_accuracy: 0.8088\n",
      "Epoch 19/30\n",
      "9/9 [==============================] - 0s 13ms/step - loss: 0.4776 - accuracy: 0.7948 - val_loss: 0.4540 - val_accuracy: 0.8529\n",
      "Epoch 20/30\n",
      "9/9 [==============================] - 0s 13ms/step - loss: 0.4720 - accuracy: 0.7836 - val_loss: 0.4430 - val_accuracy: 0.8529\n",
      "Epoch 21/30\n",
      "9/9 [==============================] - 0s 12ms/step - loss: 0.4847 - accuracy: 0.7649 - val_loss: 0.5086 - val_accuracy: 0.7500\n",
      "Epoch 22/30\n",
      "9/9 [==============================] - 0s 12ms/step - loss: 0.4958 - accuracy: 0.7687 - val_loss: 0.4087 - val_accuracy: 0.8676\n",
      "Epoch 23/30\n",
      "9/9 [==============================] - 0s 12ms/step - loss: 0.4969 - accuracy: 0.7537 - val_loss: 0.5820 - val_accuracy: 0.6765\n",
      "Epoch 24/30\n",
      "9/9 [==============================] - 0s 12ms/step - loss: 0.5100 - accuracy: 0.7351 - val_loss: 0.4667 - val_accuracy: 0.8088\n",
      "Epoch 25/30\n",
      "9/9 [==============================] - 0s 12ms/step - loss: 0.4677 - accuracy: 0.7612 - val_loss: 0.4456 - val_accuracy: 0.8235\n",
      "Epoch 26/30\n",
      "9/9 [==============================] - 0s 15ms/step - loss: 0.4538 - accuracy: 0.7799 - val_loss: 0.4143 - val_accuracy: 0.8529\n",
      "Epoch 27/30\n",
      "9/9 [==============================] - 0s 14ms/step - loss: 0.4390 - accuracy: 0.7985 - val_loss: 0.4459 - val_accuracy: 0.8088\n",
      "Epoch 28/30\n",
      "9/9 [==============================] - 0s 14ms/step - loss: 0.4532 - accuracy: 0.7761 - val_loss: 0.3957 - val_accuracy: 0.8676\n",
      "Epoch 29/30\n",
      "9/9 [==============================] - 0s 14ms/step - loss: 0.4482 - accuracy: 0.7910 - val_loss: 0.4869 - val_accuracy: 0.7647\n",
      "Epoch 30/30\n",
      "9/9 [==============================] - 0s 12ms/step - loss: 0.4978 - accuracy: 0.7388 - val_loss: 0.5621 - val_accuracy: 0.7059\n"
     ]
    }
   ],
   "source": [
    "tf.random.set_seed(SEED)\n",
    "lstm_aug_history = lstm_aug.fit(X_train_normalized_aug, to_categorical(y_train_int_aug), epochs=EPOCH, batch_size=BATCHSIZE, validation_split=VAL)"
   ]
  },
  {
   "cell_type": "code",
   "execution_count": 46,
   "metadata": {},
   "outputs": [],
   "source": [
    "lstm_aug.save(f'{BASE}/Models/lstm_aug.h5')"
   ]
  },
  {
   "cell_type": "markdown",
   "metadata": {},
   "source": [
    "# Evaluation"
   ]
  },
  {
   "cell_type": "markdown",
   "metadata": {},
   "source": [
    "## LSTM"
   ]
  },
  {
   "cell_type": "code",
   "execution_count": 47,
   "metadata": {},
   "outputs": [
    {
     "name": "stdout",
     "output_type": "stream",
     "text": [
      "2/2 [==============================] - 1s 16ms/step\n"
     ]
    }
   ],
   "source": [
    "tf.random.set_seed(SEED)\n",
    "lstm_pred = lstm.predict(X_test_normalized)"
   ]
  },
  {
   "cell_type": "code",
   "execution_count": 48,
   "metadata": {},
   "outputs": [],
   "source": [
    "lstm_pred_int = np.argmax(lstm_pred, axis=1)"
   ]
  },
  {
   "cell_type": "code",
   "execution_count": 49,
   "metadata": {},
   "outputs": [
    {
     "name": "stdout",
     "output_type": "stream",
     "text": [
      "Accuracy: 0.8301886792452831\n",
      "Precision: 0.9117647058823529\n",
      "Recall: 0.5909090909090909\n",
      "F1-Score: 0.6054590570719602\n"
     ]
    }
   ],
   "source": [
    "print('Accuracy:', accuracy_score(y_test_int, lstm_pred_int))\n",
    "print('Precision:', precision_score(y_test_int, lstm_pred_int, average='macro'))\n",
    "print('Recall:', recall_score(y_test_int, lstm_pred_int, average='macro'))\n",
    "print('F1-Score:', f1_score(y_test_int, lstm_pred_int, average='macro'))"
   ]
  },
  {
   "cell_type": "code",
   "execution_count": 50,
   "metadata": {},
   "outputs": [
    {
     "data": {
      "image/png": "[encoded data removed]",
      "text/plain": [
       "<Figure size 800x600 with 2 Axes>"
      ]
     },
     "metadata": {},
     "output_type": "display_data"
    }
   ],
   "source": [
    "confusionMatrix_lstm = confusion_matrix(y_test_int, lstm_pred_int, normalize='true')\n",
    "\n",
    "plt.figure(figsize=(8, 6))\n",
    "plt.imshow(confusionMatrix_lstm, cmap=plt.cm.Blues, vmin=0, vmax=1)\n",
    "plt.colorbar()\n",
    "tick_marks = np.arange(len(classes))\n",
    "plt.xticks(tick_marks, classes)\n",
    "plt.yticks(tick_marks, classes)\n",
    "plt.xlabel('Predicted Label')\n",
    "plt.ylabel('Actual Label')\n",
    "\n",
    "for i in range(confusionMatrix_lstm.shape[0]):\n",
    "    for j in range(confusionMatrix_lstm.shape[1]):\n",
    "        plt.text(j, i, format(confusionMatrix_lstm[i, j], '.2f'), ha='center', va='center', color='white' if confusionMatrix_lstm[i, j] > 0.5 else 'black')\n",
    "\n",
    "plt.tight_layout()\n",
    "plt.show()"
   ]
  },
  {
   "cell_type": "markdown",
   "metadata": {},
   "source": [
    "## LSTM with SMOTE"
   ]
  },
  {
   "cell_type": "code",
   "execution_count": 51,
   "metadata": {},
   "outputs": [
    {
     "name": "stdout",
     "output_type": "stream",
     "text": [
      "2/2 [==============================] - 0s 0s/step\n"
     ]
    }
   ],
   "source": [
    "tf.random.set_seed(SEED)\n",
    "lstm_aug_pred = lstm_aug.predict(X_test_normalized)"
   ]
  },
  {
   "cell_type": "code",
   "execution_count": 52,
   "metadata": {},
   "outputs": [],
   "source": [
    "lstm_aug_pred_int = np.argmax(lstm_aug_pred, axis=1)"
   ]
  },
  {
   "cell_type": "code",
   "execution_count": 53,
   "metadata": {},
   "outputs": [
    {
     "name": "stdout",
     "output_type": "stream",
     "text": [
      "Accuracy: 0.8867924528301887\n",
      "Precision: 0.8434343434343434\n",
      "Recall: 0.7943722943722944\n",
      "F1-Score: 0.8151162790697675\n"
     ]
    }
   ],
   "source": [
    "print('Accuracy:', accuracy_score(y_test_int, lstm_aug_pred_int))\n",
    "print('Precision:', precision_score(y_test_int, lstm_aug_pred_int, average='macro'))\n",
    "print('Recall:', recall_score(y_test_int, lstm_aug_pred_int, average='macro'))\n",
    "print('F1-Score:', f1_score(y_test_int, lstm_aug_pred_int, average='macro'))"
   ]
  },
  {
   "cell_type": "code",
   "execution_count": 54,
   "metadata": {},
   "outputs": [
    {
     "data": {
      "image/png": "[encoded data removed]",
      "text/plain": [
       "<Figure size 800x600 with 2 Axes>"
      ]
     },
     "metadata": {},
     "output_type": "display_data"
    }
   ],
   "source": [
    "confusionMatrix_lstm_aug = confusion_matrix(y_test_int, lstm_aug_pred_int, normalize='true')\n",
    "\n",
    "plt.figure(figsize=(8, 6))\n",
    "plt.imshow(confusionMatrix_lstm_aug, cmap=plt.cm.Blues, vmin=0, vmax=1)\n",
    "plt.colorbar()\n",
    "tick_marks = np.arange(len(classes))\n",
    "plt.xticks(tick_marks, classes)\n",
    "plt.yticks(tick_marks, classes)\n",
    "plt.xlabel('Predicted Label')\n",
    "plt.ylabel('Actual Label')\n",
    "\n",
    "for i in range(confusionMatrix_lstm_aug.shape[0]):\n",
    "    for j in range(confusionMatrix_lstm_aug.shape[1]):\n",
    "        plt.text(j, i, format(confusionMatrix_lstm_aug[i, j], '.2f'), ha='center', va='center', color='white' if confusionMatrix_lstm_aug[i, j] > 0.5 else 'black')\n",
    "\n",
    "plt.tight_layout()\n",
    "plt.show()"
   ]
  },
  {
   "cell_type": "markdown",
   "metadata": {},
   "source": [
    "# Image as an Input"
   ]
  },
  {
   "cell_type": "code",
   "execution_count": 55,
   "metadata": {},
   "outputs": [],
   "source": [
    "PLOTSIZE = 16 # Size of GAF and MTF image\n",
    "IMAGESIZE = 64 # Size of image loaded from buffer"
   ]
  },
  {
   "cell_type": "code",
   "execution_count": 56,
   "metadata": {},
   "outputs": [
    {
     "data": {
      "text/plain": [
       "(208, 5, 20)"
      ]
     },
     "execution_count": 56,
     "metadata": {},
     "output_type": "execute_result"
    }
   ],
   "source": [
    "data_train_transposed = np.transpose(X_train_normalized, (0, 2, 1))\n",
    "data_train_transposed.shape"
   ]
  },
  {
   "cell_type": "code",
   "execution_count": 57,
   "metadata": {},
   "outputs": [
    {
     "data": {
      "text/plain": [
       "(336, 5, 20)"
      ]
     },
     "execution_count": 57,
     "metadata": {},
     "output_type": "execute_result"
    }
   ],
   "source": [
    "data_train_aug_transposed = np.transpose(X_train_normalized_aug, (0, 2, 1))\n",
    "data_train_aug_transposed.shape"
   ]
  },
  {
   "cell_type": "code",
   "execution_count": 58,
   "metadata": {},
   "outputs": [
    {
     "data": {
      "text/plain": [
       "(53, 5, 20)"
      ]
     },
     "execution_count": 58,
     "metadata": {},
     "output_type": "execute_result"
    }
   ],
   "source": [
    "data_test_transposed = np.transpose(X_test_normalized, (0, 2, 1))\n",
    "data_test_transposed.shape"
   ]
  },
  {
   "cell_type": "markdown",
   "metadata": {},
   "source": [
    "## Gramian Angular Field"
   ]
  },
  {
   "cell_type": "code",
   "execution_count": 59,
   "metadata": {},
   "outputs": [],
   "source": [
    "gaf0 = GramianAngularField(image_size=PLOTSIZE)\n",
    "gaf1 = GramianAngularField(image_size=PLOTSIZE)\n",
    "gaf2 = GramianAngularField(image_size=PLOTSIZE)\n",
    "gaf3 = GramianAngularField(image_size=PLOTSIZE)\n",
    "gaf4 = GramianAngularField(image_size=PLOTSIZE)"
   ]
  },
  {
   "cell_type": "code",
   "execution_count": 60,
   "metadata": {},
   "outputs": [],
   "source": [
    "gaf_train_f0 = gaf0.fit_transform(data_train_transposed[:, 0, :])\n",
    "gaf_train_f1 = gaf1.fit_transform(data_train_transposed[:, 1, :])\n",
    "gaf_train_f2 = gaf2.fit_transform(data_train_transposed[:, 2, :])\n",
    "gaf_train_f3 = gaf3.fit_transform(data_train_transposed[:, 3, :])\n",
    "gaf_train_f4 = gaf4.fit_transform(data_train_transposed[:, 4, :])"
   ]
  },
  {
   "cell_type": "code",
   "execution_count": 61,
   "metadata": {},
   "outputs": [],
   "source": [
    "gaf_train = np.empty((data_train_transposed.shape[0], PLOTSIZE, PLOTSIZE))\n",
    "for i in range(data_train_transposed.shape[0]):\n",
    "    for j in range(PLOTSIZE):\n",
    "        for k in range(PLOTSIZE):\n",
    "            # Average all values in the same position\n",
    "            gaf_train[i][j][k] = (gaf_train_f0[i][j][k] + gaf_train_f1[i][j][k] + gaf_train_f2[i][j][k] + gaf_train_f3[i][j][k] + gaf_train_f4[i][j][k])/5"
   ]
  },
  {
   "cell_type": "code",
   "execution_count": 62,
   "metadata": {},
   "outputs": [],
   "source": [
    "gaf_img_train_tmp = []\n",
    "\n",
    "for g in gaf_train:\n",
    "    plt.figure(figsize=(6, 6))\n",
    "    plt.imshow(g)\n",
    "    buf = BytesIO()\n",
    "    plt.savefig(buf, format='png')\n",
    "    plt.close()\n",
    "\n",
    "    buf.seek(0)\n",
    "    image = Image.open(buf)\n",
    "    image = image.resize((IMAGESIZE, IMAGESIZE))\n",
    "    image_array = np.array(image)\n",
    "    gaf_img_train_tmp.append(image_array)"
   ]
  },
  {
   "cell_type": "code",
   "execution_count": 63,
   "metadata": {},
   "outputs": [
    {
     "data": {
      "text/plain": [
       "(208, 64, 64, 4)"
      ]
     },
     "execution_count": 63,
     "metadata": {},
     "output_type": "execute_result"
    }
   ],
   "source": [
    "gaf_img_train = np.stack(gaf_img_train_tmp, axis=0)\n",
    "gaf_img_train = gaf_img_train/255\n",
    "gaf_img_train.shape"
   ]
  },
  {
   "cell_type": "code",
   "execution_count": 64,
   "metadata": {},
   "outputs": [],
   "source": [
    "gaf_test_f0 = gaf0.transform(data_test_transposed[:, 0, :])\n",
    "gaf_test_f1 = gaf1.transform(data_test_transposed[:, 1, :])\n",
    "gaf_test_f2 = gaf2.transform(data_test_transposed[:, 2, :])\n",
    "gaf_test_f3 = gaf3.transform(data_test_transposed[:, 3, :])\n",
    "gaf_test_f4 = gaf4.transform(data_test_transposed[:, 4, :])"
   ]
  },
  {
   "cell_type": "code",
   "execution_count": 65,
   "metadata": {},
   "outputs": [],
   "source": [
    "gaf_test = np.empty((data_test_transposed.shape[0], PLOTSIZE, PLOTSIZE))\n",
    "for i in range(data_test_transposed.shape[0]):\n",
    "    for j in range(PLOTSIZE):\n",
    "        for k in range(PLOTSIZE):\n",
    "            gaf_test[i][j][k] = (gaf_test_f0[i][j][k] + gaf_test_f1[i][j][k] + gaf_test_f2[i][j][k] + gaf_test_f3[i][j][k] + gaf_test_f4[i][j][k])/5"
   ]
  },
  {
   "cell_type": "code",
   "execution_count": 66,
   "metadata": {},
   "outputs": [],
   "source": [
    "gaf_img_test_tmp = []\n",
    "\n",
    "for g in gaf_test:\n",
    "    plt.figure(figsize=(6, 6))\n",
    "    plt.imshow(g)\n",
    "    buf = BytesIO()\n",
    "    plt.savefig(buf, format='png')\n",
    "    plt.close()\n",
    "\n",
    "    buf.seek(0)\n",
    "    image = Image.open(buf)\n",
    "    image = image.resize((IMAGESIZE, IMAGESIZE))\n",
    "    image_array = np.array(image)\n",
    "    gaf_img_test_tmp.append(image_array)"
   ]
  },
  {
   "cell_type": "code",
   "execution_count": 67,
   "metadata": {},
   "outputs": [
    {
     "data": {
      "text/plain": [
       "(53, 64, 64, 4)"
      ]
     },
     "execution_count": 67,
     "metadata": {},
     "output_type": "execute_result"
    }
   ],
   "source": [
    "gaf_img_test = np.stack(gaf_img_test_tmp, axis=0)\n",
    "gaf_img_test = gaf_img_test/255\n",
    "gaf_img_test.shape"
   ]
  },
  {
   "cell_type": "markdown",
   "metadata": {},
   "source": [
    "### CNN"
   ]
  },
  {
   "cell_type": "code",
   "execution_count": 68,
   "metadata": {},
   "outputs": [],
   "source": [
    "tf.random.set_seed(SEED)\n",
    "cnn_gaf = Sequential(name='CNN_GAF')\n",
    "cnn_gaf.add(Conv2D(32, (3, 3), activation='relu', input_shape=(gaf_img_train.shape[1], gaf_img_train.shape[2], gaf_img_train.shape[3])))\n",
    "cnn_gaf.add(MaxPooling2D((2, 2)))\n",
    "cnn_gaf.add(Dropout(0.2))\n",
    "cnn_gaf.add(Conv2D(16, (3, 3), activation='relu'))\n",
    "cnn_gaf.add(MaxPooling2D((2, 2)))\n",
    "cnn_gaf.add(Dropout(0.2))\n",
    "cnn_gaf.add(Conv2D(8, (3, 3), activation='relu'))\n",
    "cnn_gaf.add(MaxPooling2D((2, 2)))\n",
    "cnn_gaf.add(Flatten())\n",
    "cnn_gaf.add(Dense(8, activation='relu'))\n",
    "cnn_gaf.add(Dense(NUMCLASS, activation='softmax'))\n",
    "\n",
    "cnn_gaf.compile(optimizer='adam', loss='binary_crossentropy', metrics=['accuracy'])"
   ]
  },
  {
   "cell_type": "code",
   "execution_count": 69,
   "metadata": {},
   "outputs": [
    {
     "name": "stdout",
     "output_type": "stream",
     "text": [
      "Model: \"CNN_GAF\"\n",
      "_________________________________________________________________\n",
      " Layer (type)                Output Shape              Param #   \n",
      "=================================================================\n",
      " conv2d (Conv2D)             (None, 62, 62, 32)        1184      \n",
      "                                                                 \n",
      " max_pooling2d (MaxPooling2D  (None, 31, 31, 32)       0         \n",
      " )                                                               \n",
      "                                                                 \n",
      " dropout (Dropout)           (None, 31, 31, 32)        0         \n",
      "                                                                 \n",
      " conv2d_1 (Conv2D)           (None, 29, 29, 16)        4624      \n",
      "                                                                 \n",
      " max_pooling2d_1 (MaxPooling  (None, 14, 14, 16)       0         \n",
      " 2D)                                                             \n",
      "                                                                 \n",
      " dropout_1 (Dropout)         (None, 14, 14, 16)        0         \n",
      "                                                                 \n",
      " conv2d_2 (Conv2D)           (None, 12, 12, 8)         1160      \n",
      "                                                                 \n",
      " max_pooling2d_2 (MaxPooling  (None, 6, 6, 8)          0         \n",
      " 2D)                                                             \n",
      "                                                                 \n",
      " flatten (Flatten)           (None, 288)               0         \n",
      "                                                                 \n",
      " dense_2 (Dense)             (None, 8)                 2312      \n",
      "                                                                 \n",
      " dense_3 (Dense)             (None, 2)                 18        \n",
      "                                                                 \n",
      "=================================================================\n",
      "Total params: 9,298\n",
      "Trainable params: 9,298\n",
      "Non-trainable params: 0\n",
      "_________________________________________________________________\n"
     ]
    }
   ],
   "source": [
    "cnn_gaf.summary()"
   ]
  },
  {
   "cell_type": "code",
   "execution_count": 70,
   "metadata": {},
   "outputs": [
    {
     "name": "stdout",
     "output_type": "stream",
     "text": [
      "Epoch 1/30\n",
      "6/6 [==============================] - 2s 166ms/step - loss: 0.8179 - accuracy: 0.2349 - val_loss: 0.6932 - val_accuracy: 0.6429\n",
      "Epoch 2/30\n",
      "6/6 [==============================] - 1s 103ms/step - loss: 0.6522 - accuracy: 0.7771 - val_loss: 0.6434 - val_accuracy: 0.7857\n",
      "Epoch 3/30\n",
      "6/6 [==============================] - 1s 98ms/step - loss: 0.5837 - accuracy: 0.8133 - val_loss: 0.5821 - val_accuracy: 0.7857\n",
      "Epoch 4/30\n",
      "6/6 [==============================] - 1s 103ms/step - loss: 0.5463 - accuracy: 0.8133 - val_loss: 0.5636 - val_accuracy: 0.7857\n",
      "Epoch 5/30\n",
      "6/6 [==============================] - 1s 99ms/step - loss: 0.5438 - accuracy: 0.8133 - val_loss: 0.5501 - val_accuracy: 0.7857\n",
      "Epoch 6/30\n",
      "6/6 [==============================] - 1s 115ms/step - loss: 0.5117 - accuracy: 0.8133 - val_loss: 0.5464 - val_accuracy: 0.7857\n",
      "Epoch 7/30\n",
      "6/6 [==============================] - 1s 106ms/step - loss: 0.5111 - accuracy: 0.8133 - val_loss: 0.5565 - val_accuracy: 0.7857\n",
      "Epoch 8/30\n",
      "6/6 [==============================] - 1s 111ms/step - loss: 0.5082 - accuracy: 0.8133 - val_loss: 0.5411 - val_accuracy: 0.7857\n",
      "Epoch 9/30\n",
      "6/6 [==============================] - 1s 116ms/step - loss: 0.4921 - accuracy: 0.8133 - val_loss: 0.5149 - val_accuracy: 0.7857\n",
      "Epoch 10/30\n",
      "6/6 [==============================] - 1s 128ms/step - loss: 0.4860 - accuracy: 0.8133 - val_loss: 0.5134 - val_accuracy: 0.7857\n",
      "Epoch 11/30\n",
      "6/6 [==============================] - 1s 88ms/step - loss: 0.4757 - accuracy: 0.8133 - val_loss: 0.5078 - val_accuracy: 0.7857\n",
      "Epoch 12/30\n",
      "6/6 [==============================] - 1s 119ms/step - loss: 0.4816 - accuracy: 0.8133 - val_loss: 0.5051 - val_accuracy: 0.7857\n",
      "Epoch 13/30\n",
      "6/6 [==============================] - 1s 115ms/step - loss: 0.4731 - accuracy: 0.8133 - val_loss: 0.5204 - val_accuracy: 0.7857\n",
      "Epoch 14/30\n",
      "6/6 [==============================] - 1s 110ms/step - loss: 0.4798 - accuracy: 0.8133 - val_loss: 0.5232 - val_accuracy: 0.7857\n",
      "Epoch 15/30\n",
      "6/6 [==============================] - 1s 113ms/step - loss: 0.4785 - accuracy: 0.8133 - val_loss: 0.5104 - val_accuracy: 0.7857\n",
      "Epoch 16/30\n",
      "6/6 [==============================] - 1s 100ms/step - loss: 0.4786 - accuracy: 0.8133 - val_loss: 0.4973 - val_accuracy: 0.7857\n",
      "Epoch 17/30\n",
      "6/6 [==============================] - 1s 93ms/step - loss: 0.4703 - accuracy: 0.8133 - val_loss: 0.5006 - val_accuracy: 0.7857\n",
      "Epoch 18/30\n",
      "6/6 [==============================] - 1s 104ms/step - loss: 0.4585 - accuracy: 0.8133 - val_loss: 0.4974 - val_accuracy: 0.7857\n",
      "Epoch 19/30\n",
      "6/6 [==============================] - 1s 99ms/step - loss: 0.4634 - accuracy: 0.8133 - val_loss: 0.5000 - val_accuracy: 0.7857\n",
      "Epoch 20/30\n",
      "6/6 [==============================] - 1s 112ms/step - loss: 0.4599 - accuracy: 0.8133 - val_loss: 0.4892 - val_accuracy: 0.7857\n",
      "Epoch 21/30\n",
      "6/6 [==============================] - 1s 120ms/step - loss: 0.4612 - accuracy: 0.8133 - val_loss: 0.4853 - val_accuracy: 0.7857\n",
      "Epoch 22/30\n",
      "6/6 [==============================] - 1s 107ms/step - loss: 0.4582 - accuracy: 0.8133 - val_loss: 0.4902 - val_accuracy: 0.7857\n",
      "Epoch 23/30\n",
      "6/6 [==============================] - 1s 100ms/step - loss: 0.4570 - accuracy: 0.8133 - val_loss: 0.4795 - val_accuracy: 0.7857\n",
      "Epoch 24/30\n",
      "6/6 [==============================] - 1s 123ms/step - loss: 0.4622 - accuracy: 0.8133 - val_loss: 0.4920 - val_accuracy: 0.7857\n",
      "Epoch 25/30\n",
      "6/6 [==============================] - 1s 127ms/step - loss: 0.4481 - accuracy: 0.8133 - val_loss: 0.4738 - val_accuracy: 0.7857\n",
      "Epoch 26/30\n",
      "6/6 [==============================] - 1s 117ms/step - loss: 0.4630 - accuracy: 0.8133 - val_loss: 0.4723 - val_accuracy: 0.7857\n",
      "Epoch 27/30\n",
      "6/6 [==============================] - 1s 123ms/step - loss: 0.4433 - accuracy: 0.8133 - val_loss: 0.4718 - val_accuracy: 0.7857\n",
      "Epoch 28/30\n",
      "6/6 [==============================] - 1s 127ms/step - loss: 0.4464 - accuracy: 0.8133 - val_loss: 0.4652 - val_accuracy: 0.7857\n",
      "Epoch 29/30\n",
      "6/6 [==============================] - 1s 117ms/step - loss: 0.4445 - accuracy: 0.8133 - val_loss: 0.4633 - val_accuracy: 0.7857\n",
      "Epoch 30/30\n",
      "6/6 [==============================] - 1s 121ms/step - loss: 0.4358 - accuracy: 0.8133 - val_loss: 0.4594 - val_accuracy: 0.7857\n"
     ]
    }
   ],
   "source": [
    "tf.random.set_seed(SEED)\n",
    "cnn_gaf_history = cnn_gaf.fit(gaf_img_train, to_categorical(y_train_int), epochs=EPOCH, batch_size=BATCHSIZE, validation_split=VAL)"
   ]
  },
  {
   "cell_type": "code",
   "execution_count": 71,
   "metadata": {},
   "outputs": [
    {
     "data": {
      "text/plain": [
       "<function matplotlib.pyplot.show(close=None, block=None)>"
      ]
     },
     "execution_count": 71,
     "metadata": {},
     "output_type": "execute_result"
    },
    {
     "data": {
      "image/png": "[encoded data removed]",
      "text/plain": [
       "<Figure size 640x480 with 1 Axes>"
      ]
     },
     "metadata": {},
     "output_type": "display_data"
    }
   ],
   "source": [
    "plt.plot(cnn_gaf_history.history['loss'], label='loss')\n",
    "plt.plot(cnn_gaf_history.history['val_loss'], label='val_loss')\n",
    "plt.xticks(range(0, EPOCH, 2), range(1, EPOCH+1, 2))\n",
    "plt.title('Training history of CNN model with GAF image')\n",
    "plt.xlabel('Epoch')\n",
    "plt.ylabel('Loss')\n",
    "plt.legend()\n",
    "plt.show"
   ]
  },
  {
   "cell_type": "code",
   "execution_count": 72,
   "metadata": {},
   "outputs": [],
   "source": [
    "cnn_gaf.save(f'{BASE}/Models/cnn_gaf.h5')"
   ]
  },
  {
   "cell_type": "markdown",
   "metadata": {},
   "source": [
    "### ViT"
   ]
  },
  {
   "cell_type": "code",
   "execution_count": 73,
   "metadata": {},
   "outputs": [],
   "source": [
    "np.random.seed(SEED)\n",
    "torch.manual_seed(SEED)\n",
    "g = torch.Generator()\n",
    "g.manual_seed(SEED)\n",
    "gaf_train_dataloader = DataLoader(NumpyDataset(gaf_img_train, y_train_int, transform), batch_size=BATCHSIZE, shuffle=False, worker_init_fn=np.random.seed(SEED), generator=g)\n",
    "gaf_test_dataloader = DataLoader(NumpyDataset(gaf_img_test, y_test_int, transform), batch_size=BATCHSIZE, shuffle=False, worker_init_fn=np.random.seed(SEED), generator=g)"
   ]
  },
  {
   "cell_type": "code",
   "execution_count": 74,
   "metadata": {},
   "outputs": [],
   "source": [
    "torch.manual_seed(SEED)\n",
    "device = torch.device('cpu')\n",
    "vit_gaf = timm.create_model('vit_base_patch16_224', pretrained=True)\n",
    "vit_gaf.head = nn.Linear(vit_gaf.head.in_features, NUMCLASS)\n",
    "vit_gaf = vit_gaf.to(device)"
   ]
  },
  {
   "cell_type": "code",
   "execution_count": 75,
   "metadata": {},
   "outputs": [],
   "source": [
    "# Freeze all layer except added head layer\n",
    "for param in vit_gaf.parameters():\n",
    "    param.requires_grad = False\n",
    "for param in vit_gaf.head.parameters():\n",
    "    param.requires_grad = True"
   ]
  },
  {
   "cell_type": "code",
   "execution_count": 76,
   "metadata": {},
   "outputs": [
    {
     "name": "stdout",
     "output_type": "stream",
     "text": [
      "Total parameters: 85,800,194\n",
      "Trainable parameters: 1,538\n"
     ]
    }
   ],
   "source": [
    "# Count parameters\n",
    "total_params = sum(p.numel() for p in vit_gaf.parameters())\n",
    "print(f'Total parameters: {total_params:,}')\n",
    "total_trainable_params = sum(p.numel() for p in vit_gaf.parameters() if p.requires_grad)\n",
    "print(f'Trainable parameters: {total_trainable_params:,}')"
   ]
  },
  {
   "cell_type": "code",
   "execution_count": 77,
   "metadata": {},
   "outputs": [
    {
     "name": "stdout",
     "output_type": "stream",
     "text": [
      "Epoch 1/30, Loss: 0.7621\n",
      "Epoch 2/30, Loss: 0.5391\n",
      "Epoch 3/30, Loss: 0.4497\n",
      "Epoch 4/30, Loss: 0.4163\n",
      "Epoch 5/30, Loss: 0.3788\n",
      "Epoch 6/30, Loss: 0.3629\n",
      "Epoch 7/30, Loss: 0.3576\n",
      "Epoch 8/30, Loss: 0.3462\n",
      "Epoch 9/30, Loss: 0.3418\n",
      "Epoch 10/30, Loss: 0.3341\n",
      "Epoch 11/30, Loss: 0.3296\n",
      "Epoch 12/30, Loss: 0.3244\n",
      "Epoch 13/30, Loss: 0.3198\n",
      "Epoch 14/30, Loss: 0.3157\n",
      "Epoch 15/30, Loss: 0.3113\n",
      "Epoch 16/30, Loss: 0.3076\n",
      "Epoch 17/30, Loss: 0.3035\n",
      "Epoch 18/30, Loss: 0.2999\n",
      "Epoch 19/30, Loss: 0.2962\n",
      "Epoch 20/30, Loss: 0.2927\n",
      "Epoch 21/30, Loss: 0.2892\n",
      "Epoch 22/30, Loss: 0.2858\n",
      "Epoch 23/30, Loss: 0.2824\n",
      "Epoch 24/30, Loss: 0.2792\n",
      "Epoch 25/30, Loss: 0.2760\n",
      "Epoch 26/30, Loss: 0.2728\n",
      "Epoch 27/30, Loss: 0.2698\n",
      "Epoch 28/30, Loss: 0.2668\n",
      "Epoch 29/30, Loss: 0.2638\n",
      "Epoch 30/30, Loss: 0.2609\n"
     ]
    }
   ],
   "source": [
    "torch.manual_seed(SEED)\n",
    "criterion = nn.CrossEntropyLoss()\n",
    "optimizer = optim.Adam(vit_gaf.head.parameters(), lr=0.001)\n",
    "\n",
    "for epoch in range(EPOCH):\n",
    "    vit_gaf.train()\n",
    "    running_loss = 0\n",
    "\n",
    "    for inputs, labels in gaf_train_dataloader:\n",
    "        inputs, labels = inputs.to(device), labels.to(device)\n",
    "\n",
    "        optimizer.zero_grad()\n",
    "\n",
    "        outputs = vit_gaf(inputs)\n",
    "        loss = criterion(outputs, labels)\n",
    "        loss.backward()\n",
    "        optimizer.step()\n",
    "\n",
    "        running_loss += loss.item() * inputs.size(0)\n",
    "\n",
    "    epoch_loss = running_loss / len(gaf_train_dataloader.dataset)\n",
    "    print(f\"Epoch {epoch + 1}/{EPOCH}, Loss: {epoch_loss:.4f}\")"
   ]
  },
  {
   "cell_type": "code",
   "execution_count": 78,
   "metadata": {},
   "outputs": [],
   "source": [
    "torch.save(vit_gaf.state_dict(), f'{BASE}/Models/vit_gaf.pth')"
   ]
  },
  {
   "cell_type": "markdown",
   "metadata": {},
   "source": [
    "### Evaluation"
   ]
  },
  {
   "cell_type": "markdown",
   "metadata": {},
   "source": [
    "#### CNN"
   ]
  },
  {
   "cell_type": "code",
   "execution_count": 79,
   "metadata": {},
   "outputs": [
    {
     "name": "stdout",
     "output_type": "stream",
     "text": [
      "2/2 [==============================] - 0s 8ms/step\n"
     ]
    }
   ],
   "source": [
    "tf.random.set_seed(SEED)\n",
    "cnn_gaf_pred = cnn_gaf.predict(gaf_img_test)"
   ]
  },
  {
   "cell_type": "code",
   "execution_count": 80,
   "metadata": {},
   "outputs": [],
   "source": [
    "cnn_gaf_pred_int = np.argmax(cnn_gaf_pred, axis=1)"
   ]
  },
  {
   "cell_type": "code",
   "execution_count": 81,
   "metadata": {},
   "outputs": [
    {
     "name": "stdout",
     "output_type": "stream",
     "text": [
      "Accuracy: 0.7924528301886793\n",
      "Precision: 0.39622641509433965\n",
      "Recall: 0.5\n",
      "F1-Score: 0.4421052631578947\n"
     ]
    },
    {
     "name": "stderr",
     "output_type": "stream",
     "text": [
      "c:\\Users\\noppa\\anaconda3\\envs\\dev\\lib\\site-packages\\sklearn\\metrics\\_classification.py:1509: UndefinedMetricWarning: Precision is ill-defined and being set to 0.0 in labels with no predicted samples. Use `zero_division` parameter to control this behavior.\n",
      "  _warn_prf(average, modifier, f\"{metric.capitalize()} is\", len(result))\n"
     ]
    }
   ],
   "source": [
    "print('Accuracy:', accuracy_score(y_test_int, cnn_gaf_pred_int))\n",
    "print('Precision:', precision_score(y_test_int, cnn_gaf_pred_int, average='macro'))\n",
    "print('Recall:', recall_score(y_test_int, cnn_gaf_pred_int, average='macro'))\n",
    "print('F1-Score:', f1_score(y_test_int, cnn_gaf_pred_int, average='macro'))"
   ]
  },
  {
   "cell_type": "code",
   "execution_count": 82,
   "metadata": {},
   "outputs": [
    {
     "data": {
      "image/png": "[encoded data removed]",
      "text/plain": [
       "<Figure size 800x600 with 2 Axes>"
      ]
     },
     "metadata": {},
     "output_type": "display_data"
    }
   ],
   "source": [
    "confusionMatrix_cnn_gaf = confusion_matrix(y_test_int, cnn_gaf_pred_int, normalize='true')\n",
    "\n",
    "plt.figure(figsize=(8, 6))\n",
    "plt.imshow(confusionMatrix_cnn_gaf, cmap=plt.cm.Blues, vmin=0, vmax=1)\n",
    "plt.colorbar()\n",
    "tick_marks = np.arange(len(classes))\n",
    "plt.xticks(tick_marks, classes)\n",
    "plt.yticks(tick_marks, classes)\n",
    "plt.xlabel('Predicted Label')\n",
    "plt.ylabel('Actual Label')\n",
    "\n",
    "for i in range(confusionMatrix_cnn_gaf.shape[0]):\n",
    "    for j in range(confusionMatrix_cnn_gaf.shape[1]):\n",
    "        plt.text(j, i, format(confusionMatrix_cnn_gaf[i, j], '.2f'), ha='center', va='center', color='white' if confusionMatrix_cnn_gaf[i, j] > 0.5 else 'black')\n",
    "\n",
    "plt.tight_layout()\n",
    "plt.show()"
   ]
  },
  {
   "cell_type": "markdown",
   "metadata": {},
   "source": [
    "#### ViT"
   ]
  },
  {
   "cell_type": "code",
   "execution_count": 83,
   "metadata": {},
   "outputs": [],
   "source": [
    "vit_gaf_pred_int = evaluate(vit_gaf, gaf_test_dataloader, device)"
   ]
  },
  {
   "cell_type": "code",
   "execution_count": 84,
   "metadata": {},
   "outputs": [
    {
     "name": "stdout",
     "output_type": "stream",
     "text": [
      "Accuracy: 0.8490566037735849\n",
      "Precision: 0.8270833333333334\n",
      "Recall: 0.6699134199134199\n",
      "F1-Score: 0.7055555555555555\n"
     ]
    }
   ],
   "source": [
    "print('Accuracy:', accuracy_score(y_test_int, vit_gaf_pred_int))\n",
    "print('Precision:', precision_score(y_test_int, vit_gaf_pred_int, average='macro'))\n",
    "print('Recall:', recall_score(y_test_int, vit_gaf_pred_int, average='macro'))\n",
    "print('F1-Score:', f1_score(y_test_int, vit_gaf_pred_int, average='macro'))"
   ]
  },
  {
   "cell_type": "code",
   "execution_count": 85,
   "metadata": {},
   "outputs": [
    {
     "data": {
      "image/png": "[encoded data removed]",
      "text/plain": [
       "<Figure size 800x600 with 2 Axes>"
      ]
     },
     "metadata": {},
     "output_type": "display_data"
    }
   ],
   "source": [
    "confusionMatrix_vit_gaf = confusion_matrix(y_test_int, vit_gaf_pred_int, normalize='true')\n",
    "\n",
    "plt.figure(figsize=(8, 6))\n",
    "plt.imshow(confusionMatrix_vit_gaf, cmap=plt.cm.Blues, vmin=0, vmax=1)\n",
    "plt.colorbar()\n",
    "tick_marks = np.arange(len(classes))\n",
    "plt.xticks(tick_marks, classes)\n",
    "plt.yticks(tick_marks, classes)\n",
    "plt.xlabel('Predicted Label')\n",
    "plt.ylabel('Actual Label')\n",
    "\n",
    "for i in range(confusionMatrix_vit_gaf.shape[0]):\n",
    "    for j in range(confusionMatrix_vit_gaf.shape[1]):\n",
    "        plt.text(j, i, format(confusionMatrix_vit_gaf[i, j], '.2f'), ha='center', va='center', color='white' if confusionMatrix_vit_gaf[i, j] > 0.5 else 'black')\n",
    "\n",
    "plt.tight_layout()\n",
    "plt.show()"
   ]
  },
  {
   "cell_type": "markdown",
   "metadata": {},
   "source": [
    "### GAF Augmentation"
   ]
  },
  {
   "cell_type": "code",
   "execution_count": 86,
   "metadata": {},
   "outputs": [],
   "source": [
    "gaf0_aug = GramianAngularField(image_size=PLOTSIZE)\n",
    "gaf1_aug = GramianAngularField(image_size=PLOTSIZE)\n",
    "gaf2_aug = GramianAngularField(image_size=PLOTSIZE)\n",
    "gaf3_aug = GramianAngularField(image_size=PLOTSIZE)\n",
    "gaf4_aug = GramianAngularField(image_size=PLOTSIZE)"
   ]
  },
  {
   "cell_type": "code",
   "execution_count": 87,
   "metadata": {},
   "outputs": [],
   "source": [
    "gaf_train_aug_f0 = gaf0_aug.fit_transform(data_train_aug_transposed[:, 0, :])\n",
    "gaf_train_aug_f1 = gaf1_aug.fit_transform(data_train_aug_transposed[:, 1, :])\n",
    "gaf_train_aug_f2 = gaf2_aug.fit_transform(data_train_aug_transposed[:, 2, :])\n",
    "gaf_train_aug_f3 = gaf3_aug.fit_transform(data_train_aug_transposed[:, 3, :])\n",
    "gaf_train_aug_f4 = gaf4_aug.fit_transform(data_train_aug_transposed[:, 4, :])"
   ]
  },
  {
   "cell_type": "code",
   "execution_count": 88,
   "metadata": {},
   "outputs": [],
   "source": [
    "gaf_train_aug = np.empty((data_train_aug_transposed.shape[0], PLOTSIZE, PLOTSIZE))\n",
    "for i in range(data_train_aug_transposed.shape[0]):\n",
    "    for j in range(PLOTSIZE):\n",
    "        for k in range(PLOTSIZE):\n",
    "            gaf_train_aug[i][j][k] = (gaf_train_aug_f0[i][j][k] + gaf_train_aug_f1[i][j][k] + gaf_train_aug_f2[i][j][k] + gaf_train_aug_f3[i][j][k] + gaf_train_aug_f4[i][j][k])/5"
   ]
  },
  {
   "cell_type": "code",
   "execution_count": 89,
   "metadata": {},
   "outputs": [],
   "source": [
    "gaf_img_train_aug_tmp = []\n",
    "\n",
    "for g in gaf_train_aug:\n",
    "    plt.figure(figsize=(6, 6))\n",
    "    plt.imshow(g)\n",
    "    buf = BytesIO()\n",
    "    plt.savefig(buf, format='png')\n",
    "    plt.close()\n",
    "\n",
    "    buf.seek(0)\n",
    "    image = Image.open(buf)\n",
    "    image = image.resize((IMAGESIZE, IMAGESIZE))\n",
    "    image_array = np.array(image)\n",
    "    gaf_img_train_aug_tmp.append(image_array)"
   ]
  },
  {
   "cell_type": "code",
   "execution_count": 90,
   "metadata": {},
   "outputs": [
    {
     "data": {
      "text/plain": [
       "(336, 64, 64, 4)"
      ]
     },
     "execution_count": 90,
     "metadata": {},
     "output_type": "execute_result"
    }
   ],
   "source": [
    "gaf_img_train_aug = np.stack(gaf_img_train_aug_tmp, axis=0)\n",
    "gaf_img_train_aug = gaf_img_train_aug/255\n",
    "gaf_img_train_aug.shape"
   ]
  },
  {
   "cell_type": "code",
   "execution_count": 91,
   "metadata": {},
   "outputs": [],
   "source": [
    "gaf_test_f0 = gaf0_aug.transform(data_test_transposed[:, 0, :])\n",
    "gaf_test_f1 = gaf1_aug.transform(data_test_transposed[:, 1, :])\n",
    "gaf_test_f2 = gaf2_aug.transform(data_test_transposed[:, 2, :])\n",
    "gaf_test_f3 = gaf3_aug.transform(data_test_transposed[:, 3, :])\n",
    "gaf_test_f4 = gaf4_aug.transform(data_test_transposed[:, 4, :])"
   ]
  },
  {
   "cell_type": "code",
   "execution_count": 92,
   "metadata": {},
   "outputs": [],
   "source": [
    "gaf_test = np.empty((data_test_transposed.shape[0], PLOTSIZE, PLOTSIZE))\n",
    "for i in range(data_test_transposed.shape[0]):\n",
    "    for j in range(PLOTSIZE):\n",
    "        for k in range(PLOTSIZE):\n",
    "            gaf_test[i][j][k] = (gaf_test_f0[i][j][k] + gaf_test_f1[i][j][k] + gaf_test_f2[i][j][k] + gaf_test_f3[i][j][k] + gaf_test_f4[i][j][k])/5"
   ]
  },
  {
   "cell_type": "code",
   "execution_count": 93,
   "metadata": {},
   "outputs": [],
   "source": [
    "gaf_img_test_tmp = []\n",
    "\n",
    "for g in gaf_test:\n",
    "    plt.figure(figsize=(6, 6))\n",
    "    plt.imshow(g)\n",
    "    buf = BytesIO()\n",
    "    plt.savefig(buf, format='png')\n",
    "    plt.close()\n",
    "\n",
    "    buf.seek(0)\n",
    "    image = Image.open(buf)\n",
    "    image = image.resize((IMAGESIZE, IMAGESIZE))\n",
    "    image_array = np.array(image)\n",
    "    gaf_img_test_tmp.append(image_array)"
   ]
  },
  {
   "cell_type": "code",
   "execution_count": 94,
   "metadata": {},
   "outputs": [
    {
     "data": {
      "text/plain": [
       "(53, 64, 64, 4)"
      ]
     },
     "execution_count": 94,
     "metadata": {},
     "output_type": "execute_result"
    }
   ],
   "source": [
    "gaf_img_test = np.stack(gaf_img_test_tmp, axis=0)\n",
    "gaf_img_test = gaf_img_test/255\n",
    "gaf_img_test.shape"
   ]
  },
  {
   "cell_type": "markdown",
   "metadata": {},
   "source": [
    "#### CNN with SMOTE"
   ]
  },
  {
   "cell_type": "code",
   "execution_count": 95,
   "metadata": {},
   "outputs": [],
   "source": [
    "tf.random.set_seed(SEED)\n",
    "cnn_gaf_aug = Sequential(name='CNN_GAF_aug')\n",
    "cnn_gaf_aug.add(Conv2D(32, (3, 3), activation='relu', input_shape=(gaf_img_train_aug.shape[1], gaf_img_train_aug.shape[2], gaf_img_train_aug.shape[3])))\n",
    "cnn_gaf_aug.add(MaxPooling2D((2, 2)))\n",
    "cnn_gaf_aug.add(Dropout(0.2))\n",
    "cnn_gaf_aug.add(Conv2D(16, (3, 3), activation='relu'))\n",
    "cnn_gaf_aug.add(MaxPooling2D((2, 2)))\n",
    "cnn_gaf_aug.add(Dropout(0.2))\n",
    "cnn_gaf_aug.add(Conv2D(8, (3, 3), activation='relu'))\n",
    "cnn_gaf_aug.add(MaxPooling2D((2, 2)))\n",
    "cnn_gaf_aug.add(Flatten())\n",
    "cnn_gaf_aug.add(Dense(8, activation='relu'))\n",
    "cnn_gaf_aug.add(Dense(NUMCLASS, activation='softmax'))\n",
    "\n",
    "cnn_gaf_aug.compile(optimizer='adam', loss='binary_crossentropy', metrics=['accuracy'])"
   ]
  },
  {
   "cell_type": "code",
   "execution_count": 96,
   "metadata": {},
   "outputs": [
    {
     "name": "stdout",
     "output_type": "stream",
     "text": [
      "Model: \"CNN_GAF_aug\"\n",
      "_________________________________________________________________\n",
      " Layer (type)                Output Shape              Param #   \n",
      "=================================================================\n",
      " conv2d_3 (Conv2D)           (None, 62, 62, 32)        1184      \n",
      "                                                                 \n",
      " max_pooling2d_3 (MaxPooling  (None, 31, 31, 32)       0         \n",
      " 2D)                                                             \n",
      "                                                                 \n",
      " dropout_2 (Dropout)         (None, 31, 31, 32)        0         \n",
      "                                                                 \n",
      " conv2d_4 (Conv2D)           (None, 29, 29, 16)        4624      \n",
      "                                                                 \n",
      " max_pooling2d_4 (MaxPooling  (None, 14, 14, 16)       0         \n",
      " 2D)                                                             \n",
      "                                                                 \n",
      " dropout_3 (Dropout)         (None, 14, 14, 16)        0         \n",
      "                                                                 \n",
      " conv2d_5 (Conv2D)           (None, 12, 12, 8)         1160      \n",
      "                                                                 \n",
      " max_pooling2d_5 (MaxPooling  (None, 6, 6, 8)          0         \n",
      " 2D)                                                             \n",
      "                                                                 \n",
      " flatten_1 (Flatten)         (None, 288)               0         \n",
      "                                                                 \n",
      " dense_4 (Dense)             (None, 8)                 2312      \n",
      "                                                                 \n",
      " dense_5 (Dense)             (None, 2)                 18        \n",
      "                                                                 \n",
      "=================================================================\n",
      "Total params: 9,298\n",
      "Trainable params: 9,298\n",
      "Non-trainable params: 0\n",
      "_________________________________________________________________\n"
     ]
    }
   ],
   "source": [
    "cnn_gaf_aug.summary()"
   ]
  },
  {
   "cell_type": "code",
   "execution_count": 97,
   "metadata": {},
   "outputs": [
    {
     "name": "stdout",
     "output_type": "stream",
     "text": [
      "Epoch 1/30\n",
      "9/9 [==============================] - 2s 162ms/step - loss: 0.7059 - accuracy: 0.5037 - val_loss: 0.6940 - val_accuracy: 0.4706\n",
      "Epoch 2/30\n",
      "9/9 [==============================] - 1s 125ms/step - loss: 0.6938 - accuracy: 0.5075 - val_loss: 0.6937 - val_accuracy: 0.4706\n",
      "Epoch 3/30\n",
      "9/9 [==============================] - 1s 129ms/step - loss: 0.6941 - accuracy: 0.5075 - val_loss: 0.6931 - val_accuracy: 0.5294\n",
      "Epoch 4/30\n",
      "9/9 [==============================] - 1s 138ms/step - loss: 0.6927 - accuracy: 0.5112 - val_loss: 0.6923 - val_accuracy: 0.5294\n",
      "Epoch 5/30\n",
      "9/9 [==============================] - 1s 151ms/step - loss: 0.6931 - accuracy: 0.5037 - val_loss: 0.6922 - val_accuracy: 0.6912\n",
      "Epoch 6/30\n",
      "9/9 [==============================] - 1s 153ms/step - loss: 0.6930 - accuracy: 0.5261 - val_loss: 0.6915 - val_accuracy: 0.6765\n",
      "Epoch 7/30\n",
      "9/9 [==============================] - 1s 150ms/step - loss: 0.6917 - accuracy: 0.5522 - val_loss: 0.6904 - val_accuracy: 0.6029\n",
      "Epoch 8/30\n",
      "9/9 [==============================] - 1s 148ms/step - loss: 0.6901 - accuracy: 0.5261 - val_loss: 0.6884 - val_accuracy: 0.5000\n",
      "Epoch 9/30\n",
      "9/9 [==============================] - 1s 135ms/step - loss: 0.6885 - accuracy: 0.5261 - val_loss: 0.6878 - val_accuracy: 0.6618\n",
      "Epoch 10/30\n",
      "9/9 [==============================] - 1s 155ms/step - loss: 0.6860 - accuracy: 0.5336 - val_loss: 0.6789 - val_accuracy: 0.6471\n",
      "Epoch 11/30\n",
      "9/9 [==============================] - 1s 145ms/step - loss: 0.6811 - accuracy: 0.5746 - val_loss: 0.6674 - val_accuracy: 0.5588\n",
      "Epoch 12/30\n",
      "9/9 [==============================] - 1s 144ms/step - loss: 0.6732 - accuracy: 0.5485 - val_loss: 0.6526 - val_accuracy: 0.5147\n",
      "Epoch 13/30\n",
      "9/9 [==============================] - 1s 152ms/step - loss: 0.6491 - accuracy: 0.5485 - val_loss: 0.6291 - val_accuracy: 0.7206\n",
      "Epoch 14/30\n",
      "9/9 [==============================] - 1s 146ms/step - loss: 0.6230 - accuracy: 0.5746 - val_loss: 0.6039 - val_accuracy: 0.7059\n",
      "Epoch 15/30\n",
      "9/9 [==============================] - 1s 155ms/step - loss: 0.6156 - accuracy: 0.6231 - val_loss: 0.6157 - val_accuracy: 0.6912\n",
      "Epoch 16/30\n",
      "9/9 [==============================] - 1s 165ms/step - loss: 0.6260 - accuracy: 0.6567 - val_loss: 0.6508 - val_accuracy: 0.5294\n",
      "Epoch 17/30\n",
      "9/9 [==============================] - 1s 134ms/step - loss: 0.6104 - accuracy: 0.6604 - val_loss: 0.5873 - val_accuracy: 0.6765\n",
      "Epoch 18/30\n",
      "9/9 [==============================] - 1s 124ms/step - loss: 0.5843 - accuracy: 0.6418 - val_loss: 0.5916 - val_accuracy: 0.6324\n",
      "Epoch 19/30\n",
      "9/9 [==============================] - 1s 110ms/step - loss: 0.5784 - accuracy: 0.6940 - val_loss: 0.5797 - val_accuracy: 0.6912\n",
      "Epoch 20/30\n",
      "9/9 [==============================] - 1s 129ms/step - loss: 0.5698 - accuracy: 0.7015 - val_loss: 0.5644 - val_accuracy: 0.7353\n",
      "Epoch 21/30\n",
      "9/9 [==============================] - 1s 144ms/step - loss: 0.5640 - accuracy: 0.6978 - val_loss: 0.5600 - val_accuracy: 0.7206\n",
      "Epoch 22/30\n",
      "9/9 [==============================] - 1s 118ms/step - loss: 0.5687 - accuracy: 0.6978 - val_loss: 0.5611 - val_accuracy: 0.7353\n",
      "Epoch 23/30\n",
      "9/9 [==============================] - 1s 114ms/step - loss: 0.5981 - accuracy: 0.6828 - val_loss: 0.5910 - val_accuracy: 0.6912\n",
      "Epoch 24/30\n",
      "9/9 [==============================] - 1s 111ms/step - loss: 0.6082 - accuracy: 0.6642 - val_loss: 0.5698 - val_accuracy: 0.7059\n",
      "Epoch 25/30\n",
      "9/9 [==============================] - 1s 128ms/step - loss: 0.5629 - accuracy: 0.6940 - val_loss: 0.5558 - val_accuracy: 0.7353\n",
      "Epoch 26/30\n",
      "9/9 [==============================] - 1s 135ms/step - loss: 0.5457 - accuracy: 0.7351 - val_loss: 0.5525 - val_accuracy: 0.7500\n",
      "Epoch 27/30\n",
      "9/9 [==============================] - 1s 146ms/step - loss: 0.5584 - accuracy: 0.7500 - val_loss: 0.5508 - val_accuracy: 0.7206\n",
      "Epoch 28/30\n",
      "9/9 [==============================] - 1s 159ms/step - loss: 0.5477 - accuracy: 0.6903 - val_loss: 0.5517 - val_accuracy: 0.7500\n",
      "Epoch 29/30\n",
      "9/9 [==============================] - 1s 167ms/step - loss: 0.5407 - accuracy: 0.7201 - val_loss: 0.5606 - val_accuracy: 0.7059\n",
      "Epoch 30/30\n",
      "9/9 [==============================] - 1s 150ms/step - loss: 0.5341 - accuracy: 0.7500 - val_loss: 0.5331 - val_accuracy: 0.7794\n"
     ]
    }
   ],
   "source": [
    "tf.random.set_seed(SEED)\n",
    "cnn_gaf_aug_history = cnn_gaf_aug.fit(gaf_img_train_aug, to_categorical(y_train_int_aug), epochs=EPOCH, batch_size=BATCHSIZE, validation_split=VAL)"
   ]
  },
  {
   "cell_type": "code",
   "execution_count": 98,
   "metadata": {},
   "outputs": [
    {
     "data": {
      "text/plain": [
       "<function matplotlib.pyplot.show(close=None, block=None)>"
      ]
     },
     "execution_count": 98,
     "metadata": {},
     "output_type": "execute_result"
    },
    {
     "data": {
      "image/png": "[encoded data removed]",
      "text/plain": [
       "<Figure size 640x480 with 1 Axes>"
      ]
     },
     "metadata": {},
     "output_type": "display_data"
    }
   ],
   "source": [
    "plt.plot(cnn_gaf_aug_history.history['loss'], label='loss')\n",
    "plt.plot(cnn_gaf_aug_history.history['val_loss'], label='val_loss')\n",
    "plt.xticks(range(0, EPOCH, 2), range(1, EPOCH+1, 2))\n",
    "plt.title('Training history of CNN model with GAF image')\n",
    "plt.xlabel('Epoch')\n",
    "plt.ylabel('Loss')\n",
    "plt.legend()\n",
    "plt.show"
   ]
  },
  {
   "cell_type": "code",
   "execution_count": 99,
   "metadata": {},
   "outputs": [],
   "source": [
    "cnn_gaf_aug.save(f'{BASE}/Models/cnn_gaf_aug.h5')"
   ]
  },
  {
   "cell_type": "markdown",
   "metadata": {},
   "source": [
    "#### ViT with SMOTE"
   ]
  },
  {
   "cell_type": "code",
   "execution_count": 100,
   "metadata": {},
   "outputs": [],
   "source": [
    "np.random.seed(SEED)\n",
    "torch.manual_seed(SEED)\n",
    "g = torch.Generator()\n",
    "g.manual_seed(SEED)\n",
    "gaf_train_aug_dataloader = DataLoader(NumpyDataset(gaf_img_train_aug, y_train_int_aug, transform), batch_size=BATCHSIZE, shuffle=False, worker_init_fn=np.random.seed(SEED), generator=g)\n",
    "gaf_test_dataloader = DataLoader(NumpyDataset(gaf_img_test, y_test_int, transform), batch_size=BATCHSIZE, shuffle=False, worker_init_fn=np.random.seed(SEED), generator=g)"
   ]
  },
  {
   "cell_type": "code",
   "execution_count": 101,
   "metadata": {},
   "outputs": [],
   "source": [
    "torch.manual_seed(SEED)\n",
    "device = torch.device('cpu')\n",
    "vit_gaf_aug = timm.create_model('vit_base_patch16_224', pretrained=True)\n",
    "vit_gaf_aug.head = nn.Linear(vit_gaf_aug.head.in_features, NUMCLASS)\n",
    "vit_gaf_aug = vit_gaf_aug.to(device)"
   ]
  },
  {
   "cell_type": "code",
   "execution_count": 102,
   "metadata": {},
   "outputs": [],
   "source": [
    "for param in vit_gaf_aug.parameters():\n",
    "    param.requires_grad = False\n",
    "for param in vit_gaf_aug.head.parameters():\n",
    "    param.requires_grad = True"
   ]
  },
  {
   "cell_type": "code",
   "execution_count": 103,
   "metadata": {},
   "outputs": [
    {
     "name": "stdout",
     "output_type": "stream",
     "text": [
      "Total parameters: 85,800,194\n",
      "Trainable parameters: 1,538\n"
     ]
    }
   ],
   "source": [
    "total_params = sum(p.numel() for p in vit_gaf_aug.parameters())\n",
    "print(f'Total parameters: {total_params:,}')\n",
    "total_trainable_params = sum(p.numel() for p in vit_gaf_aug.parameters() if p.requires_grad)\n",
    "print(f'Trainable parameters: {total_trainable_params:,}')"
   ]
  },
  {
   "cell_type": "code",
   "execution_count": 104,
   "metadata": {},
   "outputs": [
    {
     "name": "stdout",
     "output_type": "stream",
     "text": [
      "Epoch 1/30, Loss: 0.7673\n",
      "Epoch 2/30, Loss: 0.5813\n",
      "Epoch 3/30, Loss: 0.5560\n",
      "Epoch 4/30, Loss: 0.5199\n",
      "Epoch 5/30, Loss: 0.4899\n",
      "Epoch 6/30, Loss: 0.4761\n",
      "Epoch 7/30, Loss: 0.4657\n",
      "Epoch 8/30, Loss: 0.4560\n",
      "Epoch 9/30, Loss: 0.4458\n",
      "Epoch 10/30, Loss: 0.4356\n",
      "Epoch 11/30, Loss: 0.4260\n",
      "Epoch 12/30, Loss: 0.4172\n",
      "Epoch 13/30, Loss: 0.4091\n",
      "Epoch 14/30, Loss: 0.4015\n",
      "Epoch 15/30, Loss: 0.3943\n",
      "Epoch 16/30, Loss: 0.3874\n",
      "Epoch 17/30, Loss: 0.3806\n",
      "Epoch 18/30, Loss: 0.3741\n",
      "Epoch 19/30, Loss: 0.3679\n",
      "Epoch 20/30, Loss: 0.3618\n",
      "Epoch 21/30, Loss: 0.3560\n",
      "Epoch 22/30, Loss: 0.3504\n",
      "Epoch 23/30, Loss: 0.3450\n",
      "Epoch 24/30, Loss: 0.3398\n",
      "Epoch 25/30, Loss: 0.3348\n",
      "Epoch 26/30, Loss: 0.3299\n",
      "Epoch 27/30, Loss: 0.3252\n",
      "Epoch 28/30, Loss: 0.3206\n",
      "Epoch 29/30, Loss: 0.3162\n",
      "Epoch 30/30, Loss: 0.3120\n"
     ]
    }
   ],
   "source": [
    "torch.manual_seed(SEED)\n",
    "criterion = nn.CrossEntropyLoss()\n",
    "optimizer = optim.Adam(vit_gaf_aug.head.parameters(), lr=0.001)\n",
    "\n",
    "for epoch in range(EPOCH):\n",
    "    vit_gaf_aug.train()\n",
    "    running_loss = 0\n",
    "\n",
    "    for inputs, labels in gaf_train_aug_dataloader:\n",
    "        inputs, labels = inputs.to(device), labels.to(device)\n",
    "\n",
    "        optimizer.zero_grad()\n",
    "\n",
    "        outputs = vit_gaf_aug(inputs)\n",
    "        loss = criterion(outputs, labels)\n",
    "        loss.backward()\n",
    "        optimizer.step()\n",
    "\n",
    "        running_loss += loss.item() * inputs.size(0)\n",
    "\n",
    "    epoch_loss = running_loss / len(gaf_train_aug_dataloader.dataset)\n",
    "    print(f\"Epoch {epoch + 1}/{EPOCH}, Loss: {epoch_loss:.4f}\")"
   ]
  },
  {
   "cell_type": "code",
   "execution_count": 105,
   "metadata": {},
   "outputs": [],
   "source": [
    "torch.save(vit_gaf_aug.state_dict(), f'{BASE}/Models/vit_gaf_aug.pth')"
   ]
  },
  {
   "cell_type": "markdown",
   "metadata": {},
   "source": [
    "#### Evaluation"
   ]
  },
  {
   "cell_type": "markdown",
   "metadata": {},
   "source": [
    "##### CNN"
   ]
  },
  {
   "cell_type": "code",
   "execution_count": 106,
   "metadata": {},
   "outputs": [
    {
     "name": "stdout",
     "output_type": "stream",
     "text": [
      "2/2 [==============================] - 0s 0s/step\n"
     ]
    }
   ],
   "source": [
    "tf.random.set_seed(SEED)\n",
    "cnn_gaf_aug_pred = cnn_gaf_aug.predict(gaf_img_test)"
   ]
  },
  {
   "cell_type": "code",
   "execution_count": 107,
   "metadata": {},
   "outputs": [],
   "source": [
    "cnn_gaf_aug_pred_int = np.argmax(cnn_gaf_aug_pred, axis=1)"
   ]
  },
  {
   "cell_type": "code",
   "execution_count": 108,
   "metadata": {},
   "outputs": [
    {
     "name": "stdout",
     "output_type": "stream",
     "text": [
      "Accuracy: 0.660377358490566\n",
      "Precision: 0.6442857142857144\n",
      "Recall: 0.7186147186147187\n",
      "F1-Score: 0.6214285714285714\n"
     ]
    }
   ],
   "source": [
    "print('Accuracy:', accuracy_score(y_test_int, cnn_gaf_aug_pred_int))\n",
    "print('Precision:', precision_score(y_test_int, cnn_gaf_aug_pred_int, average='macro'))\n",
    "print('Recall:', recall_score(y_test_int, cnn_gaf_aug_pred_int, average='macro'))\n",
    "print('F1-Score:', f1_score(y_test_int, cnn_gaf_aug_pred_int, average='macro'))"
   ]
  },
  {
   "cell_type": "code",
   "execution_count": 109,
   "metadata": {},
   "outputs": [
    {
     "data": {
      "image/png": "[encoded data removed]",
      "text/plain": [
       "<Figure size 800x600 with 2 Axes>"
      ]
     },
     "metadata": {},
     "output_type": "display_data"
    }
   ],
   "source": [
    "confusionMatrix_cnn_gaf_aug = confusion_matrix(y_test_int, cnn_gaf_aug_pred_int, normalize='true')\n",
    "\n",
    "plt.figure(figsize=(8, 6))\n",
    "plt.imshow(confusionMatrix_cnn_gaf_aug, cmap=plt.cm.Blues, vmin=0, vmax=1)\n",
    "plt.colorbar()\n",
    "tick_marks = np.arange(len(classes))\n",
    "plt.xticks(tick_marks, classes)\n",
    "plt.yticks(tick_marks, classes)\n",
    "plt.xlabel('Predicted Label')\n",
    "plt.ylabel('Actual Label')\n",
    "\n",
    "for i in range(confusionMatrix_cnn_gaf_aug.shape[0]):\n",
    "    for j in range(confusionMatrix_cnn_gaf_aug.shape[1]):\n",
    "        plt.text(j, i, format(confusionMatrix_cnn_gaf_aug[i, j], '.2f'), ha='center', va='center', color='white' if confusionMatrix_cnn_gaf_aug[i, j] > 0.5 else 'black')\n",
    "\n",
    "plt.tight_layout()\n",
    "plt.show()"
   ]
  },
  {
   "cell_type": "markdown",
   "metadata": {},
   "source": [
    "##### ViT"
   ]
  },
  {
   "cell_type": "code",
   "execution_count": 110,
   "metadata": {},
   "outputs": [],
   "source": [
    "vit_gaf_aug_pred_int = evaluate(vit_gaf_aug, gaf_test_dataloader, device)"
   ]
  },
  {
   "cell_type": "code",
   "execution_count": 111,
   "metadata": {},
   "outputs": [
    {
     "name": "stdout",
     "output_type": "stream",
     "text": [
      "Accuracy: 0.7924528301886793\n",
      "Precision: 0.7094594594594594\n",
      "Recall: 0.7683982683982684\n",
      "F1-Score: 0.7266760431317394\n"
     ]
    }
   ],
   "source": [
    "print('Accuracy:', accuracy_score(y_test_int, vit_gaf_aug_pred_int))\n",
    "print('Precision:', precision_score(y_test_int, vit_gaf_aug_pred_int, average='macro'))\n",
    "print('Recall:', recall_score(y_test_int, vit_gaf_aug_pred_int, average='macro'))\n",
    "print('F1-Score:', f1_score(y_test_int, vit_gaf_aug_pred_int, average='macro'))"
   ]
  },
  {
   "cell_type": "code",
   "execution_count": 112,
   "metadata": {},
   "outputs": [
    {
     "data": {
      "image/png": "[encoded data removed]",
      "text/plain": [
       "<Figure size 800x600 with 2 Axes>"
      ]
     },
     "metadata": {},
     "output_type": "display_data"
    }
   ],
   "source": [
    "confusionMatrix_vit_gaf_aug = confusion_matrix(y_test_int, vit_gaf_aug_pred_int, normalize='true')\n",
    "\n",
    "plt.figure(figsize=(8, 6))\n",
    "plt.imshow(confusionMatrix_vit_gaf_aug, cmap=plt.cm.Blues, vmin=0, vmax=1)\n",
    "plt.colorbar()\n",
    "tick_marks = np.arange(len(classes))\n",
    "plt.xticks(tick_marks, classes)\n",
    "plt.yticks(tick_marks, classes)\n",
    "plt.xlabel('Predicted Label')\n",
    "plt.ylabel('Actual Label')\n",
    "\n",
    "for i in range(confusionMatrix_vit_gaf_aug.shape[0]):\n",
    "    for j in range(confusionMatrix_vit_gaf_aug.shape[1]):\n",
    "        plt.text(j, i, format(confusionMatrix_vit_gaf_aug[i, j], '.2f'), ha='center', va='center', color='white' if confusionMatrix_vit_gaf_aug[i, j] > 0.5 else 'black')\n",
    "\n",
    "plt.tight_layout()\n",
    "plt.show()"
   ]
  },
  {
   "cell_type": "markdown",
   "metadata": {},
   "source": [
    "## Markov Transition Field"
   ]
  },
  {
   "cell_type": "code",
   "execution_count": 113,
   "metadata": {},
   "outputs": [],
   "source": [
    "mtf0 = MarkovTransitionField(image_size=PLOTSIZE, n_bins=2)\n",
    "mtf1 = MarkovTransitionField(image_size=PLOTSIZE, n_bins=2)\n",
    "mtf2 = MarkovTransitionField(image_size=PLOTSIZE, n_bins=2)\n",
    "mtf3 = MarkovTransitionField(image_size=PLOTSIZE, n_bins=2)\n",
    "mtf4 = MarkovTransitionField(image_size=PLOTSIZE, n_bins=2)"
   ]
  },
  {
   "cell_type": "code",
   "execution_count": 114,
   "metadata": {},
   "outputs": [],
   "source": [
    "mtf_train_f0 = mtf0.fit_transform(data_train_transposed[:, 0, :])\n",
    "mtf_train_f1 = mtf1.fit_transform(data_train_transposed[:, 1, :])\n",
    "mtf_train_f2 = mtf2.fit_transform(data_train_transposed[:, 2, :])\n",
    "mtf_train_f3 = mtf3.fit_transform(data_train_transposed[:, 3, :])\n",
    "mtf_train_f4 = mtf4.fit_transform(data_train_transposed[:, 4, :])"
   ]
  },
  {
   "cell_type": "code",
   "execution_count": 115,
   "metadata": {},
   "outputs": [],
   "source": [
    "mtf_train = np.empty((data_train_transposed.shape[0], PLOTSIZE, PLOTSIZE))\n",
    "for i in range(data_train_transposed.shape[0]):\n",
    "    for j in range(PLOTSIZE):\n",
    "        for k in range(PLOTSIZE):\n",
    "            mtf_train[i][j][k] = (mtf_train_f0[i][j][k] + mtf_train_f1[i][j][k] + mtf_train_f2[i][j][k] + mtf_train_f3[i][j][k] + mtf_train_f4[i][j][k])/5"
   ]
  },
  {
   "cell_type": "code",
   "execution_count": 116,
   "metadata": {},
   "outputs": [],
   "source": [
    "mtf_img_train_tmp = []\n",
    "\n",
    "for g in mtf_train:\n",
    "    plt.figure(figsize=(6, 6))\n",
    "    plt.imshow(g)\n",
    "    buf = BytesIO()\n",
    "    plt.savefig(buf, format='png')\n",
    "    plt.close()\n",
    "\n",
    "    buf.seek(0)\n",
    "    image = Image.open(buf)\n",
    "    image = image.resize((IMAGESIZE, IMAGESIZE))\n",
    "    image_array = np.array(image)\n",
    "    mtf_img_train_tmp.append(image_array)"
   ]
  },
  {
   "cell_type": "code",
   "execution_count": 117,
   "metadata": {},
   "outputs": [
    {
     "data": {
      "text/plain": [
       "(208, 64, 64, 4)"
      ]
     },
     "execution_count": 117,
     "metadata": {},
     "output_type": "execute_result"
    }
   ],
   "source": [
    "mtf_img_train = np.stack(mtf_img_train_tmp, axis=0)\n",
    "mtf_img_train = mtf_img_train/255\n",
    "mtf_img_train.shape"
   ]
  },
  {
   "cell_type": "code",
   "execution_count": 118,
   "metadata": {},
   "outputs": [],
   "source": [
    "mtf_test_f0 = mtf0.transform(data_test_transposed[:, 0, :])\n",
    "mtf_test_f1 = mtf1.transform(data_test_transposed[:, 1, :])\n",
    "mtf_test_f2 = mtf2.transform(data_test_transposed[:, 2, :])\n",
    "mtf_test_f3 = mtf3.transform(data_test_transposed[:, 3, :])\n",
    "mtf_test_f4 = mtf4.transform(data_test_transposed[:, 4, :])"
   ]
  },
  {
   "cell_type": "code",
   "execution_count": 119,
   "metadata": {},
   "outputs": [],
   "source": [
    "mtf_test = np.empty((data_test_transposed.shape[0], PLOTSIZE, PLOTSIZE))\n",
    "for i in range(data_test_transposed.shape[0]):\n",
    "    for j in range(PLOTSIZE):\n",
    "        for k in range(PLOTSIZE):\n",
    "            mtf_test[i][j][k] = (mtf_test_f0[i][j][k] + mtf_test_f1[i][j][k] + mtf_test_f2[i][j][k] + mtf_test_f3[i][j][k] + mtf_test_f4[i][j][k])/5"
   ]
  },
  {
   "cell_type": "code",
   "execution_count": 120,
   "metadata": {},
   "outputs": [],
   "source": [
    "mtf_img_test_tmp = []\n",
    "\n",
    "for g in mtf_test:\n",
    "    plt.figure(figsize=(6, 6))\n",
    "    plt.imshow(g)\n",
    "    buf = BytesIO()\n",
    "    plt.savefig(buf, format='png')\n",
    "    plt.close()\n",
    "\n",
    "    buf.seek(0)\n",
    "    image = Image.open(buf)\n",
    "    image = image.resize((IMAGESIZE, IMAGESIZE))\n",
    "    image_array = np.array(image)\n",
    "    mtf_img_test_tmp.append(image_array)"
   ]
  },
  {
   "cell_type": "code",
   "execution_count": 121,
   "metadata": {},
   "outputs": [
    {
     "data": {
      "text/plain": [
       "(53, 64, 64, 4)"
      ]
     },
     "execution_count": 121,
     "metadata": {},
     "output_type": "execute_result"
    }
   ],
   "source": [
    "mtf_img_test = np.stack(mtf_img_test_tmp, axis=0)\n",
    "mtf_img_test = mtf_img_test/255\n",
    "mtf_img_test.shape"
   ]
  },
  {
   "cell_type": "markdown",
   "metadata": {},
   "source": [
    "### CNN"
   ]
  },
  {
   "cell_type": "code",
   "execution_count": 122,
   "metadata": {},
   "outputs": [],
   "source": [
    "tf.random.set_seed(SEED)\n",
    "cnn_mtf = Sequential(name='CNN_MTF')\n",
    "cnn_mtf.add(Conv2D(32, (3, 3), activation='relu', input_shape=(mtf_img_train.shape[1], mtf_img_train.shape[2], mtf_img_train.shape[3])))\n",
    "cnn_mtf.add(MaxPooling2D((2, 2)))\n",
    "cnn_mtf.add(Dropout(0.2))\n",
    "cnn_mtf.add (Conv2D(16, (3, 3), activation='relu'))\n",
    "cnn_mtf.add(MaxPooling2D((2, 2)))\n",
    "cnn_mtf.add(Dropout(0.2))\n",
    "cnn_mtf.add (Conv2D(8, (3, 3), activation='relu'))\n",
    "cnn_mtf.add(Flatten())\n",
    "cnn_mtf.add(Dense(8, activation='relu'))\n",
    "cnn_mtf.add(Dense(NUMCLASS, activation='softmax'))\n",
    "\n",
    "cnn_mtf.compile(optimizer='adam', loss='binary_crossentropy', metrics=['accuracy'])"
   ]
  },
  {
   "cell_type": "code",
   "execution_count": 123,
   "metadata": {},
   "outputs": [
    {
     "name": "stdout",
     "output_type": "stream",
     "text": [
      "Model: \"CNN_MTF\"\n",
      "_________________________________________________________________\n",
      " Layer (type)                Output Shape              Param #   \n",
      "=================================================================\n",
      " conv2d_6 (Conv2D)           (None, 62, 62, 32)        1184      \n",
      "                                                                 \n",
      " max_pooling2d_6 (MaxPooling  (None, 31, 31, 32)       0         \n",
      " 2D)                                                             \n",
      "                                                                 \n",
      " dropout_4 (Dropout)         (None, 31, 31, 32)        0         \n",
      "                                                                 \n",
      " conv2d_7 (Conv2D)           (None, 29, 29, 16)        4624      \n",
      "                                                                 \n",
      " max_pooling2d_7 (MaxPooling  (None, 14, 14, 16)       0         \n",
      " 2D)                                                             \n",
      "                                                                 \n",
      " dropout_5 (Dropout)         (None, 14, 14, 16)        0         \n",
      "                                                                 \n",
      " conv2d_8 (Conv2D)           (None, 12, 12, 8)         1160      \n",
      "                                                                 \n",
      " flatten_2 (Flatten)         (None, 1152)              0         \n",
      "                                                                 \n",
      " dense_6 (Dense)             (None, 8)                 9224      \n",
      "                                                                 \n",
      " dense_7 (Dense)             (None, 2)                 18        \n",
      "                                                                 \n",
      "=================================================================\n",
      "Total params: 16,210\n",
      "Trainable params: 16,210\n",
      "Non-trainable params: 0\n",
      "_________________________________________________________________\n"
     ]
    }
   ],
   "source": [
    "cnn_mtf.summary()"
   ]
  },
  {
   "cell_type": "code",
   "execution_count": 124,
   "metadata": {},
   "outputs": [
    {
     "name": "stdout",
     "output_type": "stream",
     "text": [
      "Epoch 1/30\n",
      "6/6 [==============================] - 2s 147ms/step - loss: 0.5464 - accuracy: 0.8012 - val_loss: 0.5261 - val_accuracy: 0.7857\n",
      "Epoch 2/30\n",
      "6/6 [==============================] - 1s 104ms/step - loss: 0.5363 - accuracy: 0.8133 - val_loss: 0.5167 - val_accuracy: 0.7857\n",
      "Epoch 3/30\n",
      "6/6 [==============================] - 1s 113ms/step - loss: 0.4872 - accuracy: 0.8133 - val_loss: 0.5489 - val_accuracy: 0.7857\n",
      "Epoch 4/30\n",
      "6/6 [==============================] - 1s 122ms/step - loss: 0.4934 - accuracy: 0.8133 - val_loss: 0.5340 - val_accuracy: 0.7857\n",
      "Epoch 5/30\n",
      "6/6 [==============================] - 1s 106ms/step - loss: 0.4953 - accuracy: 0.8133 - val_loss: 0.5185 - val_accuracy: 0.7857\n",
      "Epoch 6/30\n",
      "6/6 [==============================] - 1s 141ms/step - loss: 0.4886 - accuracy: 0.8133 - val_loss: 0.5200 - val_accuracy: 0.7857\n",
      "Epoch 7/30\n",
      "6/6 [==============================] - 1s 110ms/step - loss: 0.4899 - accuracy: 0.8133 - val_loss: 0.5554 - val_accuracy: 0.7857\n",
      "Epoch 8/30\n",
      "6/6 [==============================] - 1s 88ms/step - loss: 0.5051 - accuracy: 0.8133 - val_loss: 0.5444 - val_accuracy: 0.7857\n",
      "Epoch 9/30\n",
      "6/6 [==============================] - 1s 109ms/step - loss: 0.4886 - accuracy: 0.8133 - val_loss: 0.5159 - val_accuracy: 0.7857\n",
      "Epoch 10/30\n",
      "6/6 [==============================] - 1s 114ms/step - loss: 0.4802 - accuracy: 0.8133 - val_loss: 0.5157 - val_accuracy: 0.7857\n",
      "Epoch 11/30\n",
      "6/6 [==============================] - 1s 106ms/step - loss: 0.4768 - accuracy: 0.8133 - val_loss: 0.5149 - val_accuracy: 0.7857\n",
      "Epoch 12/30\n",
      "6/6 [==============================] - 1s 113ms/step - loss: 0.4842 - accuracy: 0.8133 - val_loss: 0.5138 - val_accuracy: 0.7857\n",
      "Epoch 13/30\n",
      "6/6 [==============================] - 1s 106ms/step - loss: 0.4721 - accuracy: 0.8133 - val_loss: 0.5255 - val_accuracy: 0.7857\n",
      "Epoch 14/30\n",
      "6/6 [==============================] - 1s 120ms/step - loss: 0.4810 - accuracy: 0.8133 - val_loss: 0.5266 - val_accuracy: 0.7857\n",
      "Epoch 15/30\n",
      "6/6 [==============================] - 1s 123ms/step - loss: 0.4760 - accuracy: 0.8133 - val_loss: 0.5135 - val_accuracy: 0.7857\n",
      "Epoch 16/30\n",
      "6/6 [==============================] - 1s 120ms/step - loss: 0.4872 - accuracy: 0.8133 - val_loss: 0.5146 - val_accuracy: 0.7857\n",
      "Epoch 17/30\n",
      "6/6 [==============================] - 1s 117ms/step - loss: 0.4689 - accuracy: 0.8133 - val_loss: 0.5217 - val_accuracy: 0.7857\n",
      "Epoch 18/30\n",
      "6/6 [==============================] - 1s 123ms/step - loss: 0.4665 - accuracy: 0.8133 - val_loss: 0.5079 - val_accuracy: 0.7857\n",
      "Epoch 19/30\n",
      "6/6 [==============================] - 1s 105ms/step - loss: 0.4652 - accuracy: 0.8133 - val_loss: 0.5099 - val_accuracy: 0.7857\n",
      "Epoch 20/30\n",
      "6/6 [==============================] - 1s 137ms/step - loss: 0.4653 - accuracy: 0.8133 - val_loss: 0.5092 - val_accuracy: 0.7857\n",
      "Epoch 21/30\n",
      "6/6 [==============================] - 1s 127ms/step - loss: 0.4638 - accuracy: 0.8133 - val_loss: 0.5059 - val_accuracy: 0.7857\n",
      "Epoch 22/30\n",
      "6/6 [==============================] - 1s 107ms/step - loss: 0.4592 - accuracy: 0.8133 - val_loss: 0.5080 - val_accuracy: 0.7857\n",
      "Epoch 23/30\n",
      "6/6 [==============================] - 1s 107ms/step - loss: 0.4604 - accuracy: 0.8133 - val_loss: 0.5053 - val_accuracy: 0.7857\n",
      "Epoch 24/30\n",
      "6/6 [==============================] - 1s 103ms/step - loss: 0.4712 - accuracy: 0.8133 - val_loss: 0.5191 - val_accuracy: 0.7857\n",
      "Epoch 25/30\n",
      "6/6 [==============================] - 1s 110ms/step - loss: 0.4624 - accuracy: 0.8133 - val_loss: 0.5014 - val_accuracy: 0.7857\n",
      "Epoch 26/30\n",
      "6/6 [==============================] - 1s 89ms/step - loss: 0.4651 - accuracy: 0.8133 - val_loss: 0.5138 - val_accuracy: 0.7857\n",
      "Epoch 27/30\n",
      "6/6 [==============================] - 1s 120ms/step - loss: 0.4606 - accuracy: 0.8133 - val_loss: 0.5052 - val_accuracy: 0.7857\n",
      "Epoch 28/30\n",
      "6/6 [==============================] - 1s 130ms/step - loss: 0.4599 - accuracy: 0.8133 - val_loss: 0.5023 - val_accuracy: 0.7857\n",
      "Epoch 29/30\n",
      "6/6 [==============================] - 1s 132ms/step - loss: 0.4613 - accuracy: 0.8133 - val_loss: 0.5036 - val_accuracy: 0.7857\n",
      "Epoch 30/30\n",
      "6/6 [==============================] - 1s 122ms/step - loss: 0.4544 - accuracy: 0.8133 - val_loss: 0.5089 - val_accuracy: 0.7857\n"
     ]
    }
   ],
   "source": [
    "tf.random.set_seed(SEED)\n",
    "cnn_mtf_history = cnn_mtf.fit(mtf_img_train, to_categorical(y_train_int), epochs=EPOCH, batch_size=BATCHSIZE, validation_split=VAL)"
   ]
  },
  {
   "cell_type": "code",
   "execution_count": 125,
   "metadata": {},
   "outputs": [],
   "source": [
    "cnn_mtf.save(f'{BASE}/Models/cnn_mtf.h5')"
   ]
  },
  {
   "cell_type": "markdown",
   "metadata": {},
   "source": [
    "### ViT"
   ]
  },
  {
   "cell_type": "code",
   "execution_count": 126,
   "metadata": {},
   "outputs": [],
   "source": [
    "np.random.seed(SEED)\n",
    "torch.manual_seed(SEED)\n",
    "g = torch.Generator()\n",
    "g.manual_seed(SEED)\n",
    "mtf_train_dataloader = DataLoader(NumpyDataset(mtf_img_train, y_train_int, transform), batch_size=BATCHSIZE, shuffle=False, worker_init_fn=np.random.seed(SEED), generator=g)\n",
    "mtf_test_dataloader = DataLoader(NumpyDataset(mtf_img_test, y_test_int, transform), batch_size=BATCHSIZE, shuffle=False, worker_init_fn=np.random.seed(SEED), generator=g)"
   ]
  },
  {
   "cell_type": "code",
   "execution_count": 127,
   "metadata": {},
   "outputs": [],
   "source": [
    "torch.manual_seed(SEED)\n",
    "device = torch.device('cpu')\n",
    "vit_mtf = timm.create_model('vit_base_patch16_224', pretrained=True)\n",
    "vit_mtf.head = nn.Linear(vit_mtf.head.in_features, NUMCLASS)\n",
    "vit_mtf = vit_mtf.to(device)"
   ]
  },
  {
   "cell_type": "code",
   "execution_count": 128,
   "metadata": {},
   "outputs": [],
   "source": [
    "for param in vit_mtf.parameters():\n",
    "    param.requires_grad = False\n",
    "for param in vit_mtf.head.parameters():\n",
    "    param.requires_grad = True"
   ]
  },
  {
   "cell_type": "code",
   "execution_count": 129,
   "metadata": {},
   "outputs": [
    {
     "name": "stdout",
     "output_type": "stream",
     "text": [
      "Total parameters: 85,800,194\n",
      "Trainable parameters: 1,538\n"
     ]
    }
   ],
   "source": [
    "total_params = sum(p.numel() for p in vit_mtf.parameters())\n",
    "print(f'Total parameters: {total_params:,}')\n",
    "total_trainable_params = sum(p.numel() for p in vit_mtf.parameters() if p.requires_grad)\n",
    "print(f'Trainable parameters: {total_trainable_params:,}')"
   ]
  },
  {
   "cell_type": "code",
   "execution_count": 130,
   "metadata": {},
   "outputs": [
    {
     "name": "stdout",
     "output_type": "stream",
     "text": [
      "Epoch 1/30, Loss: 0.7551\n",
      "Epoch 2/30, Loss: 0.5453\n",
      "Epoch 3/30, Loss: 0.4893\n",
      "Epoch 4/30, Loss: 0.4460\n",
      "Epoch 5/30, Loss: 0.4093\n",
      "Epoch 6/30, Loss: 0.3950\n",
      "Epoch 7/30, Loss: 0.3811\n",
      "Epoch 8/30, Loss: 0.3696\n",
      "Epoch 9/30, Loss: 0.3620\n",
      "Epoch 10/30, Loss: 0.3531\n",
      "Epoch 11/30, Loss: 0.3476\n",
      "Epoch 12/30, Loss: 0.3411\n",
      "Epoch 13/30, Loss: 0.3359\n",
      "Epoch 14/30, Loss: 0.3309\n",
      "Epoch 15/30, Loss: 0.3261\n",
      "Epoch 16/30, Loss: 0.3220\n",
      "Epoch 17/30, Loss: 0.3179\n",
      "Epoch 18/30, Loss: 0.3142\n",
      "Epoch 19/30, Loss: 0.3106\n",
      "Epoch 20/30, Loss: 0.3073\n",
      "Epoch 21/30, Loss: 0.3041\n",
      "Epoch 22/30, Loss: 0.3011\n",
      "Epoch 23/30, Loss: 0.2983\n",
      "Epoch 24/30, Loss: 0.2955\n",
      "Epoch 25/30, Loss: 0.2928\n",
      "Epoch 26/30, Loss: 0.2903\n",
      "Epoch 27/30, Loss: 0.2878\n",
      "Epoch 28/30, Loss: 0.2854\n",
      "Epoch 29/30, Loss: 0.2831\n",
      "Epoch 30/30, Loss: 0.2808\n"
     ]
    }
   ],
   "source": [
    "torch.manual_seed(SEED)\n",
    "criterion = nn.CrossEntropyLoss()\n",
    "optimizer = optim.Adam(vit_mtf.head.parameters(), lr=0.001)\n",
    "\n",
    "for epoch in range(EPOCH):\n",
    "    vit_mtf.train()\n",
    "    running_loss = 0\n",
    "\n",
    "    for inputs, labels in mtf_train_dataloader:\n",
    "        inputs, labels = inputs.to(device), labels.to(device)\n",
    "\n",
    "        optimizer.zero_grad()\n",
    "\n",
    "        outputs = vit_mtf(inputs)\n",
    "        loss = criterion(outputs, labels)\n",
    "        loss.backward()\n",
    "        optimizer.step()\n",
    "\n",
    "        running_loss += loss.item() * inputs.size(0)\n",
    "\n",
    "    epoch_loss = running_loss / len(mtf_train_dataloader.dataset)\n",
    "    print(f\"Epoch {epoch + 1}/{EPOCH}, Loss: {epoch_loss:.4f}\")"
   ]
  },
  {
   "cell_type": "code",
   "execution_count": 131,
   "metadata": {},
   "outputs": [],
   "source": [
    "torch.save(vit_mtf.state_dict(), f'{BASE}/Models/vit_mtf.pth')"
   ]
  },
  {
   "cell_type": "markdown",
   "metadata": {},
   "source": [
    "### Evaluation"
   ]
  },
  {
   "cell_type": "markdown",
   "metadata": {},
   "source": [
    "#### CNN"
   ]
  },
  {
   "cell_type": "code",
   "execution_count": 132,
   "metadata": {},
   "outputs": [
    {
     "name": "stdout",
     "output_type": "stream",
     "text": [
      "WARNING:tensorflow:5 out of the last 9 calls to <function Model.make_predict_function.<locals>.predict_function at 0x000002588A3EB490> triggered tf.function retracing. Tracing is expensive and the excessive number of tracings could be due to (1) creating @tf.function repeatedly in a loop, (2) passing tensors with different shapes, (3) passing Python objects instead of tensors. For (1), please define your @tf.function outside of the loop. For (2), @tf.function has reduce_retracing=True option that can avoid unnecessary retracing. For (3), please refer to https://www.tensorflow.org/guide/function#controlling_retracing and https://www.tensorflow.org/api_docs/python/tf/function for  more details.\n",
      "2/2 [==============================] - 0s 4ms/step\n"
     ]
    }
   ],
   "source": [
    "tf.random.set_seed(SEED)\n",
    "cnn_mtf_pred = cnn_mtf.predict(mtf_img_test)"
   ]
  },
  {
   "cell_type": "code",
   "execution_count": 133,
   "metadata": {},
   "outputs": [],
   "source": [
    "cnn_mtf_pred_int = np.argmax(cnn_mtf_pred, axis=1)"
   ]
  },
  {
   "cell_type": "code",
   "execution_count": 134,
   "metadata": {},
   "outputs": [
    {
     "name": "stdout",
     "output_type": "stream",
     "text": [
      "Accuracy: 0.7924528301886793\n",
      "Precision: 0.39622641509433965\n",
      "Recall: 0.5\n",
      "F1-Score: 0.4421052631578947\n"
     ]
    },
    {
     "name": "stderr",
     "output_type": "stream",
     "text": [
      "c:\\Users\\noppa\\anaconda3\\envs\\dev\\lib\\site-packages\\sklearn\\metrics\\_classification.py:1509: UndefinedMetricWarning: Precision is ill-defined and being set to 0.0 in labels with no predicted samples. Use `zero_division` parameter to control this behavior.\n",
      "  _warn_prf(average, modifier, f\"{metric.capitalize()} is\", len(result))\n"
     ]
    }
   ],
   "source": [
    "print('Accuracy:', accuracy_score(y_test_int, cnn_mtf_pred_int))\n",
    "print('Precision:', precision_score(y_test_int, cnn_mtf_pred_int, average='macro'))\n",
    "print('Recall:', recall_score(y_test_int, cnn_mtf_pred_int, average='macro'))\n",
    "print('F1-Score:', f1_score(y_test_int, cnn_mtf_pred_int, average='macro'))"
   ]
  },
  {
   "cell_type": "code",
   "execution_count": 135,
   "metadata": {},
   "outputs": [
    {
     "data": {
      "image/png": "[encoded data removed]",
      "text/plain": [
       "<Figure size 800x600 with 2 Axes>"
      ]
     },
     "metadata": {},
     "output_type": "display_data"
    }
   ],
   "source": [
    "confusionMatrix_cnn_mtf = confusion_matrix(y_test_int, cnn_mtf_pred_int, normalize='true')\n",
    "\n",
    "plt.figure(figsize=(8, 6))\n",
    "plt.imshow(confusionMatrix_cnn_mtf, cmap=plt.cm.Blues, vmin=0, vmax=1)\n",
    "plt.colorbar()\n",
    "tick_marks = np.arange(len(classes))\n",
    "plt.xticks(tick_marks, classes)\n",
    "plt.yticks(tick_marks, classes)\n",
    "plt.xlabel('Predicted Label')\n",
    "plt.ylabel('Actual Label')\n",
    "\n",
    "for i in range(confusionMatrix_cnn_mtf.shape[0]):\n",
    "    for j in range(confusionMatrix_cnn_mtf.shape[1]):\n",
    "        plt.text(j, i, format(confusionMatrix_cnn_mtf[i, j], '.2f'), ha='center', va='center', color='white' if confusionMatrix_cnn_mtf[i, j] > 0.5 else 'black')\n",
    "\n",
    "plt.tight_layout()\n",
    "plt.show()"
   ]
  },
  {
   "cell_type": "markdown",
   "metadata": {},
   "source": [
    "#### ViT"
   ]
  },
  {
   "cell_type": "code",
   "execution_count": 136,
   "metadata": {},
   "outputs": [],
   "source": [
    "vit_mtf_pred_int = evaluate(vit_mtf, mtf_test_dataloader, device)"
   ]
  },
  {
   "cell_type": "code",
   "execution_count": 137,
   "metadata": {},
   "outputs": [
    {
     "name": "stdout",
     "output_type": "stream",
     "text": [
      "Accuracy: 0.7924528301886793\n",
      "Precision: 0.6581632653061225\n",
      "Recall: 0.5670995670995671\n",
      "F1-Score: 0.5728937728937729\n"
     ]
    }
   ],
   "source": [
    "print('Accuracy:', accuracy_score(y_test_int, vit_mtf_pred_int))\n",
    "print('Precision:', precision_score(y_test_int, vit_mtf_pred_int, average='macro'))\n",
    "print('Recall:', recall_score(y_test_int, vit_mtf_pred_int, average='macro'))\n",
    "print('F1-Score:', f1_score(y_test_int, vit_mtf_pred_int, average='macro'))"
   ]
  },
  {
   "cell_type": "code",
   "execution_count": 138,
   "metadata": {},
   "outputs": [
    {
     "data": {
      "image/png": "[encoded data removed]",
      "text/plain": [
       "<Figure size 800x600 with 2 Axes>"
      ]
     },
     "metadata": {},
     "output_type": "display_data"
    }
   ],
   "source": [
    "confusionMatrix_vit_mtf = confusion_matrix(y_test_int, vit_mtf_pred_int, normalize='true')\n",
    "\n",
    "plt.figure(figsize=(8, 6))\n",
    "plt.imshow(confusionMatrix_vit_mtf, cmap=plt.cm.Blues, vmin=0, vmax=1)\n",
    "plt.colorbar()\n",
    "tick_marks = np.arange(len(classes))\n",
    "plt.xticks(tick_marks, classes)\n",
    "plt.yticks(tick_marks, classes)\n",
    "plt.xlabel('Predicted Label')\n",
    "plt.ylabel('Actual Label')\n",
    "\n",
    "for i in range(confusionMatrix_vit_mtf.shape[0]):\n",
    "    for j in range(confusionMatrix_vit_mtf.shape[1]):\n",
    "        plt.text(j, i, format(confusionMatrix_vit_mtf[i, j], '.2f'), ha='center', va='center', color='white' if confusionMatrix_vit_mtf[i, j] > 0.5 else 'black')\n",
    "\n",
    "plt.tight_layout()\n",
    "plt.show()"
   ]
  },
  {
   "cell_type": "markdown",
   "metadata": {},
   "source": [
    "### MTF Augmentation"
   ]
  },
  {
   "cell_type": "code",
   "execution_count": 139,
   "metadata": {},
   "outputs": [],
   "source": [
    "mtf0_aug = MarkovTransitionField(image_size=PLOTSIZE, n_bins=2)\n",
    "mtf1_aug = MarkovTransitionField(image_size=PLOTSIZE, n_bins=2)\n",
    "mtf2_aug = MarkovTransitionField(image_size=PLOTSIZE, n_bins=2)\n",
    "mtf3_aug = MarkovTransitionField(image_size=PLOTSIZE, n_bins=2)\n",
    "mtf4_aug = MarkovTransitionField(image_size=PLOTSIZE, n_bins=2)"
   ]
  },
  {
   "cell_type": "code",
   "execution_count": 140,
   "metadata": {},
   "outputs": [],
   "source": [
    "mtf_train_aug_f0 = mtf0_aug.fit_transform(data_train_aug_transposed[:, 0, :])\n",
    "mtf_train_aug_f1 = mtf1_aug.fit_transform(data_train_aug_transposed[:, 1, :])\n",
    "mtf_train_aug_f2 = mtf2_aug.fit_transform(data_train_aug_transposed[:, 2, :])\n",
    "mtf_train_aug_f3 = mtf3_aug.fit_transform(data_train_aug_transposed[:, 3, :])\n",
    "mtf_train_aug_f4 = mtf4_aug.fit_transform(data_train_aug_transposed[:, 4, :])"
   ]
  },
  {
   "cell_type": "code",
   "execution_count": 141,
   "metadata": {},
   "outputs": [],
   "source": [
    "mtf_train_aug = np.empty((data_train_aug_transposed.shape[0], PLOTSIZE, PLOTSIZE))\n",
    "for i in range(data_train_aug_transposed.shape[0]):\n",
    "    for j in range(PLOTSIZE):\n",
    "        for k in range(PLOTSIZE):\n",
    "            mtf_train_aug[i][j][k] = (mtf_train_aug_f0[i][j][k] + mtf_train_aug_f1[i][j][k] + mtf_train_aug_f2[i][j][k] + mtf_train_aug_f3[i][j][k] + mtf_train_aug_f4[i][j][k])/5"
   ]
  },
  {
   "cell_type": "code",
   "execution_count": 142,
   "metadata": {},
   "outputs": [],
   "source": [
    "mtf_img_train_aug_tmp = []\n",
    "\n",
    "for g in mtf_train_aug:\n",
    "    plt.figure(figsize=(6, 6))\n",
    "    plt.imshow(g)\n",
    "    buf = BytesIO()\n",
    "    plt.savefig(buf, format='png')\n",
    "    plt.close()\n",
    "\n",
    "    buf.seek(0)\n",
    "    image = Image.open(buf)\n",
    "    image = image.resize((IMAGESIZE, IMAGESIZE))\n",
    "    image_array = np.array(image)\n",
    "    mtf_img_train_aug_tmp.append(image_array)"
   ]
  },
  {
   "cell_type": "code",
   "execution_count": 143,
   "metadata": {},
   "outputs": [
    {
     "data": {
      "text/plain": [
       "(336, 64, 64, 4)"
      ]
     },
     "execution_count": 143,
     "metadata": {},
     "output_type": "execute_result"
    }
   ],
   "source": [
    "mtf_img_train_aug = np.stack(mtf_img_train_aug_tmp, axis=0)\n",
    "mtf_img_train_aug = mtf_img_train_aug/255\n",
    "mtf_img_train_aug.shape"
   ]
  },
  {
   "cell_type": "code",
   "execution_count": 144,
   "metadata": {},
   "outputs": [],
   "source": [
    "mtf_test_f0 = mtf0_aug.transform(data_test_transposed[:, 0, :])\n",
    "mtf_test_f1 = mtf1_aug.transform(data_test_transposed[:, 1, :])\n",
    "mtf_test_f2 = mtf2_aug.transform(data_test_transposed[:, 2, :])\n",
    "mtf_test_f3 = mtf3_aug.transform(data_test_transposed[:, 3, :])\n",
    "mtf_test_f4 = mtf4_aug.transform(data_test_transposed[:, 4, :])"
   ]
  },
  {
   "cell_type": "code",
   "execution_count": 145,
   "metadata": {},
   "outputs": [],
   "source": [
    "mtf_test = np.empty((data_test_transposed.shape[0], PLOTSIZE, PLOTSIZE))\n",
    "for i in range(data_test_transposed.shape[0]):\n",
    "    for j in range(PLOTSIZE):\n",
    "        for k in range(PLOTSIZE):\n",
    "            mtf_test[i][j][k] = (mtf_test_f0[i][j][k] + mtf_test_f1[i][j][k] + mtf_test_f2[i][j][k] + mtf_test_f3[i][j][k] + mtf_test_f4[i][j][k])/5"
   ]
  },
  {
   "cell_type": "code",
   "execution_count": 146,
   "metadata": {},
   "outputs": [],
   "source": [
    "mtf_img_test_tmp = []\n",
    "\n",
    "for g in mtf_test:\n",
    "    plt.figure(figsize=(6, 6))\n",
    "    plt.imshow(g)\n",
    "    buf = BytesIO()\n",
    "    plt.savefig(buf, format='png')\n",
    "    plt.close()\n",
    "\n",
    "    buf.seek(0)\n",
    "    image = Image.open(buf)\n",
    "    image = image.resize((IMAGESIZE, IMAGESIZE))\n",
    "    image_array = np.array(image)\n",
    "    mtf_img_test_tmp.append(image_array)"
   ]
  },
  {
   "cell_type": "code",
   "execution_count": 147,
   "metadata": {},
   "outputs": [
    {
     "data": {
      "text/plain": [
       "(53, 64, 64, 4)"
      ]
     },
     "execution_count": 147,
     "metadata": {},
     "output_type": "execute_result"
    }
   ],
   "source": [
    "mtf_img_test = np.stack(mtf_img_test_tmp, axis=0)\n",
    "mtf_img_test = mtf_img_test/255\n",
    "mtf_img_test.shape"
   ]
  },
  {
   "cell_type": "markdown",
   "metadata": {},
   "source": [
    "#### CNN with SMOTE"
   ]
  },
  {
   "cell_type": "code",
   "execution_count": 148,
   "metadata": {},
   "outputs": [],
   "source": [
    "tf.random.set_seed(SEED)\n",
    "cnn_mtf_aug = Sequential(name='CNN_MTF_aug')\n",
    "cnn_mtf_aug.add(Conv2D(32, (3, 3), activation='relu', input_shape=(mtf_img_train_aug.shape[1], mtf_img_train_aug.shape[2], mtf_img_train_aug.shape[3])))\n",
    "cnn_mtf_aug.add(MaxPooling2D((2, 2)))\n",
    "cnn_mtf_aug.add(Dropout(0.2))\n",
    "cnn_mtf_aug.add (Conv2D(16, (3, 3), activation='relu'))\n",
    "cnn_mtf_aug.add(MaxPooling2D((2, 2)))\n",
    "cnn_mtf_aug.add(Dropout(0.2))\n",
    "cnn_mtf_aug.add (Conv2D(8, (3, 3), activation='relu'))\n",
    "cnn_mtf_aug.add(Flatten())\n",
    "cnn_mtf_aug.add(Dense(8, activation='relu'))\n",
    "cnn_mtf_aug.add(Dense(NUMCLASS, activation='softmax'))\n",
    "\n",
    "cnn_mtf_aug.compile(optimizer='adam', loss='binary_crossentropy', metrics=['accuracy'])"
   ]
  },
  {
   "cell_type": "code",
   "execution_count": 149,
   "metadata": {},
   "outputs": [
    {
     "name": "stdout",
     "output_type": "stream",
     "text": [
      "Model: \"CNN_MTF_aug\"\n",
      "_________________________________________________________________\n",
      " Layer (type)                Output Shape              Param #   \n",
      "=================================================================\n",
      " conv2d_9 (Conv2D)           (None, 62, 62, 32)        1184      \n",
      "                                                                 \n",
      " max_pooling2d_8 (MaxPooling  (None, 31, 31, 32)       0         \n",
      " 2D)                                                             \n",
      "                                                                 \n",
      " dropout_6 (Dropout)         (None, 31, 31, 32)        0         \n",
      "                                                                 \n",
      " conv2d_10 (Conv2D)          (None, 29, 29, 16)        4624      \n",
      "                                                                 \n",
      " max_pooling2d_9 (MaxPooling  (None, 14, 14, 16)       0         \n",
      " 2D)                                                             \n",
      "                                                                 \n",
      " dropout_7 (Dropout)         (None, 14, 14, 16)        0         \n",
      "                                                                 \n",
      " conv2d_11 (Conv2D)          (None, 12, 12, 8)         1160      \n",
      "                                                                 \n",
      " flatten_3 (Flatten)         (None, 1152)              0         \n",
      "                                                                 \n",
      " dense_8 (Dense)             (None, 8)                 9224      \n",
      "                                                                 \n",
      " dense_9 (Dense)             (None, 2)                 18        \n",
      "                                                                 \n",
      "=================================================================\n",
      "Total params: 16,210\n",
      "Trainable params: 16,210\n",
      "Non-trainable params: 0\n",
      "_________________________________________________________________\n"
     ]
    }
   ],
   "source": [
    "cnn_mtf_aug.summary()"
   ]
  },
  {
   "cell_type": "code",
   "execution_count": 150,
   "metadata": {},
   "outputs": [
    {
     "name": "stdout",
     "output_type": "stream",
     "text": [
      "Epoch 1/30\n",
      "9/9 [==============================] - 2s 139ms/step - loss: 0.6980 - accuracy: 0.4627 - val_loss: 0.6928 - val_accuracy: 0.5441\n",
      "Epoch 2/30\n",
      "9/9 [==============================] - 1s 138ms/step - loss: 0.6932 - accuracy: 0.5112 - val_loss: 0.6932 - val_accuracy: 0.4559\n",
      "Epoch 3/30\n",
      "9/9 [==============================] - 1s 133ms/step - loss: 0.6934 - accuracy: 0.5037 - val_loss: 0.6917 - val_accuracy: 0.5882\n",
      "Epoch 4/30\n",
      "9/9 [==============================] - 1s 146ms/step - loss: 0.6927 - accuracy: 0.5112 - val_loss: 0.6934 - val_accuracy: 0.4559\n",
      "Epoch 5/30\n",
      "9/9 [==============================] - 1s 132ms/step - loss: 0.6934 - accuracy: 0.5075 - val_loss: 0.6915 - val_accuracy: 0.5147\n",
      "Epoch 6/30\n",
      "9/9 [==============================] - 1s 127ms/step - loss: 0.6903 - accuracy: 0.5149 - val_loss: 0.6917 - val_accuracy: 0.5441\n",
      "Epoch 7/30\n",
      "9/9 [==============================] - 1s 135ms/step - loss: 0.6895 - accuracy: 0.5261 - val_loss: 0.6932 - val_accuracy: 0.5147\n",
      "Epoch 8/30\n",
      "9/9 [==============================] - 1s 136ms/step - loss: 0.6892 - accuracy: 0.5075 - val_loss: 0.6931 - val_accuracy: 0.5147\n",
      "Epoch 9/30\n",
      "9/9 [==============================] - 1s 135ms/step - loss: 0.6823 - accuracy: 0.5821 - val_loss: 0.6954 - val_accuracy: 0.5000\n",
      "Epoch 10/30\n",
      "9/9 [==============================] - 1s 124ms/step - loss: 0.6787 - accuracy: 0.6082 - val_loss: 0.6915 - val_accuracy: 0.5294\n",
      "Epoch 11/30\n",
      "9/9 [==============================] - 1s 127ms/step - loss: 0.6773 - accuracy: 0.6082 - val_loss: 0.6986 - val_accuracy: 0.5441\n",
      "Epoch 12/30\n",
      "9/9 [==============================] - 1s 151ms/step - loss: 0.6702 - accuracy: 0.6082 - val_loss: 0.6858 - val_accuracy: 0.5441\n",
      "Epoch 13/30\n",
      "9/9 [==============================] - 1s 132ms/step - loss: 0.6781 - accuracy: 0.5821 - val_loss: 0.6815 - val_accuracy: 0.5294\n",
      "Epoch 14/30\n",
      "9/9 [==============================] - 1s 137ms/step - loss: 0.6750 - accuracy: 0.5970 - val_loss: 0.6815 - val_accuracy: 0.5588\n",
      "Epoch 15/30\n",
      "9/9 [==============================] - 1s 139ms/step - loss: 0.6660 - accuracy: 0.5858 - val_loss: 0.6855 - val_accuracy: 0.5441\n",
      "Epoch 16/30\n",
      "9/9 [==============================] - 1s 139ms/step - loss: 0.6504 - accuracy: 0.6493 - val_loss: 0.6794 - val_accuracy: 0.5588\n",
      "Epoch 17/30\n",
      "9/9 [==============================] - 1s 128ms/step - loss: 0.6543 - accuracy: 0.6082 - val_loss: 0.6823 - val_accuracy: 0.5441\n",
      "Epoch 18/30\n",
      "9/9 [==============================] - 1s 128ms/step - loss: 0.6675 - accuracy: 0.5933 - val_loss: 0.7025 - val_accuracy: 0.5441\n",
      "Epoch 19/30\n",
      "9/9 [==============================] - 1s 145ms/step - loss: 0.6633 - accuracy: 0.6007 - val_loss: 0.6753 - val_accuracy: 0.5882\n",
      "Epoch 20/30\n",
      "9/9 [==============================] - 1s 129ms/step - loss: 0.6551 - accuracy: 0.6418 - val_loss: 0.6768 - val_accuracy: 0.5588\n",
      "Epoch 21/30\n",
      "9/9 [==============================] - 1s 157ms/step - loss: 0.6682 - accuracy: 0.5746 - val_loss: 0.6784 - val_accuracy: 0.5441\n",
      "Epoch 22/30\n",
      "9/9 [==============================] - 1s 127ms/step - loss: 0.6636 - accuracy: 0.6343 - val_loss: 0.6878 - val_accuracy: 0.5588\n",
      "Epoch 23/30\n",
      "9/9 [==============================] - 1s 133ms/step - loss: 0.6487 - accuracy: 0.6045 - val_loss: 0.6746 - val_accuracy: 0.5588\n",
      "Epoch 24/30\n",
      "9/9 [==============================] - 1s 140ms/step - loss: 0.6494 - accuracy: 0.6119 - val_loss: 0.6765 - val_accuracy: 0.5735\n",
      "Epoch 25/30\n",
      "9/9 [==============================] - 1s 132ms/step - loss: 0.6500 - accuracy: 0.6194 - val_loss: 0.6742 - val_accuracy: 0.5588\n",
      "Epoch 26/30\n",
      "9/9 [==============================] - 1s 131ms/step - loss: 0.6414 - accuracy: 0.6119 - val_loss: 0.6773 - val_accuracy: 0.5882\n",
      "Epoch 27/30\n",
      "9/9 [==============================] - 1s 141ms/step - loss: 0.6287 - accuracy: 0.6493 - val_loss: 0.6703 - val_accuracy: 0.5735\n",
      "Epoch 28/30\n",
      "9/9 [==============================] - 1s 145ms/step - loss: 0.6238 - accuracy: 0.6455 - val_loss: 0.6593 - val_accuracy: 0.5294\n",
      "Epoch 29/30\n",
      "9/9 [==============================] - 1s 152ms/step - loss: 0.6095 - accuracy: 0.6791 - val_loss: 0.6544 - val_accuracy: 0.5588\n",
      "Epoch 30/30\n",
      "9/9 [==============================] - 1s 133ms/step - loss: 0.6254 - accuracy: 0.6306 - val_loss: 0.6488 - val_accuracy: 0.5147\n"
     ]
    }
   ],
   "source": [
    "tf.random.set_seed(SEED)\n",
    "cnn_mtf_aug_history = cnn_mtf_aug.fit(mtf_img_train_aug, to_categorical(y_train_int_aug), epochs=EPOCH, batch_size=BATCHSIZE, validation_split=VAL)"
   ]
  },
  {
   "cell_type": "code",
   "execution_count": 151,
   "metadata": {},
   "outputs": [],
   "source": [
    "cnn_mtf_aug.save(f'{BASE}/Models/cnn_mtf_aug.h5')"
   ]
  },
  {
   "cell_type": "markdown",
   "metadata": {},
   "source": [
    "#### ViT with SMOTE"
   ]
  },
  {
   "cell_type": "code",
   "execution_count": 152,
   "metadata": {},
   "outputs": [],
   "source": [
    "np.random.seed(SEED)\n",
    "torch.manual_seed(SEED)\n",
    "g = torch.Generator()\n",
    "g.manual_seed(SEED)\n",
    "mtf_train_aug_dataloader = DataLoader(NumpyDataset(mtf_img_train_aug, y_train_int_aug, transform), batch_size=BATCHSIZE, shuffle=False, worker_init_fn=np.random.seed(SEED), generator=g)\n",
    "mtf_test_dataloader = DataLoader(NumpyDataset(mtf_img_test, y_test_int, transform), batch_size=BATCHSIZE, shuffle=False, worker_init_fn=np.random.seed(SEED), generator=g)"
   ]
  },
  {
   "cell_type": "code",
   "execution_count": 153,
   "metadata": {},
   "outputs": [],
   "source": [
    "torch.manual_seed(SEED)\n",
    "device = torch.device('cpu')\n",
    "vit_mtf_aug = timm.create_model('vit_base_patch16_224', pretrained=True)\n",
    "vit_mtf_aug.head = nn.Linear(vit_mtf_aug.head.in_features, NUMCLASS)\n",
    "vit_mtf_aug = vit_mtf_aug.to(device)"
   ]
  },
  {
   "cell_type": "code",
   "execution_count": 154,
   "metadata": {},
   "outputs": [],
   "source": [
    "for param in vit_mtf_aug.parameters():\n",
    "    param.requires_grad = False\n",
    "for param in vit_mtf_aug.head.parameters():\n",
    "    param.requires_grad = True"
   ]
  },
  {
   "cell_type": "code",
   "execution_count": 155,
   "metadata": {},
   "outputs": [
    {
     "name": "stdout",
     "output_type": "stream",
     "text": [
      "Total parameters: 85,800,194\n",
      "Trainable parameters: 1,538\n"
     ]
    }
   ],
   "source": [
    "total_params = sum(p.numel() for p in vit_mtf_aug.parameters())\n",
    "print(f'Total parameters: {total_params:,}')\n",
    "total_trainable_params = sum(p.numel() for p in vit_mtf_aug.parameters() if p.requires_grad)\n",
    "print(f'Trainable parameters: {total_trainable_params:,}')"
   ]
  },
  {
   "cell_type": "code",
   "execution_count": 156,
   "metadata": {},
   "outputs": [
    {
     "name": "stdout",
     "output_type": "stream",
     "text": [
      "Epoch 1/30, Loss: 0.7719\n",
      "Epoch 2/30, Loss: 0.6548\n",
      "Epoch 3/30, Loss: 0.6694\n",
      "Epoch 4/30, Loss: 0.6259\n",
      "Epoch 5/30, Loss: 0.5738\n",
      "Epoch 6/30, Loss: 0.5618\n",
      "Epoch 7/30, Loss: 0.5667\n",
      "Epoch 8/30, Loss: 0.5641\n",
      "Epoch 9/30, Loss: 0.5533\n",
      "Epoch 10/30, Loss: 0.5434\n",
      "Epoch 11/30, Loss: 0.5373\n",
      "Epoch 12/30, Loss: 0.5327\n",
      "Epoch 13/30, Loss: 0.5278\n",
      "Epoch 14/30, Loss: 0.5227\n",
      "Epoch 15/30, Loss: 0.5177\n",
      "Epoch 16/30, Loss: 0.5132\n",
      "Epoch 17/30, Loss: 0.5090\n",
      "Epoch 18/30, Loss: 0.5050\n",
      "Epoch 19/30, Loss: 0.5011\n",
      "Epoch 20/30, Loss: 0.4974\n",
      "Epoch 21/30, Loss: 0.4939\n",
      "Epoch 22/30, Loss: 0.4904\n",
      "Epoch 23/30, Loss: 0.4872\n",
      "Epoch 24/30, Loss: 0.4840\n",
      "Epoch 25/30, Loss: 0.4809\n",
      "Epoch 26/30, Loss: 0.4779\n",
      "Epoch 27/30, Loss: 0.4751\n",
      "Epoch 28/30, Loss: 0.4723\n",
      "Epoch 29/30, Loss: 0.4696\n",
      "Epoch 30/30, Loss: 0.4669\n"
     ]
    }
   ],
   "source": [
    "torch.manual_seed(SEED)\n",
    "criterion = nn.CrossEntropyLoss()\n",
    "optimizer = optim.Adam(vit_mtf_aug.head.parameters(), lr=0.001)\n",
    "\n",
    "for epoch in range(EPOCH):\n",
    "    vit_mtf_aug.train()\n",
    "    running_loss = 0\n",
    "\n",
    "    for inputs, labels in mtf_train_aug_dataloader:\n",
    "        inputs, labels = inputs.to(device), labels.to(device)\n",
    "\n",
    "        optimizer.zero_grad()\n",
    "\n",
    "        outputs = vit_mtf_aug(inputs)\n",
    "        loss = criterion(outputs, labels)\n",
    "        loss.backward()\n",
    "        optimizer.step()\n",
    "\n",
    "        running_loss += loss.item() * inputs.size(0)\n",
    "\n",
    "    epoch_loss = running_loss / len(mtf_train_aug_dataloader.dataset)\n",
    "    print(f\"Epoch {epoch + 1}/{EPOCH}, Loss: {epoch_loss:.4f}\")"
   ]
  },
  {
   "cell_type": "code",
   "execution_count": 157,
   "metadata": {},
   "outputs": [],
   "source": [
    "torch.save(vit_mtf_aug.state_dict(), f'{BASE}/Models/vit_mtf_aug.pth')"
   ]
  },
  {
   "cell_type": "markdown",
   "metadata": {},
   "source": [
    "#### Evaluation"
   ]
  },
  {
   "cell_type": "markdown",
   "metadata": {},
   "source": [
    "##### CNN"
   ]
  },
  {
   "cell_type": "code",
   "execution_count": 158,
   "metadata": {},
   "outputs": [
    {
     "name": "stdout",
     "output_type": "stream",
     "text": [
      "WARNING:tensorflow:6 out of the last 11 calls to <function Model.make_predict_function.<locals>.predict_function at 0x000002587F5015A0> triggered tf.function retracing. Tracing is expensive and the excessive number of tracings could be due to (1) creating @tf.function repeatedly in a loop, (2) passing tensors with different shapes, (3) passing Python objects instead of tensors. For (1), please define your @tf.function outside of the loop. For (2), @tf.function has reduce_retracing=True option that can avoid unnecessary retracing. For (3), please refer to https://www.tensorflow.org/guide/function#controlling_retracing and https://www.tensorflow.org/api_docs/python/tf/function for  more details.\n",
      "2/2 [==============================] - 0s 31ms/step\n"
     ]
    }
   ],
   "source": [
    "tf.random.set_seed(SEED)\n",
    "cnn_mtf_aug_pred = cnn_mtf_aug.predict(mtf_img_test)"
   ]
  },
  {
   "cell_type": "code",
   "execution_count": 159,
   "metadata": {},
   "outputs": [],
   "source": [
    "cnn_mtf_aug_pred_int = np.argmax(cnn_mtf_aug_pred, axis=1)"
   ]
  },
  {
   "cell_type": "code",
   "execution_count": 160,
   "metadata": {},
   "outputs": [
    {
     "name": "stdout",
     "output_type": "stream",
     "text": [
      "Accuracy: 0.5283018867924528\n",
      "Precision: 0.6207430340557275\n",
      "Recall: 0.6688311688311688\n",
      "F1-Score: 0.517304189435337\n"
     ]
    }
   ],
   "source": [
    "print('Accuracy:', accuracy_score(y_test_int, cnn_mtf_aug_pred_int))\n",
    "print('Precision:', precision_score(y_test_int, cnn_mtf_aug_pred_int, average='macro'))\n",
    "print('Recall:', recall_score(y_test_int, cnn_mtf_aug_pred_int, average='macro'))\n",
    "print('F1-Score:', f1_score(y_test_int, cnn_mtf_aug_pred_int, average='macro'))"
   ]
  },
  {
   "cell_type": "code",
   "execution_count": 161,
   "metadata": {},
   "outputs": [
    {
     "data": {
      "image/png": "[encoded data removed]",
      "text/plain": [
       "<Figure size 800x600 with 2 Axes>"
      ]
     },
     "metadata": {},
     "output_type": "display_data"
    }
   ],
   "source": [
    "confusionMatrix_cnn_mtf_aug = confusion_matrix(y_test_int, cnn_mtf_aug_pred_int, normalize='true')\n",
    "\n",
    "plt.figure(figsize=(8, 6))\n",
    "plt.imshow(confusionMatrix_cnn_mtf_aug, cmap=plt.cm.Blues, vmin=0, vmax=1)\n",
    "plt.colorbar()\n",
    "tick_marks = np.arange(len(classes))\n",
    "plt.xticks(tick_marks, classes)\n",
    "plt.yticks(tick_marks, classes)\n",
    "plt.xlabel('Predicted Label')\n",
    "plt.ylabel('Actual Label')\n",
    "\n",
    "for i in range(confusionMatrix_cnn_mtf_aug.shape[0]):\n",
    "    for j in range(confusionMatrix_cnn_mtf_aug.shape[1]):\n",
    "        plt.text(j, i, format(confusionMatrix_cnn_mtf_aug[i, j], '.2f'), ha='center', va='center', color='white' if confusionMatrix_cnn_mtf_aug[i, j] > 0.5 else 'black')\n",
    "\n",
    "plt.tight_layout()\n",
    "plt.show()"
   ]
  },
  {
   "cell_type": "markdown",
   "metadata": {},
   "source": [
    "##### ViT"
   ]
  },
  {
   "cell_type": "code",
   "execution_count": 162,
   "metadata": {},
   "outputs": [],
   "source": [
    "vit_mtf_aug_pred_int = evaluate(vit_mtf_aug, mtf_test_dataloader, device)"
   ]
  },
  {
   "cell_type": "code",
   "execution_count": 163,
   "metadata": {},
   "outputs": [
    {
     "name": "stdout",
     "output_type": "stream",
     "text": [
      "Accuracy: 0.6226415094339622\n",
      "Precision: 0.5855072463768116\n",
      "Recall: 0.6277056277056277\n",
      "F1-Score: 0.5669934640522876\n"
     ]
    }
   ],
   "source": [
    "print('Accuracy:', accuracy_score(y_test_int, vit_mtf_aug_pred_int))\n",
    "print('Precision:', precision_score(y_test_int, vit_mtf_aug_pred_int, average='macro'))\n",
    "print('Recall:', recall_score(y_test_int, vit_mtf_aug_pred_int, average='macro'))\n",
    "print('F1-Score:', f1_score(y_test_int, vit_mtf_aug_pred_int, average='macro'))"
   ]
  },
  {
   "cell_type": "code",
   "execution_count": 164,
   "metadata": {},
   "outputs": [
    {
     "data": {
      "image/png": "[encoded data removed]",
      "text/plain": [
       "<Figure size 800x600 with 2 Axes>"
      ]
     },
     "metadata": {},
     "output_type": "display_data"
    }
   ],
   "source": [
    "confusionMatrix_vit_mtf_aug = confusion_matrix(y_test_int, vit_mtf_aug_pred_int, normalize='true')\n",
    "\n",
    "plt.figure(figsize=(8, 6))\n",
    "plt.imshow(confusionMatrix_vit_mtf_aug, cmap=plt.cm.Blues, vmin=0, vmax=1)\n",
    "plt.colorbar()\n",
    "tick_marks = np.arange(len(classes))\n",
    "plt.xticks(tick_marks, classes)\n",
    "plt.yticks(tick_marks, classes)\n",
    "plt.xlabel('Predicted Label')\n",
    "plt.ylabel('Actual Label')\n",
    "\n",
    "for i in range(confusionMatrix_vit_mtf_aug.shape[0]):\n",
    "    for j in range(confusionMatrix_vit_mtf_aug.shape[1]):\n",
    "        plt.text(j, i, format(confusionMatrix_vit_mtf_aug[i, j], '.2f'), ha='center', va='center', color='white' if confusionMatrix_vit_mtf_aug[i, j] > 0.5 else 'black')\n",
    "\n",
    "plt.tight_layout()\n",
    "plt.show()"
   ]
  },
  {
   "cell_type": "markdown",
   "metadata": {},
   "source": [
    "## Correlation Matrix"
   ]
  },
  {
   "cell_type": "code",
   "execution_count": 165,
   "metadata": {},
   "outputs": [],
   "source": [
    "contour_train_tmp = []\n",
    "\n",
    "for i in range(data_train_transposed.shape[0]):\n",
    "    df = pd.DataFrame({\n",
    "        'Feature1': data_train_transposed[i, 0, :],\n",
    "        'Feature2': data_train_transposed[i, 1, :],\n",
    "        'Feature3': data_train_transposed[i, 2, :],\n",
    "        'Feature4': data_train_transposed[i, 3, :],\n",
    "        'Feature5': data_train_transposed[i, 4, :]\n",
    "        })\n",
    "    cor = df.corr()\n",
    "\n",
    "    X, Y = np.meshgrid(range(cor.shape[1]), range(cor.shape[0]))\n",
    "    Z = cor.values\n",
    "\n",
    "    plt.figure(figsize=(6, 6))\n",
    "    plt.contourf(X, Y, Z)\n",
    "    plt.contour(X, Y, Z, colors='black')\n",
    "    buf = BytesIO()\n",
    "    plt.savefig(buf, format='png')\n",
    "    plt.close()\n",
    "\n",
    "    buf.seek(0)\n",
    "    image = Image.open(buf)\n",
    "    image = image.resize((IMAGESIZE, IMAGESIZE))\n",
    "    image_array = np.array(image)\n",
    "    contour_train_tmp.append(image_array)"
   ]
  },
  {
   "cell_type": "code",
   "execution_count": 166,
   "metadata": {},
   "outputs": [
    {
     "data": {
      "text/plain": [
       "(208, 64, 64, 4)"
      ]
     },
     "execution_count": 166,
     "metadata": {},
     "output_type": "execute_result"
    }
   ],
   "source": [
    "contour_train = np.stack(contour_train_tmp, axis=0)\n",
    "contour_train = contour_train/255\n",
    "contour_train.shape"
   ]
  },
  {
   "cell_type": "code",
   "execution_count": 167,
   "metadata": {},
   "outputs": [],
   "source": [
    "contour_train_aug_tmp = []\n",
    "\n",
    "for i in range(data_train_aug_transposed.shape[0]):\n",
    "    df = pd.DataFrame({\n",
    "        'Feature1': data_train_aug_transposed[i, 0, :],\n",
    "        'Feature2': data_train_aug_transposed[i, 1, :],\n",
    "        'Feature3': data_train_aug_transposed[i, 2, :],\n",
    "        'Feature4': data_train_aug_transposed[i, 3, :],\n",
    "        'Feature5': data_train_aug_transposed[i, 4, :]\n",
    "        })\n",
    "    cor = df.corr()\n",
    "\n",
    "    X, Y = np.meshgrid(range(cor.shape[1]), range(cor.shape[0]))\n",
    "    Z = cor.values\n",
    "\n",
    "    plt.figure(figsize=(6, 6))\n",
    "    plt.contourf(X, Y, Z)\n",
    "    plt.contour(X, Y, Z, colors='black')\n",
    "    buf = BytesIO()\n",
    "    plt.savefig(buf, format='png')\n",
    "    plt.close()\n",
    "\n",
    "    buf.seek(0)\n",
    "    image = Image.open(buf)\n",
    "    image = image.resize((IMAGESIZE, IMAGESIZE))\n",
    "    image_array = np.array(image)\n",
    "    contour_train_aug_tmp.append(image_array)"
   ]
  },
  {
   "cell_type": "code",
   "execution_count": 168,
   "metadata": {},
   "outputs": [
    {
     "data": {
      "text/plain": [
       "(336, 64, 64, 4)"
      ]
     },
     "execution_count": 168,
     "metadata": {},
     "output_type": "execute_result"
    }
   ],
   "source": [
    "contour_train_aug = np.stack(contour_train_aug_tmp, axis=0)\n",
    "contour_train_aug = contour_train_aug/255\n",
    "contour_train_aug.shape"
   ]
  },
  {
   "cell_type": "code",
   "execution_count": 169,
   "metadata": {},
   "outputs": [],
   "source": [
    "contour_test_tmp = []\n",
    "\n",
    "for i in range(data_test_transposed.shape[0]):\n",
    "    df = pd.DataFrame({\n",
    "        'Feature1': data_test_transposed[i, 0, :],\n",
    "        'Feature2': data_test_transposed[i, 1, :],\n",
    "        'Feature3': data_test_transposed[i, 2, :],\n",
    "        'Feature4': data_test_transposed[i, 3, :],\n",
    "        'Feature5': data_test_transposed[i, 4, :]\n",
    "        })\n",
    "    cor = df.corr()\n",
    "\n",
    "    X, Y = np.meshgrid(range(cor.shape[1]), range(cor.shape[0]))\n",
    "    Z = cor.values\n",
    "\n",
    "    plt.figure(figsize=(6, 6))\n",
    "    plt.contourf(X, Y, Z)\n",
    "    plt.contour(X, Y, Z, colors='black')\n",
    "    buf = BytesIO()\n",
    "    plt.savefig(buf, format='png')\n",
    "    plt.close()\n",
    "\n",
    "    buf.seek(0)\n",
    "    image = Image.open(buf)\n",
    "    image = image.resize((IMAGESIZE, IMAGESIZE))\n",
    "    image_array = np.array(image)\n",
    "    contour_test_tmp.append(image_array)"
   ]
  },
  {
   "cell_type": "code",
   "execution_count": 170,
   "metadata": {},
   "outputs": [
    {
     "data": {
      "text/plain": [
       "(53, 64, 64, 4)"
      ]
     },
     "execution_count": 170,
     "metadata": {},
     "output_type": "execute_result"
    }
   ],
   "source": [
    "contour_test = np.stack(contour_test_tmp, axis=0)\n",
    "contour_test = contour_test/255\n",
    "contour_test.shape"
   ]
  },
  {
   "cell_type": "markdown",
   "metadata": {},
   "source": [
    "### CNN"
   ]
  },
  {
   "cell_type": "code",
   "execution_count": 171,
   "metadata": {},
   "outputs": [],
   "source": [
    "tf.random.set_seed(SEED)\n",
    "cnn_contour = Sequential(name='CNN_Contour')\n",
    "cnn_contour.add(Conv2D(32, (3, 3), activation='relu', input_shape=(contour_train.shape[1], contour_train.shape[2], contour_train.shape[3])))\n",
    "cnn_contour.add(MaxPooling2D((2, 2)))\n",
    "cnn_contour.add(Dropout(0.2))\n",
    "cnn_contour.add (Conv2D(16, (3, 3), activation='relu'))\n",
    "cnn_contour.add(MaxPooling2D((2, 2)))\n",
    "cnn_contour.add(Dropout(0.2))\n",
    "cnn_contour.add (Conv2D(8, (3, 3), activation='relu'))\n",
    "cnn_contour.add(Flatten())\n",
    "cnn_contour.add(Dense(8, activation='relu'))\n",
    "cnn_contour.add(Dense(NUMCLASS, activation='softmax'))\n",
    "\n",
    "cnn_contour.compile(optimizer='adam', loss='binary_crossentropy', metrics=['accuracy'])"
   ]
  },
  {
   "cell_type": "code",
   "execution_count": 172,
   "metadata": {},
   "outputs": [
    {
     "name": "stdout",
     "output_type": "stream",
     "text": [
      "Model: \"CNN_Contour\"\n",
      "_________________________________________________________________\n",
      " Layer (type)                Output Shape              Param #   \n",
      "=================================================================\n",
      " conv2d_12 (Conv2D)          (None, 62, 62, 32)        1184      \n",
      "                                                                 \n",
      " max_pooling2d_10 (MaxPoolin  (None, 31, 31, 32)       0         \n",
      " g2D)                                                            \n",
      "                                                                 \n",
      " dropout_8 (Dropout)         (None, 31, 31, 32)        0         \n",
      "                                                                 \n",
      " conv2d_13 (Conv2D)          (None, 29, 29, 16)        4624      \n",
      "                                                                 \n",
      " max_pooling2d_11 (MaxPoolin  (None, 14, 14, 16)       0         \n",
      " g2D)                                                            \n",
      "                                                                 \n",
      " dropout_9 (Dropout)         (None, 14, 14, 16)        0         \n",
      "                                                                 \n",
      " conv2d_14 (Conv2D)          (None, 12, 12, 8)         1160      \n",
      "                                                                 \n",
      " flatten_4 (Flatten)         (None, 1152)              0         \n",
      "                                                                 \n",
      " dense_10 (Dense)            (None, 8)                 9224      \n",
      "                                                                 \n",
      " dense_11 (Dense)            (None, 2)                 18        \n",
      "                                                                 \n",
      "=================================================================\n",
      "Total params: 16,210\n",
      "Trainable params: 16,210\n",
      "Non-trainable params: 0\n",
      "_________________________________________________________________\n"
     ]
    }
   ],
   "source": [
    "cnn_contour.summary()"
   ]
  },
  {
   "cell_type": "code",
   "execution_count": 173,
   "metadata": {},
   "outputs": [
    {
     "name": "stdout",
     "output_type": "stream",
     "text": [
      "Epoch 1/30\n",
      "6/6 [==============================] - 2s 170ms/step - loss: 0.5470 - accuracy: 0.7711 - val_loss: 0.5352 - val_accuracy: 0.7857\n",
      "Epoch 2/30\n",
      "6/6 [==============================] - 1s 132ms/step - loss: 0.5417 - accuracy: 0.8133 - val_loss: 0.5202 - val_accuracy: 0.7857\n",
      "Epoch 3/30\n",
      "6/6 [==============================] - 1s 97ms/step - loss: 0.4851 - accuracy: 0.8133 - val_loss: 0.5483 - val_accuracy: 0.7857\n",
      "Epoch 4/30\n",
      "6/6 [==============================] - 1s 127ms/step - loss: 0.5085 - accuracy: 0.8133 - val_loss: 0.5423 - val_accuracy: 0.7857\n",
      "Epoch 5/30\n",
      "6/6 [==============================] - 1s 106ms/step - loss: 0.4888 - accuracy: 0.8133 - val_loss: 0.5189 - val_accuracy: 0.7857\n",
      "Epoch 6/30\n",
      "6/6 [==============================] - 1s 91ms/step - loss: 0.4869 - accuracy: 0.8133 - val_loss: 0.5194 - val_accuracy: 0.7857\n",
      "Epoch 7/30\n",
      "6/6 [==============================] - 1s 94ms/step - loss: 0.4830 - accuracy: 0.8133 - val_loss: 0.5518 - val_accuracy: 0.7857\n",
      "Epoch 8/30\n",
      "6/6 [==============================] - 1s 130ms/step - loss: 0.5058 - accuracy: 0.8133 - val_loss: 0.5520 - val_accuracy: 0.7857\n",
      "Epoch 9/30\n",
      "6/6 [==============================] - 1s 119ms/step - loss: 0.4889 - accuracy: 0.8133 - val_loss: 0.5217 - val_accuracy: 0.7857\n",
      "Epoch 10/30\n",
      "6/6 [==============================] - 1s 130ms/step - loss: 0.4787 - accuracy: 0.8133 - val_loss: 0.5205 - val_accuracy: 0.7857\n",
      "Epoch 11/30\n",
      "6/6 [==============================] - 1s 145ms/step - loss: 0.4842 - accuracy: 0.8133 - val_loss: 0.5190 - val_accuracy: 0.7857\n",
      "Epoch 12/30\n",
      "6/6 [==============================] - 1s 92ms/step - loss: 0.4890 - accuracy: 0.8133 - val_loss: 0.5192 - val_accuracy: 0.7857\n",
      "Epoch 13/30\n",
      "6/6 [==============================] - 1s 133ms/step - loss: 0.4814 - accuracy: 0.8133 - val_loss: 0.5404 - val_accuracy: 0.7857\n",
      "Epoch 14/30\n",
      "6/6 [==============================] - 1s 132ms/step - loss: 0.4886 - accuracy: 0.8133 - val_loss: 0.5413 - val_accuracy: 0.7857\n",
      "Epoch 15/30\n",
      "6/6 [==============================] - 1s 109ms/step - loss: 0.4821 - accuracy: 0.8133 - val_loss: 0.5248 - val_accuracy: 0.7857\n",
      "Epoch 16/30\n",
      "6/6 [==============================] - 1s 123ms/step - loss: 0.4880 - accuracy: 0.8133 - val_loss: 0.5183 - val_accuracy: 0.7857\n",
      "Epoch 17/30\n",
      "6/6 [==============================] - 1s 136ms/step - loss: 0.4798 - accuracy: 0.8133 - val_loss: 0.5292 - val_accuracy: 0.7857\n",
      "Epoch 18/30\n",
      "6/6 [==============================] - 1s 135ms/step - loss: 0.4791 - accuracy: 0.8133 - val_loss: 0.5251 - val_accuracy: 0.7857\n",
      "Epoch 19/30\n",
      "6/6 [==============================] - 1s 121ms/step - loss: 0.4770 - accuracy: 0.8133 - val_loss: 0.5298 - val_accuracy: 0.7857\n",
      "Epoch 20/30\n",
      "6/6 [==============================] - 1s 116ms/step - loss: 0.4784 - accuracy: 0.8133 - val_loss: 0.5231 - val_accuracy: 0.7857\n",
      "Epoch 21/30\n",
      "6/6 [==============================] - 1s 130ms/step - loss: 0.4781 - accuracy: 0.8133 - val_loss: 0.5198 - val_accuracy: 0.7857\n",
      "Epoch 22/30\n",
      "6/6 [==============================] - 1s 147ms/step - loss: 0.4762 - accuracy: 0.8133 - val_loss: 0.5209 - val_accuracy: 0.7857\n",
      "Epoch 23/30\n",
      "6/6 [==============================] - 1s 117ms/step - loss: 0.4770 - accuracy: 0.8133 - val_loss: 0.5167 - val_accuracy: 0.7857\n",
      "Epoch 24/30\n",
      "6/6 [==============================] - 1s 127ms/step - loss: 0.4885 - accuracy: 0.8133 - val_loss: 0.5341 - val_accuracy: 0.7857\n",
      "Epoch 25/30\n",
      "6/6 [==============================] - 1s 137ms/step - loss: 0.4741 - accuracy: 0.8133 - val_loss: 0.5151 - val_accuracy: 0.7857\n",
      "Epoch 26/30\n",
      "6/6 [==============================] - 1s 108ms/step - loss: 0.4855 - accuracy: 0.8133 - val_loss: 0.5213 - val_accuracy: 0.7857\n",
      "Epoch 27/30\n",
      "6/6 [==============================] - 1s 110ms/step - loss: 0.4667 - accuracy: 0.8133 - val_loss: 0.5220 - val_accuracy: 0.7857\n",
      "Epoch 28/30\n",
      "6/6 [==============================] - 1s 109ms/step - loss: 0.4694 - accuracy: 0.8133 - val_loss: 0.5149 - val_accuracy: 0.7857\n",
      "Epoch 29/30\n",
      "6/6 [==============================] - 1s 125ms/step - loss: 0.4776 - accuracy: 0.8133 - val_loss: 0.5159 - val_accuracy: 0.7857\n",
      "Epoch 30/30\n",
      "6/6 [==============================] - 1s 133ms/step - loss: 0.4700 - accuracy: 0.8133 - val_loss: 0.5210 - val_accuracy: 0.7857\n"
     ]
    }
   ],
   "source": [
    "tf.random.set_seed(SEED)\n",
    "cnn_contour_history = cnn_contour.fit(contour_train, to_categorical(y_train_int), epochs=EPOCH, batch_size=BATCHSIZE, validation_split=VAL)"
   ]
  },
  {
   "cell_type": "code",
   "execution_count": 174,
   "metadata": {},
   "outputs": [],
   "source": [
    "cnn_contour.save(f'{BASE}/Models/cnn_contour.h5')"
   ]
  },
  {
   "cell_type": "markdown",
   "metadata": {},
   "source": [
    "### CNN with SMOTE"
   ]
  },
  {
   "cell_type": "code",
   "execution_count": 175,
   "metadata": {},
   "outputs": [],
   "source": [
    "tf.random.set_seed(SEED)\n",
    "cnn_contour_aug = Sequential(name='CNN_Contour_aug')\n",
    "cnn_contour_aug.add(Conv2D(32, (3, 3), activation='relu', input_shape=(contour_train_aug.shape[1], contour_train_aug.shape[2], contour_train_aug.shape[3])))\n",
    "cnn_contour_aug.add(MaxPooling2D((2, 2)))\n",
    "cnn_contour_aug.add(Dropout(0.2))\n",
    "cnn_contour_aug.add (Conv2D(16, (3, 3), activation='relu'))\n",
    "cnn_contour_aug.add(MaxPooling2D((2, 2)))\n",
    "cnn_contour_aug.add(Dropout(0.2))\n",
    "cnn_contour_aug.add (Conv2D(8, (3, 3), activation='relu'))\n",
    "cnn_contour_aug.add(Flatten())\n",
    "cnn_contour_aug.add(Dense(8, activation='relu'))\n",
    "cnn_contour_aug.add(Dense(NUMCLASS, activation='softmax'))\n",
    "\n",
    "cnn_contour_aug.compile(optimizer='adam', loss='binary_crossentropy', metrics=['accuracy'])"
   ]
  },
  {
   "cell_type": "code",
   "execution_count": 176,
   "metadata": {},
   "outputs": [
    {
     "name": "stdout",
     "output_type": "stream",
     "text": [
      "Model: \"CNN_Contour_aug\"\n",
      "_________________________________________________________________\n",
      " Layer (type)                Output Shape              Param #   \n",
      "=================================================================\n",
      " conv2d_15 (Conv2D)          (None, 62, 62, 32)        1184      \n",
      "                                                                 \n",
      " max_pooling2d_12 (MaxPoolin  (None, 31, 31, 32)       0         \n",
      " g2D)                                                            \n",
      "                                                                 \n",
      " dropout_10 (Dropout)        (None, 31, 31, 32)        0         \n",
      "                                                                 \n",
      " conv2d_16 (Conv2D)          (None, 29, 29, 16)        4624      \n",
      "                                                                 \n",
      " max_pooling2d_13 (MaxPoolin  (None, 14, 14, 16)       0         \n",
      " g2D)                                                            \n",
      "                                                                 \n",
      " dropout_11 (Dropout)        (None, 14, 14, 16)        0         \n",
      "                                                                 \n",
      " conv2d_17 (Conv2D)          (None, 12, 12, 8)         1160      \n",
      "                                                                 \n",
      " flatten_5 (Flatten)         (None, 1152)              0         \n",
      "                                                                 \n",
      " dense_12 (Dense)            (None, 8)                 9224      \n",
      "                                                                 \n",
      " dense_13 (Dense)            (None, 2)                 18        \n",
      "                                                                 \n",
      "=================================================================\n",
      "Total params: 16,210\n",
      "Trainable params: 16,210\n",
      "Non-trainable params: 0\n",
      "_________________________________________________________________\n"
     ]
    }
   ],
   "source": [
    "cnn_contour_aug.summary()"
   ]
  },
  {
   "cell_type": "code",
   "execution_count": 177,
   "metadata": {},
   "outputs": [
    {
     "name": "stdout",
     "output_type": "stream",
     "text": [
      "Epoch 1/30\n",
      "9/9 [==============================] - 4s 163ms/step - loss: 0.7088 - accuracy: 0.4888 - val_loss: 0.6878 - val_accuracy: 0.5294\n",
      "Epoch 2/30\n",
      "9/9 [==============================] - 1s 123ms/step - loss: 0.6970 - accuracy: 0.4701 - val_loss: 0.6958 - val_accuracy: 0.4706\n",
      "Epoch 3/30\n",
      "9/9 [==============================] - 1s 126ms/step - loss: 0.6932 - accuracy: 0.5037 - val_loss: 0.6897 - val_accuracy: 0.5441\n",
      "Epoch 4/30\n",
      "9/9 [==============================] - 1s 133ms/step - loss: 0.6892 - accuracy: 0.5709 - val_loss: 0.6870 - val_accuracy: 0.5441\n",
      "Epoch 5/30\n",
      "9/9 [==============================] - 1s 143ms/step - loss: 0.6896 - accuracy: 0.5410 - val_loss: 0.6817 - val_accuracy: 0.5294\n",
      "Epoch 6/30\n",
      "9/9 [==============================] - 1s 136ms/step - loss: 0.6866 - accuracy: 0.5410 - val_loss: 0.6799 - val_accuracy: 0.6765\n",
      "Epoch 7/30\n",
      "9/9 [==============================] - 1s 154ms/step - loss: 0.6824 - accuracy: 0.6045 - val_loss: 0.6750 - val_accuracy: 0.7059\n",
      "Epoch 8/30\n",
      "9/9 [==============================] - 1s 159ms/step - loss: 0.6766 - accuracy: 0.6119 - val_loss: 0.6597 - val_accuracy: 0.6912\n",
      "Epoch 9/30\n",
      "9/9 [==============================] - 1s 150ms/step - loss: 0.6610 - accuracy: 0.6381 - val_loss: 0.6390 - val_accuracy: 0.7353\n",
      "Epoch 10/30\n",
      "9/9 [==============================] - 1s 129ms/step - loss: 0.6425 - accuracy: 0.6642 - val_loss: 0.6155 - val_accuracy: 0.7353\n",
      "Epoch 11/30\n",
      "9/9 [==============================] - 1s 139ms/step - loss: 0.6318 - accuracy: 0.6828 - val_loss: 0.5917 - val_accuracy: 0.6765\n",
      "Epoch 12/30\n",
      "9/9 [==============================] - 1s 150ms/step - loss: 0.6145 - accuracy: 0.6754 - val_loss: 0.5721 - val_accuracy: 0.7500\n",
      "Epoch 13/30\n",
      "9/9 [==============================] - 1s 145ms/step - loss: 0.5919 - accuracy: 0.6828 - val_loss: 0.5359 - val_accuracy: 0.7941\n",
      "Epoch 14/30\n",
      "9/9 [==============================] - 1s 154ms/step - loss: 0.5580 - accuracy: 0.7239 - val_loss: 0.5174 - val_accuracy: 0.7941\n",
      "Epoch 15/30\n",
      "9/9 [==============================] - 1s 138ms/step - loss: 0.5514 - accuracy: 0.7090 - val_loss: 0.4823 - val_accuracy: 0.7941\n",
      "Epoch 16/30\n",
      "9/9 [==============================] - 1s 153ms/step - loss: 0.5171 - accuracy: 0.7239 - val_loss: 0.4415 - val_accuracy: 0.8088\n",
      "Epoch 17/30\n",
      "9/9 [==============================] - 1s 142ms/step - loss: 0.4819 - accuracy: 0.7612 - val_loss: 0.4256 - val_accuracy: 0.8529\n",
      "Epoch 18/30\n",
      "9/9 [==============================] - 1s 141ms/step - loss: 0.4661 - accuracy: 0.7612 - val_loss: 0.4158 - val_accuracy: 0.8088\n",
      "Epoch 19/30\n",
      "9/9 [==============================] - 1s 145ms/step - loss: 0.4477 - accuracy: 0.7687 - val_loss: 0.3981 - val_accuracy: 0.7647\n",
      "Epoch 20/30\n",
      "9/9 [==============================] - 1s 160ms/step - loss: 0.4513 - accuracy: 0.7537 - val_loss: 0.4466 - val_accuracy: 0.7206\n",
      "Epoch 21/30\n",
      "9/9 [==============================] - 1s 127ms/step - loss: 0.4428 - accuracy: 0.7500 - val_loss: 0.4009 - val_accuracy: 0.7941\n",
      "Epoch 22/30\n",
      "9/9 [==============================] - 1s 144ms/step - loss: 0.4188 - accuracy: 0.7724 - val_loss: 0.3759 - val_accuracy: 0.8529\n",
      "Epoch 23/30\n",
      "9/9 [==============================] - 1s 141ms/step - loss: 0.3857 - accuracy: 0.7873 - val_loss: 0.3524 - val_accuracy: 0.8235\n",
      "Epoch 24/30\n",
      "9/9 [==============================] - 1s 151ms/step - loss: 0.3920 - accuracy: 0.7761 - val_loss: 0.3552 - val_accuracy: 0.7941\n",
      "Epoch 25/30\n",
      "9/9 [==============================] - 1s 149ms/step - loss: 0.4053 - accuracy: 0.7724 - val_loss: 0.3807 - val_accuracy: 0.7353\n",
      "Epoch 26/30\n",
      "9/9 [==============================] - 1s 149ms/step - loss: 0.3742 - accuracy: 0.7687 - val_loss: 0.3716 - val_accuracy: 0.7647\n",
      "Epoch 27/30\n",
      "9/9 [==============================] - 1s 151ms/step - loss: 0.3730 - accuracy: 0.7724 - val_loss: 0.3642 - val_accuracy: 0.7647\n",
      "Epoch 28/30\n",
      "9/9 [==============================] - 1s 166ms/step - loss: 0.3607 - accuracy: 0.7799 - val_loss: 0.3608 - val_accuracy: 0.7500\n",
      "Epoch 29/30\n",
      "9/9 [==============================] - 2s 171ms/step - loss: 0.3452 - accuracy: 0.7836 - val_loss: 0.3473 - val_accuracy: 0.8088\n",
      "Epoch 30/30\n",
      "9/9 [==============================] - 1s 142ms/step - loss: 0.3401 - accuracy: 0.7910 - val_loss: 0.3517 - val_accuracy: 0.8382\n"
     ]
    }
   ],
   "source": [
    "tf.random.set_seed(SEED)\n",
    "cnn_contour_aug_history = cnn_contour_aug.fit(contour_train_aug, to_categorical(y_train_int_aug), epochs=EPOCH, batch_size=BATCHSIZE, validation_split=VAL)"
   ]
  },
  {
   "cell_type": "code",
   "execution_count": 178,
   "metadata": {},
   "outputs": [],
   "source": [
    "cnn_contour_aug.save(f'{BASE}/Models/cnn_contour_aug.h5')"
   ]
  },
  {
   "cell_type": "markdown",
   "metadata": {},
   "source": [
    "### ViT"
   ]
  },
  {
   "cell_type": "code",
   "execution_count": 179,
   "metadata": {},
   "outputs": [],
   "source": [
    "np.random.seed(SEED)\n",
    "torch.manual_seed(SEED)\n",
    "g = torch.Generator()\n",
    "g.manual_seed(SEED)\n",
    "contour_train_dataloader = DataLoader(NumpyDataset(contour_train, y_train_int_aug, transform), batch_size=BATCHSIZE, shuffle=False, worker_init_fn=np.random.seed(SEED), generator=g)\n",
    "contour_test_dataloader = DataLoader(NumpyDataset(contour_test, y_test_int, transform), batch_size=BATCHSIZE, shuffle=False, worker_init_fn=np.random.seed(SEED), generator=g)"
   ]
  },
  {
   "cell_type": "code",
   "execution_count": 180,
   "metadata": {},
   "outputs": [],
   "source": [
    "torch.manual_seed(SEED)\n",
    "device = torch.device('cpu')\n",
    "vit_contour = timm.create_model('vit_base_patch16_224', pretrained=True)\n",
    "vit_contour.head = nn.Linear(vit_contour.head.in_features, NUMCLASS)\n",
    "vit_contour = vit_contour.to(device)"
   ]
  },
  {
   "cell_type": "code",
   "execution_count": 181,
   "metadata": {},
   "outputs": [],
   "source": [
    "for param in vit_contour.parameters():\n",
    "    param.requires_grad = False\n",
    "for param in vit_contour.head.parameters():\n",
    "    param.requires_grad = True"
   ]
  },
  {
   "cell_type": "code",
   "execution_count": 182,
   "metadata": {},
   "outputs": [
    {
     "name": "stdout",
     "output_type": "stream",
     "text": [
      "Total parameters: 85,800,194\n",
      "Trainable parameters: 1,538\n"
     ]
    }
   ],
   "source": [
    "total_params = sum(p.numel() for p in vit_contour.parameters())\n",
    "print(f'Total parameters: {total_params:,}')\n",
    "total_trainable_params = sum(p.numel() for p in vit_contour.parameters() if p.requires_grad)\n",
    "print(f'Trainable parameters: {total_trainable_params:,}')"
   ]
  },
  {
   "cell_type": "code",
   "execution_count": 183,
   "metadata": {},
   "outputs": [
    {
     "name": "stdout",
     "output_type": "stream",
     "text": [
      "Epoch 1/30, Loss: 0.8789\n",
      "Epoch 2/30, Loss: 0.8005\n",
      "Epoch 3/30, Loss: 0.6918\n",
      "Epoch 4/30, Loss: 0.6846\n",
      "Epoch 5/30, Loss: 0.6583\n",
      "Epoch 6/30, Loss: 0.6434\n",
      "Epoch 7/30, Loss: 0.6360\n",
      "Epoch 8/30, Loss: 0.6210\n",
      "Epoch 9/30, Loss: 0.6165\n",
      "Epoch 10/30, Loss: 0.6066\n",
      "Epoch 11/30, Loss: 0.5987\n",
      "Epoch 12/30, Loss: 0.5930\n",
      "Epoch 13/30, Loss: 0.5857\n",
      "Epoch 14/30, Loss: 0.5799\n",
      "Epoch 15/30, Loss: 0.5745\n",
      "Epoch 16/30, Loss: 0.5688\n",
      "Epoch 17/30, Loss: 0.5636\n",
      "Epoch 18/30, Loss: 0.5588\n",
      "Epoch 19/30, Loss: 0.5540\n",
      "Epoch 20/30, Loss: 0.5494\n",
      "Epoch 21/30, Loss: 0.5451\n",
      "Epoch 22/30, Loss: 0.5408\n",
      "Epoch 23/30, Loss: 0.5368\n",
      "Epoch 24/30, Loss: 0.5329\n",
      "Epoch 25/30, Loss: 0.5291\n",
      "Epoch 26/30, Loss: 0.5254\n",
      "Epoch 27/30, Loss: 0.5218\n",
      "Epoch 28/30, Loss: 0.5184\n",
      "Epoch 29/30, Loss: 0.5150\n",
      "Epoch 30/30, Loss: 0.5118\n"
     ]
    }
   ],
   "source": [
    "torch.manual_seed(SEED)\n",
    "criterion = nn.CrossEntropyLoss()\n",
    "optimizer = optim.Adam(vit_contour.head.parameters(), lr=0.001)\n",
    "\n",
    "for epoch in range(EPOCH):\n",
    "    vit_contour.train()\n",
    "    running_loss = 0\n",
    "\n",
    "    for inputs, labels in contour_train_dataloader:\n",
    "        inputs, labels = inputs.to(device), labels.to(device)\n",
    "\n",
    "        optimizer.zero_grad()\n",
    "\n",
    "        outputs = vit_contour(inputs)\n",
    "        loss = criterion(outputs, labels)\n",
    "        loss.backward()\n",
    "        optimizer.step()\n",
    "\n",
    "        running_loss += loss.item() * inputs.size(0)\n",
    "\n",
    "    epoch_loss = running_loss / len(contour_train_dataloader.dataset)\n",
    "    print(f\"Epoch {epoch + 1}/{EPOCH}, Loss: {epoch_loss:.4f}\")"
   ]
  },
  {
   "cell_type": "code",
   "execution_count": 184,
   "metadata": {},
   "outputs": [],
   "source": [
    "torch.save(vit_contour.state_dict(), f'{BASE}/Models/vit_contour.pth')"
   ]
  },
  {
   "cell_type": "markdown",
   "metadata": {},
   "source": [
    "### ViT with SMOTE"
   ]
  },
  {
   "cell_type": "code",
   "execution_count": 185,
   "metadata": {},
   "outputs": [],
   "source": [
    "np.random.seed(SEED)\n",
    "torch.manual_seed(SEED)\n",
    "g = torch.Generator()\n",
    "g.manual_seed(SEED)\n",
    "contour_train_aug_dataloader = DataLoader(NumpyDataset(contour_train_aug, y_train_int_aug, transform), batch_size=BATCHSIZE, shuffle=False, worker_init_fn=np.random.seed(SEED), generator=g)"
   ]
  },
  {
   "cell_type": "code",
   "execution_count": 186,
   "metadata": {},
   "outputs": [],
   "source": [
    "torch.manual_seed(SEED)\n",
    "device = torch.device('cpu')\n",
    "vit_contour_aug = timm.create_model('vit_base_patch16_224', pretrained=True)\n",
    "vit_contour_aug.head = nn.Linear(vit_contour_aug.head.in_features, NUMCLASS)\n",
    "vit_contour_aug = vit_contour_aug.to(device)"
   ]
  },
  {
   "cell_type": "code",
   "execution_count": 187,
   "metadata": {},
   "outputs": [],
   "source": [
    "for param in vit_contour_aug.parameters():\n",
    "    param.requires_grad = False\n",
    "for param in vit_contour_aug.head.parameters():\n",
    "    param.requires_grad = True"
   ]
  },
  {
   "cell_type": "code",
   "execution_count": 188,
   "metadata": {},
   "outputs": [
    {
     "name": "stdout",
     "output_type": "stream",
     "text": [
      "Total parameters: 85,800,194\n",
      "Trainable parameters: 1,538\n"
     ]
    }
   ],
   "source": [
    "total_params = sum(p.numel() for p in vit_contour_aug.parameters())\n",
    "print(f'Total parameters: {total_params:,}')\n",
    "total_trainable_params = sum(p.numel() for p in vit_contour_aug.parameters() if p.requires_grad)\n",
    "print(f'Trainable parameters: {total_trainable_params:,}')"
   ]
  },
  {
   "cell_type": "code",
   "execution_count": 189,
   "metadata": {},
   "outputs": [
    {
     "name": "stdout",
     "output_type": "stream",
     "text": [
      "Epoch 1/30, Loss: 0.8084\n",
      "Epoch 2/30, Loss: 0.6281\n",
      "Epoch 3/30, Loss: 0.5836\n",
      "Epoch 4/30, Loss: 0.5552\n",
      "Epoch 5/30, Loss: 0.5310\n",
      "Epoch 6/30, Loss: 0.5090\n",
      "Epoch 7/30, Loss: 0.4895\n",
      "Epoch 8/30, Loss: 0.4722\n",
      "Epoch 9/30, Loss: 0.4566\n",
      "Epoch 10/30, Loss: 0.4422\n",
      "Epoch 11/30, Loss: 0.4291\n",
      "Epoch 12/30, Loss: 0.4172\n",
      "Epoch 13/30, Loss: 0.4061\n",
      "Epoch 14/30, Loss: 0.3959\n",
      "Epoch 15/30, Loss: 0.3865\n",
      "Epoch 16/30, Loss: 0.3777\n",
      "Epoch 17/30, Loss: 0.3694\n",
      "Epoch 18/30, Loss: 0.3617\n",
      "Epoch 19/30, Loss: 0.3544\n",
      "Epoch 20/30, Loss: 0.3475\n",
      "Epoch 21/30, Loss: 0.3411\n",
      "Epoch 22/30, Loss: 0.3349\n",
      "Epoch 23/30, Loss: 0.3291\n",
      "Epoch 24/30, Loss: 0.3235\n",
      "Epoch 25/30, Loss: 0.3182\n",
      "Epoch 26/30, Loss: 0.3131\n",
      "Epoch 27/30, Loss: 0.3082\n",
      "Epoch 28/30, Loss: 0.3034\n",
      "Epoch 29/30, Loss: 0.2988\n",
      "Epoch 30/30, Loss: 0.2943\n"
     ]
    }
   ],
   "source": [
    "torch.manual_seed(SEED)\n",
    "criterion = nn.CrossEntropyLoss()\n",
    "optimizer = optim.Adam(vit_contour_aug.head.parameters(), lr=0.001)\n",
    "\n",
    "for epoch in range(EPOCH):\n",
    "    vit_contour_aug.train()\n",
    "    running_loss = 0\n",
    "\n",
    "    for inputs, labels in contour_train_aug_dataloader:\n",
    "        inputs, labels = inputs.to(device), labels.to(device)\n",
    "\n",
    "        optimizer.zero_grad()\n",
    "\n",
    "        outputs = vit_contour_aug(inputs)\n",
    "        loss = criterion(outputs, labels)\n",
    "        loss.backward()\n",
    "        optimizer.step()\n",
    "\n",
    "        running_loss += loss.item() * inputs.size(0)\n",
    "\n",
    "    epoch_loss = running_loss / len(contour_train_aug_dataloader.dataset)\n",
    "    print(f\"Epoch {epoch + 1}/{EPOCH}, Loss: {epoch_loss:.4f}\")"
   ]
  },
  {
   "cell_type": "code",
   "execution_count": 190,
   "metadata": {},
   "outputs": [],
   "source": [
    "torch.save(vit_contour_aug.state_dict(), f'{BASE}/Models/vit_contour_aug.pth')"
   ]
  },
  {
   "cell_type": "markdown",
   "metadata": {},
   "source": [
    "### Evaluation"
   ]
  },
  {
   "cell_type": "markdown",
   "metadata": {},
   "source": [
    "#### CNN"
   ]
  },
  {
   "cell_type": "code",
   "execution_count": 191,
   "metadata": {},
   "outputs": [
    {
     "name": "stdout",
     "output_type": "stream",
     "text": [
      "2/2 [==============================] - 1s 43ms/step\n"
     ]
    }
   ],
   "source": [
    "tf.random.set_seed(SEED)\n",
    "cnn_contour_pred = cnn_contour.predict(contour_test)"
   ]
  },
  {
   "cell_type": "code",
   "execution_count": 192,
   "metadata": {},
   "outputs": [],
   "source": [
    "cnn_contour_pred_int = np.argmax(cnn_contour_pred, axis=1)"
   ]
  },
  {
   "cell_type": "code",
   "execution_count": 193,
   "metadata": {},
   "outputs": [
    {
     "name": "stdout",
     "output_type": "stream",
     "text": [
      "Accuracy: 0.7924528301886793\n",
      "Precision: 0.39622641509433965\n",
      "Recall: 0.5\n",
      "F1-Score: 0.4421052631578947\n"
     ]
    },
    {
     "name": "stderr",
     "output_type": "stream",
     "text": [
      "c:\\Users\\noppa\\anaconda3\\envs\\dev\\lib\\site-packages\\sklearn\\metrics\\_classification.py:1509: UndefinedMetricWarning: Precision is ill-defined and being set to 0.0 in labels with no predicted samples. Use `zero_division` parameter to control this behavior.\n",
      "  _warn_prf(average, modifier, f\"{metric.capitalize()} is\", len(result))\n"
     ]
    }
   ],
   "source": [
    "print('Accuracy:', accuracy_score(y_test_int, cnn_contour_pred_int))\n",
    "print('Precision:', precision_score(y_test_int, cnn_contour_pred_int, average='macro'))\n",
    "print('Recall:', recall_score(y_test_int, cnn_contour_pred_int, average='macro'))\n",
    "print('F1-Score:', f1_score(y_test_int, cnn_contour_pred_int, average='macro'))"
   ]
  },
  {
   "cell_type": "code",
   "execution_count": 194,
   "metadata": {},
   "outputs": [
    {
     "data": {
      "image/png": "[encoded data removed]",
      "text/plain": [
       "<Figure size 800x600 with 2 Axes>"
      ]
     },
     "metadata": {},
     "output_type": "display_data"
    }
   ],
   "source": [
    "confusionMatrix_cnn_contour = confusion_matrix(y_test_int, cnn_contour_pred_int, normalize='true')\n",
    "\n",
    "plt.figure(figsize=(8, 6))\n",
    "plt.imshow(confusionMatrix_cnn_contour, cmap=plt.cm.Blues, vmin=0, vmax=1)\n",
    "plt.colorbar()\n",
    "tick_marks = np.arange(len(classes))\n",
    "plt.xticks(tick_marks, classes)\n",
    "plt.yticks(tick_marks, classes)\n",
    "plt.xlabel('Predicted Label')\n",
    "plt.ylabel('Actual Label')\n",
    "\n",
    "for i in range(confusionMatrix_cnn_contour.shape[0]):\n",
    "    for j in range(confusionMatrix_cnn_contour.shape[1]):\n",
    "        plt.text(j, i, format(confusionMatrix_cnn_contour[i, j], '.2f'), ha='center', va='center', color='white' if confusionMatrix_cnn_contour[i, j] > 0.5 else 'black')\n",
    "\n",
    "plt.tight_layout()\n",
    "plt.show()"
   ]
  },
  {
   "cell_type": "markdown",
   "metadata": {},
   "source": [
    "#### CNN with SMOTE"
   ]
  },
  {
   "cell_type": "code",
   "execution_count": 195,
   "metadata": {},
   "outputs": [
    {
     "name": "stdout",
     "output_type": "stream",
     "text": [
      "2/2 [==============================] - 0s 0s/step\n"
     ]
    }
   ],
   "source": [
    "tf.random.set_seed(SEED)\n",
    "cnn_contour_aug_pred = cnn_contour_aug.predict(contour_test)"
   ]
  },
  {
   "cell_type": "code",
   "execution_count": 196,
   "metadata": {},
   "outputs": [],
   "source": [
    "cnn_contour_aug_pred_int = np.argmax(cnn_contour_aug_pred, axis=1)"
   ]
  },
  {
   "cell_type": "code",
   "execution_count": 197,
   "metadata": {},
   "outputs": [
    {
     "name": "stdout",
     "output_type": "stream",
     "text": [
      "Accuracy: 0.7735849056603774\n",
      "Precision: 0.6426767676767677\n",
      "Recall: 0.6222943722943723\n",
      "F1-Score: 0.6302325581395349\n"
     ]
    }
   ],
   "source": [
    "print('Accuracy:', accuracy_score(y_test_int, cnn_contour_aug_pred_int))\n",
    "print('Precision:', precision_score(y_test_int, cnn_contour_aug_pred_int, average='macro'))\n",
    "print('Recall:', recall_score(y_test_int, cnn_contour_aug_pred_int, average='macro'))\n",
    "print('F1-Score:', f1_score(y_test_int, cnn_contour_aug_pred_int, average='macro'))"
   ]
  },
  {
   "cell_type": "code",
   "execution_count": 198,
   "metadata": {},
   "outputs": [
    {
     "data": {
      "image/png": "[encoded data removed]",
      "text/plain": [
       "<Figure size 800x600 with 2 Axes>"
      ]
     },
     "metadata": {},
     "output_type": "display_data"
    }
   ],
   "source": [
    "confusionMatrix_cnn_contour_aug = confusion_matrix(y_test_int, cnn_contour_aug_pred_int, normalize='true')\n",
    "\n",
    "plt.figure(figsize=(8, 6))\n",
    "plt.imshow(confusionMatrix_cnn_contour_aug, cmap=plt.cm.Blues, vmin=0, vmax=1)\n",
    "plt.colorbar()\n",
    "tick_marks = np.arange(len(classes))\n",
    "plt.xticks(tick_marks, classes)\n",
    "plt.yticks(tick_marks, classes)\n",
    "plt.xlabel('Predicted Label')\n",
    "plt.ylabel('Actual Label')\n",
    "\n",
    "for i in range(confusionMatrix_cnn_contour_aug.shape[0]):\n",
    "    for j in range(confusionMatrix_cnn_contour_aug.shape[1]):\n",
    "        plt.text(j, i, format(confusionMatrix_cnn_contour_aug[i, j], '.2f'), ha='center', va='center', color='white' if confusionMatrix_cnn_contour_aug[i, j] > 0.5 else 'black')\n",
    "\n",
    "plt.tight_layout()\n",
    "plt.show()"
   ]
  },
  {
   "cell_type": "markdown",
   "metadata": {},
   "source": [
    "#### ViT"
   ]
  },
  {
   "cell_type": "code",
   "execution_count": 199,
   "metadata": {},
   "outputs": [],
   "source": [
    "vit_contour_pred_int = evaluate(vit_contour, contour_test_dataloader, device)"
   ]
  },
  {
   "cell_type": "code",
   "execution_count": 200,
   "metadata": {},
   "outputs": [
    {
     "name": "stdout",
     "output_type": "stream",
     "text": [
      "Accuracy: 0.5849056603773585\n",
      "Precision: 0.477124183006536\n",
      "Recall: 0.46969696969696967\n",
      "F1-Score: 0.4661172161172161\n"
     ]
    }
   ],
   "source": [
    "print('Accuracy:', accuracy_score(y_test_int, vit_contour_pred_int))\n",
    "print('Precision:', precision_score(y_test_int, vit_contour_pred_int, average='macro'))\n",
    "print('Recall:', recall_score(y_test_int, vit_contour_pred_int, average='macro'))\n",
    "print('F1-Score:', f1_score(y_test_int, vit_contour_pred_int, average='macro'))"
   ]
  },
  {
   "cell_type": "code",
   "execution_count": 201,
   "metadata": {},
   "outputs": [
    {
     "data": {
      "image/png": "[encoded data removed]",
      "text/plain": [
       "<Figure size 800x600 with 2 Axes>"
      ]
     },
     "metadata": {},
     "output_type": "display_data"
    }
   ],
   "source": [
    "confusionMatrix_vit_contour = confusion_matrix(y_test_int, vit_contour_pred_int, normalize='true')\n",
    "\n",
    "plt.figure(figsize=(8, 6))\n",
    "plt.imshow(confusionMatrix_vit_contour, cmap=plt.cm.Blues, vmin=0, vmax=1)\n",
    "plt.colorbar()\n",
    "tick_marks = np.arange(len(classes))\n",
    "plt.xticks(tick_marks, classes)\n",
    "plt.yticks(tick_marks, classes)\n",
    "plt.xlabel('Predicted Label')\n",
    "plt.ylabel('Actual Label')\n",
    "\n",
    "for i in range(confusionMatrix_vit_contour.shape[0]):\n",
    "    for j in range(confusionMatrix_vit_contour.shape[1]):\n",
    "        plt.text(j, i, format(confusionMatrix_vit_contour[i, j], '.2f'), ha='center', va='center', color='white' if confusionMatrix_vit_contour[i, j] > 0.5 else 'black')\n",
    "\n",
    "plt.tight_layout()\n",
    "plt.show()"
   ]
  },
  {
   "cell_type": "markdown",
   "metadata": {},
   "source": [
    "#### ViT with SMOTE"
   ]
  },
  {
   "cell_type": "code",
   "execution_count": 202,
   "metadata": {},
   "outputs": [],
   "source": [
    "vit_contour_aug_pred_int = evaluate(vit_contour_aug, contour_test_dataloader, device)"
   ]
  },
  {
   "cell_type": "code",
   "execution_count": 203,
   "metadata": {},
   "outputs": [
    {
     "name": "stdout",
     "output_type": "stream",
     "text": [
      "Accuracy: 0.6792452830188679\n",
      "Precision: 0.5952380952380952\n",
      "Recall: 0.6298701298701299\n",
      "F1-Score: 0.5965069413345275\n"
     ]
    }
   ],
   "source": [
    "print('Accuracy:', accuracy_score(y_test_int, vit_contour_aug_pred_int))\n",
    "print('Precision:', precision_score(y_test_int, vit_contour_aug_pred_int, average='macro'))\n",
    "print('Recall:', recall_score(y_test_int, vit_contour_aug_pred_int, average='macro'))\n",
    "print('F1-Score:', f1_score(y_test_int, vit_contour_aug_pred_int, average='macro'))"
   ]
  },
  {
   "cell_type": "code",
   "execution_count": 204,
   "metadata": {},
   "outputs": [
    {
     "data": {
      "image/png": "[encoded data removed]",
      "text/plain": [
       "<Figure size 800x600 with 2 Axes>"
      ]
     },
     "metadata": {},
     "output_type": "display_data"
    }
   ],
   "source": [
    "confusionMatrix_vit_contour_aug = confusion_matrix(y_test_int, vit_contour_aug_pred_int, normalize='true')\n",
    "\n",
    "plt.figure(figsize=(8, 6))\n",
    "plt.imshow(confusionMatrix_vit_contour_aug, cmap=plt.cm.Blues, vmin=0, vmax=1)\n",
    "plt.colorbar()\n",
    "tick_marks = np.arange(len(classes))\n",
    "plt.xticks(tick_marks, classes)\n",
    "plt.yticks(tick_marks, classes)\n",
    "plt.xlabel('Predicted Label')\n",
    "plt.ylabel('Actual Label')\n",
    "\n",
    "for i in range(confusionMatrix_vit_contour_aug.shape[0]):\n",
    "    for j in range(confusionMatrix_vit_contour_aug.shape[1]):\n",
    "        plt.text(j, i, format(confusionMatrix_vit_contour_aug[i, j], '.2f'), ha='center', va='center', color='white' if confusionMatrix_vit_contour_aug[i, j] > 0.5 else 'black')\n",
    "\n",
    "plt.tight_layout()\n",
    "plt.show()"
   ]
  },
  {
   "cell_type": "code",
   "execution_count": null,
   "metadata": {},
   "outputs": [],
   "source": []
  }
 ],
 "metadata": {
  "kernelspec": {
   "display_name": "development",
   "language": "python",
   "name": "python3"
  },
  "language_info": {
   "codemirror_mode": {
    "name": "ipython",
    "version": 3
   },
   "file_extension": ".py",
   "mimetype": "text/x-python",
   "name": "python",
   "nbconvert_exporter": "python",
   "pygments_lexer": "ipython3",
   "version": "3.10.13"
  }
 },
 "nbformat": 4,
 "nbformat_minor": 2
}
